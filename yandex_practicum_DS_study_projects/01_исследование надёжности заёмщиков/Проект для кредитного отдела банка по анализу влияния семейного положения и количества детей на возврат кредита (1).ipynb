{
 "cells": [
  {
   "cell_type": "markdown",
   "id": "26b8ba8f",
   "metadata": {
    "toc": true
   },
   "source": [
    "<h1>Содержание работы<span class=\"tocSkip\"></span></h1>\n",
    "<div class=\"toc\"><ul class=\"toc-item\"><li><span><a href=\"#Шаг1.-Загрузка-и-первичный-осмотр-данных.\" data-toc-modified-id=\"Шаг1.-Загрузка-и-первичный-осмотр-данных.-1\"><span class=\"toc-item-num\">1&nbsp;&nbsp;</span>Шаг1. Загрузка и первичный осмотр данных.</a></span><ul class=\"toc-item\"><li><span><a href=\"#Выводы:\" data-toc-modified-id=\"Выводы:-1.1\"><span class=\"toc-item-num\">1.1&nbsp;&nbsp;</span>Выводы:</a></span></li></ul></li><li><span><a href=\"#Шаг2-Предобработка-данных.\" data-toc-modified-id=\"Шаг2-Предобработка-данных.-2\"><span class=\"toc-item-num\">2&nbsp;&nbsp;</span>Шаг2 Предобработка данных.</a></span><ul class=\"toc-item\"><li><span><a href=\"#Выводы:\" data-toc-modified-id=\"Выводы:-2.1\"><span class=\"toc-item-num\">2.1&nbsp;&nbsp;</span>Выводы:</a></span></li></ul></li><li><span><a href=\"#Шаг3.-Исследование-данных.\" data-toc-modified-id=\"Шаг3.-Исследование-данных.-3\"><span class=\"toc-item-num\">3&nbsp;&nbsp;</span>Шаг3. Исследование данных.</a></span><ul class=\"toc-item\"><li><span><a href=\"#Анализ-влияния-количества-детей.\" data-toc-modified-id=\"Анализ-влияния-количества-детей.-3.1\"><span class=\"toc-item-num\">3.1&nbsp;&nbsp;</span>Анализ влияния количества детей.</a></span><ul class=\"toc-item\"><li><span><a href=\"#Выводы:\" data-toc-modified-id=\"Выводы:-3.1.1\"><span class=\"toc-item-num\">3.1.1&nbsp;&nbsp;</span>Выводы:</a></span></li></ul></li><li><span><a href=\"#Анализ-влияния-семейного-положения.\" data-toc-modified-id=\"Анализ-влияния-семейного-положения.-3.2\"><span class=\"toc-item-num\">3.2&nbsp;&nbsp;</span>Анализ влияния семейного положения.</a></span><ul class=\"toc-item\"><li><span><a href=\"#Выводы:\" data-toc-modified-id=\"Выводы:-3.2.1\"><span class=\"toc-item-num\">3.2.1&nbsp;&nbsp;</span>Выводы:</a></span></li></ul></li><li><span><a href=\"#Анализ-влияния-категории-дохода.\" data-toc-modified-id=\"Анализ-влияния-категории-дохода.-3.3\"><span class=\"toc-item-num\">3.3&nbsp;&nbsp;</span>Анализ влияния категории дохода.</a></span><ul class=\"toc-item\"><li><span><a href=\"#Выводы:\" data-toc-modified-id=\"Выводы:-3.3.1\"><span class=\"toc-item-num\">3.3.1&nbsp;&nbsp;</span>Выводы:</a></span></li></ul></li><li><span><a href=\"#Анализ-влияния-цели-кредита.\" data-toc-modified-id=\"Анализ-влияния-цели-кредита.-3.4\"><span class=\"toc-item-num\">3.4&nbsp;&nbsp;</span>Анализ влияния цели кредита.</a></span><ul class=\"toc-item\"><li><span><a href=\"#Выводы:\" data-toc-modified-id=\"Выводы:-3.4.1\"><span class=\"toc-item-num\">3.4.1&nbsp;&nbsp;</span>Выводы:</a></span></li></ul></li></ul></li><li><span><a href=\"#Шаг3-Общие-выводы.\" data-toc-modified-id=\"Шаг3-Общие-выводы.-4\"><span class=\"toc-item-num\">4&nbsp;&nbsp;</span>Шаг3 Общие выводы.</a></span><ul class=\"toc-item\"><li><span><a href=\"#Возможные-причины-появления-пропусков-в-исходных-данных\" data-toc-modified-id=\"Возможные-причины-появления-пропусков-в-исходных-данных-4.1\"><span class=\"toc-item-num\">4.1&nbsp;&nbsp;</span>Возможные причины появления пропусков в исходных данных</a></span></li><li><span><a href=\"#Почему-заполнить-пропуски-медианным-значением-—-лучшее-решение-для-количественных-переменных.\" data-toc-modified-id=\"Почему-заполнить-пропуски-медианным-значением-—-лучшее-решение-для-количественных-переменных.-4.2\"><span class=\"toc-item-num\">4.2&nbsp;&nbsp;</span>Почему заполнить пропуски медианным значением — лучшее решение для количественных переменных.</a></span></li><li><span><a href=\"#Итоговый-вывод.\" data-toc-modified-id=\"Итоговый-вывод.-4.3\"><span class=\"toc-item-num\">4.3&nbsp;&nbsp;</span>Итоговый вывод.</a></span></li></ul></li></ul></div>"
   ]
  },
  {
   "cell_type": "markdown",
   "id": "7bee9092",
   "metadata": {},
   "source": [
    "# Проект для кредитного отдела банка по анализу влияния семейного положения и количества детей на возврат кредита."
   ]
  },
  {
   "cell_type": "markdown",
   "id": "cef8952d",
   "metadata": {},
   "source": [
    "**Описание проекта:**\n",
    "\n",
    "Заказчик — кредитный отдел банка. Нужно разобраться, влияет ли семейное положение и количество детей клиента на факт погашения кредита в срок. Входные данные от банка — статистика о платёжеспособности клиентов.\n",
    "\n",
    "Результаты исследования будут учтены при построении модели кредитного скоринга — специальной системы, которая оценивает способность потенциального заёмщика вернуть кредит банку.\n",
    "\n",
    "**Цель исследования:**\n",
    "\n",
    "1. Загрузить и подготовить данные.\n",
    "2. Исследовать данные. \n",
    "3. Сделать выводы.\n",
    "\n",
    "**Описание данных:**\n",
    "\n",
    "Данные я получу из файла /datasets/data.csv :\n",
    "* children — количество детей в семье\n",
    "* days_employed — общий трудовой стаж в днях\n",
    "* dob_years — возраст клиента в годах\n",
    "* education — уровень образования клиента\n",
    "* education_id — идентификатор уровня образования\n",
    "* family_status — семейное положение\n",
    "* family_status_id — идентификатор семейного положения\n",
    "* gender — пол клиента\n",
    "* income_type — тип занятости\n",
    "* debt — имел ли задолженность по возврату кредитов\n",
    "* total_income — ежемесячный доход\n",
    "* purpose — цель получения кредита\n",
    "\n",
    "\n",
    "\n",
    "\n",
    "\n",
    "**Ход исследования:**\n",
    "Данные я получю из файла, полученного от заказчика . О качестве данных ничего не известно , поэтому перед тем как приступать к целям исследования понадобится обзор данных. Я проверю данные на ошибки и оценю их влияние на исследование . Затем на этапе предобработки я поищу возможность исправить все ошибки данных, которые не приведут к искажению конечного результата. Далее создам необходимые таблицы данных и приступлю к проведению исследовательского анализа. Сформулирую общие выводы.\n",
    "\n",
    "Таким образом мое исследование пройдет в четыре этапа:\n",
    " * загрузка и первичный осмотр данных. \n",
    " * предобработка данных.\n",
    " * исследование данных .\n",
    " * общий вывод."
   ]
  },
  {
   "cell_type": "markdown",
   "id": "f345d1ad",
   "metadata": {},
   "source": [
    "## Шаг1. Загрузка и первичный осмотр данных."
   ]
  },
  {
   "cell_type": "code",
   "execution_count": 1,
   "id": "6be28da9",
   "metadata": {},
   "outputs": [],
   "source": [
    "# Импорт основных библиотек\n",
    "import pandas as pd\n",
    "import seaborn as sns\n",
    "import matplotlib.pyplot as plt\n",
    "from scipy.stats import chi2_contingency"
   ]
  },
  {
   "cell_type": "code",
   "execution_count": 2,
   "id": "b127eb19",
   "metadata": {},
   "outputs": [],
   "source": [
    "# Загрузка данных\n",
    "try:\n",
    "    data = pd.read_csv('/datasets/data.csv')\n",
    "except:\n",
    "    data = pd.read_csv('https://...../datasets/data.csv')"
   ]
  },
  {
   "cell_type": "code",
   "execution_count": 3,
   "id": "57c05041",
   "metadata": {
    "scrolled": true
   },
   "outputs": [
    {
     "name": "stdout",
     "output_type": "stream",
     "text": [
      "<class 'pandas.core.frame.DataFrame'>\n",
      "RangeIndex: 21525 entries, 0 to 21524\n",
      "Data columns (total 12 columns):\n",
      " #   Column            Non-Null Count  Dtype  \n",
      "---  ------            --------------  -----  \n",
      " 0   children          21525 non-null  int64  \n",
      " 1   days_employed     19351 non-null  float64\n",
      " 2   dob_years         21525 non-null  int64  \n",
      " 3   education         21525 non-null  object \n",
      " 4   education_id      21525 non-null  int64  \n",
      " 5   family_status     21525 non-null  object \n",
      " 6   family_status_id  21525 non-null  int64  \n",
      " 7   gender            21525 non-null  object \n",
      " 8   income_type       21525 non-null  object \n",
      " 9   debt              21525 non-null  int64  \n",
      " 10  total_income      19351 non-null  float64\n",
      " 11  purpose           21525 non-null  object \n",
      "dtypes: float64(2), int64(5), object(5)\n",
      "memory usage: 2.0+ MB\n"
     ]
    },
    {
     "data": {
      "text/plain": [
       "children               0\n",
       "days_employed       2174\n",
       "dob_years              0\n",
       "education              0\n",
       "education_id           0\n",
       "family_status          0\n",
       "family_status_id       0\n",
       "gender                 0\n",
       "income_type            0\n",
       "debt                   0\n",
       "total_income        2174\n",
       "purpose                0\n",
       "dtype: int64"
      ]
     },
     "execution_count": 3,
     "metadata": {},
     "output_type": "execute_result"
    }
   ],
   "source": [
    "# Первичный осмотр данных\n",
    "data.head(20)\n",
    "data.info()\n",
    "data.isna().sum()"
   ]
  },
  {
   "cell_type": "markdown",
   "id": "ad4e8a56",
   "metadata": {},
   "source": [
    "\n",
    "\n",
    "### Выводы:\n",
    "\n",
    "1.  **Общая информация:**\n",
    "    *   Датасет содержит 21,525 строк и 12 столбцов.\n",
    "    *   Имеются данные разных типов: `int64`, `float64` (количественные), `object` (категориальные).\n",
    "   \n",
    "2.  **Пропущенные значения (NaN):**\n",
    "    *   Пропуски обнаружены в двух столбцах: `days_employed` (2174 пропуска) и `total_income` (2174 пропуска).\n",
    "    *   Отсутствие данных в этих столбцах может быть связано с разными причинами, требующими дальнейшего анализа.\n",
    "\n",
    "3.  **Анализ типов данных и заполненности столбцов:**\n",
    "    *   Столбцы `children`, `dob_years`, `education_id`, `family_status_id`, `debt` — не имеют пропусков.\n",
    "    *   Столбцы `education`, `family_status`, `gender`, `income_type`, `purpose` — содержат данные типа `object`.\n",
    "    *   Столбцы `days_employed` и `total_income` содержат данные типа `float64` и имеют пропуски.\n",
    "\n",
    "4.  **Проблемы с данными:**\n",
    "    *   В столбце `education` наблюдается проблема с регистром, что может привести к некорректной категоризации данных. Необходимо привести все значения к нижнему регистру.\n",
    "    *   В столбце `purpose` наблюдается разнообразие формулировок целей кредита, имеющих схожий смысл. Необходимо использовать лемматизацию для приведения целей к общим категориям.\n",
    "\n",
    "**Общий вывод:**\n",
    "Предварительный анализ выявил пропуски в важных столбцах (`days_employed`, `total_income`), что требует обработки. Также необходимо будет проанализировать типы данных и, возможно, провести их преобразование для удобства дальнейшего анализа. Обнаружены проблемы с регистром в столбце `education` и разнообразием формулировок в `purpose`, требующие корректировки."
   ]
  },
  {
   "cell_type": "markdown",
   "id": "b2f544d4",
   "metadata": {},
   "source": [
    "## Шаг2 Предобработка данных."
   ]
  },
  {
   "cell_type": "code",
   "execution_count": null,
   "id": "f07bd988",
   "metadata": {},
   "outputs": [],
   "source": []
  },
  {
   "cell_type": "code",
   "execution_count": 4,
   "id": "bc115c30",
   "metadata": {},
   "outputs": [],
   "source": [
    "# Обработка пропущенных значений в 'total_income'заменой на медиану\n",
    "for t in data['income_type'].unique():\n",
    "    data.loc[(data['income_type'] == t) & (data['total_income'].isna()), 'total_income'] = \\\n",
    "    data.loc[(data['income_type'] == t), 'total_income'].median()\n"
   ]
  },
  {
   "cell_type": "code",
   "execution_count": 5,
   "id": "273ebe8d",
   "metadata": {},
   "outputs": [
    {
     "data": {
      "text/plain": [
       "income_type\n",
       "безработный        366413.652744\n",
       "в декрете            3296.759962\n",
       "госслужащий          2689.368353\n",
       "компаньон            1547.382223\n",
       "пенсионер          365213.306266\n",
       "предприниматель       520.848083\n",
       "сотрудник            1574.202821\n",
       "студент               578.751554\n",
       "Name: days_employed, dtype: float64"
      ]
     },
     "execution_count": 5,
     "metadata": {},
     "output_type": "execute_result"
    }
   ],
   "source": [
    "# Обработка аномалий в 'days_employed' заменой на абсолютное значение\n",
    "data['days_employed'] = data['days_employed'].abs()\n",
    "data.groupby('income_type')['days_employed'].agg('median')"
   ]
  },
  {
   "cell_type": "code",
   "execution_count": 6,
   "id": "10eb17fb",
   "metadata": {},
   "outputs": [
    {
     "data": {
      "text/plain": [
       "array([1, 0, 3, 2, 4, 5])"
      ]
     },
     "execution_count": 6,
     "metadata": {},
     "output_type": "execute_result"
    }
   ],
   "source": [
    "# Обработка аномальных значений в 'children'\n",
    "data['children'].unique()\n",
    "data = data[(data['children'] != -1) & (data['children'] != 20)]\n",
    "data['children'].unique()"
   ]
  },
  {
   "cell_type": "code",
   "execution_count": 7,
   "id": "1563d7c1",
   "metadata": {},
   "outputs": [
    {
     "data": {
      "text/plain": [
       "children            0\n",
       "days_employed       0\n",
       "dob_years           0\n",
       "education           0\n",
       "education_id        0\n",
       "family_status       0\n",
       "family_status_id    0\n",
       "gender              0\n",
       "income_type         0\n",
       "debt                0\n",
       "total_income        0\n",
       "purpose             0\n",
       "dtype: int64"
      ]
     },
     "execution_count": 7,
     "metadata": {},
     "output_type": "execute_result"
    }
   ],
   "source": [
    "# Обработка пропущенных значений в 'days_employed' заменой на медиану\n",
    "for t in data['income_type'].unique():\n",
    "    data.loc[(data['income_type'] == t) & (data['days_employed'].isna()), 'days_employed'] = \\\n",
    "    data.loc[(data['income_type'] == t), 'days_employed'].median()\n",
    "\n",
    "data.isna().sum()"
   ]
  },
  {
   "cell_type": "code",
   "execution_count": 8,
   "id": "b5301933",
   "metadata": {},
   "outputs": [],
   "source": [
    "# Преобразование типов данных\n",
    "data['total_income'] = data['total_income'].astype(int)"
   ]
  },
  {
   "cell_type": "code",
   "execution_count": 9,
   "id": "12eba307",
   "metadata": {},
   "outputs": [],
   "source": [
    "# Обработка дубликатов приведением к нижнему регистру\n",
    "data['education'] = data['education'].str.lower()\n",
    "data.duplicated().sum()\n",
    "data = data.drop_duplicates()"
   ]
  },
  {
   "cell_type": "code",
   "execution_count": 10,
   "id": "54d4b1c3",
   "metadata": {},
   "outputs": [],
   "source": [
    "# Категоризация дохода\n",
    "def categorize_income(income):\n",
    "    try:\n",
    "        if 0 <= income <= 30000:\n",
    "            return 'E'\n",
    "        elif 30001 <= income <= 50000:\n",
    "            return 'D'\n",
    "        elif 50001 <= income <= 200000:\n",
    "            return 'C'\n",
    "        elif 200001 <= income <= 1000000:\n",
    "            return 'B'\n",
    "        elif income >= 1000001:\n",
    "            return 'A'\n",
    "    except Exception as e:\n",
    "        logging.error(f\"Ошибка при категоризации дохода: {income}, ошибка: {e}\")\n",
    "        return None\n",
    "\n",
    "data['total_income_category'] = data['total_income'].apply(categorize_income)\n"
   ]
  },
  {
   "cell_type": "code",
   "execution_count": 11,
   "id": "6b7a904f",
   "metadata": {},
   "outputs": [],
   "source": [
    "# Категоризация целей кредита\n",
    "data['purpose'].unique()\n",
    "def categorize_purpose(purpose):\n",
    "        purpose_map = {\n",
    "            'автом': 'операции с автомобилем',\n",
    "            'жил': 'операции с недвижимостью',\n",
    "            'недвиж': 'операции с недвижимостью',\n",
    "            'свад': 'проведение свадьбы',\n",
    "            'образов': 'получение образования'\n",
    "        }\n",
    "        for key, value in purpose_map.items():\n",
    "            if key in purpose:\n",
    "                return value\n",
    "        return 'нет категории'\n",
    "\n",
    "data['purpose_category'] = data['purpose'].apply(categorize_purpose)\n"
   ]
  },
  {
   "cell_type": "markdown",
   "id": "c3167e17",
   "metadata": {},
   "source": [
    "### Выводы:\n",
    "\n",
    "1.  **Обработка пропусков:**\n",
    "\n",
    "- Пропуски в столбцах `total_income` и `days_employed` были успешно заполнены медианными значениями, сгруппированными по типу занятости.\n",
    "- Это позволило сохранить большую часть данных и избежать искажений при дальнейшем анализе. Использование медианы обусловлено устойчивостью к выбросам.\n",
    "\n",
    "2.  **Обработка аномалий:**\n",
    "\n",
    "- Обнаруженные аномальные значения в столбце `children` (значения -1 и 20) были удалены, так как они представляются неправдоподобными.\n",
    "- Это позволило очистить данные от ошибок ввода или недостоверной информации.\n",
    "\n",
    "3. **Преобразование типов данных:**\n",
    "\n",
    "- Тип данных столбца `total_income` был преобразован в целочисленный (`int`) для экономии памяти и упрощения дальнейших расчетов.\n",
    "- Значения в столбце `education` приведены к нижнему регистру для устранения дубликатов, вызванных разницей в регистре.\n",
    "\n",
    "4.  **Удаление дубликатов:**\n",
    "\n",
    "- Обнаружены и удалены полные дубликаты строк. Это позволило избежать искажений в анализе, связанных с повторным учетом одних и тех же данных.\n",
    "\n",
    "5. **Категоризация данных:**\n",
    "\n",
    "- Созданы новые столбцы `total_income_category` и `purpose_category` на основе категоризации дохода и целей кредита соответственно.\n",
    "- Это позволило упростить анализ и выявить закономерности, связанные с этими категориями.\n",
    "\n",
    "**Общий вывод:**\n",
    "\n",
    "Проведена тщательная предобработка данных, включающая обработку пропусков, аномалий, дубликатов, преобразование типов данных и категоризацию.\n",
    "\n",
    "В результате данные подготовлены для дальнейшего анализа и построения моделей машинного обучения. Важно отметить, что дальнейший анализ должен учитывать возможные ограничения, связанные с использованными методами обработки пропусков и аномалий."
   ]
  },
  {
   "cell_type": "markdown",
   "id": "3823cf62",
   "metadata": {},
   "source": [
    "## Шаг3. Исследование данных."
   ]
  },
  {
   "cell_type": "markdown",
   "id": "4f7d3e01",
   "metadata": {},
   "source": [
    "### Анализ влияния количества детей."
   ]
  },
  {
   "cell_type": "code",
   "execution_count": 12,
   "id": "f7c7bab6",
   "metadata": {
    "scrolled": true
   },
   "outputs": [
    {
     "data": {
      "text/html": [
       "<div>\n",
       "<style scoped>\n",
       "    .dataframe tbody tr th:only-of-type {\n",
       "        vertical-align: middle;\n",
       "    }\n",
       "\n",
       "    .dataframe tbody tr th {\n",
       "        vertical-align: top;\n",
       "    }\n",
       "\n",
       "    .dataframe thead th {\n",
       "        text-align: right;\n",
       "    }\n",
       "</style>\n",
       "<table border=\"1\" class=\"dataframe\">\n",
       "  <thead>\n",
       "    <tr style=\"text-align: right;\">\n",
       "      <th></th>\n",
       "      <th>count</th>\n",
       "      <th>sum</th>\n",
       "      <th>ratio_in_procent</th>\n",
       "      <th>income_mean</th>\n",
       "      <th>income_median</th>\n",
       "    </tr>\n",
       "    <tr>\n",
       "      <th>children</th>\n",
       "      <th></th>\n",
       "      <th></th>\n",
       "      <th></th>\n",
       "      <th></th>\n",
       "      <th></th>\n",
       "    </tr>\n",
       "  </thead>\n",
       "  <tbody>\n",
       "    <tr>\n",
       "      <th>0</th>\n",
       "      <td>14091</td>\n",
       "      <td>1063</td>\n",
       "      <td>7.54%</td>\n",
       "      <td>163052.099851</td>\n",
       "      <td>142594</td>\n",
       "    </tr>\n",
       "    <tr>\n",
       "      <th>1</th>\n",
       "      <td>4808</td>\n",
       "      <td>444</td>\n",
       "      <td>9.23%</td>\n",
       "      <td>169194.979617</td>\n",
       "      <td>145531</td>\n",
       "    </tr>\n",
       "    <tr>\n",
       "      <th>2</th>\n",
       "      <td>2052</td>\n",
       "      <td>194</td>\n",
       "      <td>9.45%</td>\n",
       "      <td>169746.972710</td>\n",
       "      <td>142594</td>\n",
       "    </tr>\n",
       "    <tr>\n",
       "      <th>3</th>\n",
       "      <td>330</td>\n",
       "      <td>27</td>\n",
       "      <td>8.18%</td>\n",
       "      <td>179460.303030</td>\n",
       "      <td>145220</td>\n",
       "    </tr>\n",
       "    <tr>\n",
       "      <th>4</th>\n",
       "      <td>41</td>\n",
       "      <td>4</td>\n",
       "      <td>9.76%</td>\n",
       "      <td>166360.707317</td>\n",
       "      <td>150447</td>\n",
       "    </tr>\n",
       "    <tr>\n",
       "      <th>5</th>\n",
       "      <td>9</td>\n",
       "      <td>0</td>\n",
       "      <td>0.00%</td>\n",
       "      <td>167336.888889</td>\n",
       "      <td>168460</td>\n",
       "    </tr>\n",
       "  </tbody>\n",
       "</table>\n",
       "</div>"
      ],
      "text/plain": [
       "          count   sum ratio_in_procent    income_mean  income_median\n",
       "children                                                            \n",
       "0         14091  1063            7.54%  163052.099851         142594\n",
       "1          4808   444            9.23%  169194.979617         145531\n",
       "2          2052   194            9.45%  169746.972710         142594\n",
       "3           330    27            8.18%  179460.303030         145220\n",
       "4            41     4            9.76%  166360.707317         150447\n",
       "5             9     0            0.00%  167336.888889         168460"
      ]
     },
     "metadata": {},
     "output_type": "display_data"
    },
    {
     "name": "stdout",
     "output_type": "stream",
     "text": [
      "Chi-square statistic: 20.117395586863267\n",
      "P-value: 0.0011878936268035906\n",
      "Зависимость между количеством детей и наличием задолженности статистически значима.\n"
     ]
    }
   ],
   "source": [
    "# Группировка данных\n",
    "data_children = data.groupby(['children']).agg({'debt': ['count', 'sum']})\n",
    "data_children.columns = ['count', 'sum']\n",
    "\n",
    "# Расчет процентного отношения\n",
    "data_children['ratio_in_procent'] = data.groupby('children')['debt'].mean().apply(lambda x: f'{x:.2%}')\n",
    "\n",
    "# Расчет среднего и медианного дохода\n",
    "data_children['income_mean'] = data.groupby('children')['total_income'].mean()\n",
    "data_children['income_median'] = data.groupby('children')['total_income'].median()\n",
    "\n",
    "# Вывод таблицы\n",
    "display(data_children)\n",
    "\n",
    "# Тест хи-квадрат\n",
    "contingency_table = pd.crosstab(data['children'], data['debt'])\n",
    "chi2, p, dof, expected = chi2_contingency(contingency_table)\n",
    "\n",
    "print(\"Chi-square statistic:\", chi2)\n",
    "print(\"P-value:\", p)\n",
    "\n",
    "alpha = 0.05\n",
    "\n",
    "if p < alpha:\n",
    "    print(\"Зависимость между количеством детей и наличием задолженности статистически значима.\")\n",
    "else:\n",
    "    print(\"Зависимость между количеством детей и наличием задолженности статистически не значима.\")\n"
   ]
  },
  {
   "cell_type": "code",
   "execution_count": 13,
   "id": "4683beec",
   "metadata": {},
   "outputs": [
    {
     "data": {
      "image/png": "[encoded data removed]",
      "text/plain": [
       "<Figure size 720x432 with 1 Axes>"
      ]
     },
     "metadata": {
      "needs_background": "light"
     },
     "output_type": "display_data"
    }
   ],
   "source": [
    "# Визуализация Seaborn\n",
    "plt.figure(figsize=(10, 6))\n",
    "sns.barplot(x=data.groupby('children')['debt'].mean().index, y=data.groupby('children')['debt'].mean().values)\n",
    "plt.title('Процент должников в зависимости от количества детей')\n",
    "plt.ylabel('Процент должников')\n",
    "plt.xlabel('Количество детей')\n",
    "plt.show()"
   ]
  },
  {
   "cell_type": "markdown",
   "id": "7cf32d87",
   "metadata": {},
   "source": [
    "#### Выводы:\n",
    "\n",
    "1.  Результаты анализа показывают, что существует статистически значимая зависимость между количеством детей и вероятностью возникновения задолженности по кредиту (p < 0.05)\n",
    "2. Визуализация показывает, что наибольший процент должников наблюдается в группах с 1, 2 и 4 детьми.\n",
    "3.  Следует учитывать, что выборка для категорий от 3 до 5 детей невелика, что снижает надежность выводов для этих групп."
   ]
  },
  {
   "cell_type": "markdown",
   "id": "56fbbd01",
   "metadata": {},
   "source": [
    "### Анализ влияния семейного положения."
   ]
  },
  {
   "cell_type": "code",
   "execution_count": 14,
   "id": "f2d30849",
   "metadata": {
    "scrolled": true
   },
   "outputs": [
    {
     "data": {
      "text/html": [
       "<div>\n",
       "<style scoped>\n",
       "    .dataframe tbody tr th:only-of-type {\n",
       "        vertical-align: middle;\n",
       "    }\n",
       "\n",
       "    .dataframe tbody tr th {\n",
       "        vertical-align: top;\n",
       "    }\n",
       "\n",
       "    .dataframe thead th {\n",
       "        text-align: right;\n",
       "    }\n",
       "</style>\n",
       "<table border=\"1\" class=\"dataframe\">\n",
       "  <thead>\n",
       "    <tr style=\"text-align: right;\">\n",
       "      <th></th>\n",
       "      <th>family_status</th>\n",
       "      <th>family_status_id</th>\n",
       "    </tr>\n",
       "  </thead>\n",
       "  <tbody>\n",
       "    <tr>\n",
       "      <th>0</th>\n",
       "      <td>женат / замужем</td>\n",
       "      <td>0</td>\n",
       "    </tr>\n",
       "    <tr>\n",
       "      <th>1</th>\n",
       "      <td>гражданский брак</td>\n",
       "      <td>1</td>\n",
       "    </tr>\n",
       "    <tr>\n",
       "      <th>2</th>\n",
       "      <td>вдовец / вдова</td>\n",
       "      <td>2</td>\n",
       "    </tr>\n",
       "    <tr>\n",
       "      <th>3</th>\n",
       "      <td>в разводе</td>\n",
       "      <td>3</td>\n",
       "    </tr>\n",
       "    <tr>\n",
       "      <th>4</th>\n",
       "      <td>Не женат / не замужем</td>\n",
       "      <td>4</td>\n",
       "    </tr>\n",
       "  </tbody>\n",
       "</table>\n",
       "</div>"
      ],
      "text/plain": [
       "           family_status  family_status_id\n",
       "0        женат / замужем                 0\n",
       "1       гражданский брак                 1\n",
       "2         вдовец / вдова                 2\n",
       "3              в разводе                 3\n",
       "4  Не женат / не замужем                 4"
      ]
     },
     "metadata": {},
     "output_type": "display_data"
    },
    {
     "data": {
      "text/html": [
       "<div>\n",
       "<style scoped>\n",
       "    .dataframe tbody tr th:only-of-type {\n",
       "        vertical-align: middle;\n",
       "    }\n",
       "\n",
       "    .dataframe tbody tr th {\n",
       "        vertical-align: top;\n",
       "    }\n",
       "\n",
       "    .dataframe thead th {\n",
       "        text-align: right;\n",
       "    }\n",
       "</style>\n",
       "<table border=\"1\" class=\"dataframe\">\n",
       "  <thead>\n",
       "    <tr style=\"text-align: right;\">\n",
       "      <th></th>\n",
       "      <th>count</th>\n",
       "      <th>sum</th>\n",
       "      <th>ratio_in_procent</th>\n",
       "      <th>income_mean</th>\n",
       "      <th>income_median</th>\n",
       "    </tr>\n",
       "    <tr>\n",
       "      <th>family_status_id</th>\n",
       "      <th></th>\n",
       "      <th></th>\n",
       "      <th></th>\n",
       "      <th></th>\n",
       "      <th></th>\n",
       "    </tr>\n",
       "  </thead>\n",
       "  <tbody>\n",
       "    <tr>\n",
       "      <th>0</th>\n",
       "      <td>12261</td>\n",
       "      <td>927</td>\n",
       "      <td>7.56%</td>\n",
       "      <td>166757.122584</td>\n",
       "      <td>142916</td>\n",
       "    </tr>\n",
       "    <tr>\n",
       "      <th>1</th>\n",
       "      <td>4134</td>\n",
       "      <td>385</td>\n",
       "      <td>9.31%</td>\n",
       "      <td>164819.409289</td>\n",
       "      <td>142594</td>\n",
       "    </tr>\n",
       "    <tr>\n",
       "      <th>2</th>\n",
       "      <td>951</td>\n",
       "      <td>63</td>\n",
       "      <td>6.62%</td>\n",
       "      <td>142559.789695</td>\n",
       "      <td>127310</td>\n",
       "    </tr>\n",
       "    <tr>\n",
       "      <th>3</th>\n",
       "      <td>1189</td>\n",
       "      <td>84</td>\n",
       "      <td>7.06%</td>\n",
       "      <td>167955.227082</td>\n",
       "      <td>143503</td>\n",
       "    </tr>\n",
       "    <tr>\n",
       "      <th>4</th>\n",
       "      <td>2796</td>\n",
       "      <td>273</td>\n",
       "      <td>9.76%</td>\n",
       "      <td>166552.384478</td>\n",
       "      <td>142594</td>\n",
       "    </tr>\n",
       "  </tbody>\n",
       "</table>\n",
       "</div>"
      ],
      "text/plain": [
       "                  count  sum ratio_in_procent    income_mean  income_median\n",
       "family_status_id                                                           \n",
       "0                 12261  927            7.56%  166757.122584         142916\n",
       "1                  4134  385            9.31%  164819.409289         142594\n",
       "2                   951   63            6.62%  142559.789695         127310\n",
       "3                  1189   84            7.06%  167955.227082         143503\n",
       "4                  2796  273            9.76%  166552.384478         142594"
      ]
     },
     "metadata": {},
     "output_type": "display_data"
    },
    {
     "name": "stdout",
     "output_type": "stream",
     "text": [
      "Chi-square statistic: 27.784522630372297\n",
      "P-value: 1.3792030784697729e-05\n",
      "Зависимость между семейным положением и наличием задолженности статистически значима.\n"
     ]
    }
   ],
   "source": [
    "# Создание \"справочника\" семейного положения\n",
    "data_family_status = data[['family_status','family_status_id']].drop_duplicates().reset_index(drop=True)\n",
    "display(data_family_status)\n",
    "\n",
    "# Группировка данных\n",
    "data_family = data.groupby(['family_status_id']).agg({'debt': ['count', 'sum']})\n",
    "data_family.columns = ['count', 'sum']\n",
    "\n",
    "# Расчет процентного отношения\n",
    "data_family['ratio_in_procent'] = data.groupby('family_status_id')['debt'].mean().apply(lambda x: f'{x:.2%}')\n",
    "\n",
    "# Расчет среднего и медианного дохода\n",
    "data_family['income_mean'] = data.groupby('family_status_id')['total_income'].mean()\n",
    "data_family['income_median'] = data.groupby('family_status_id')['total_income'].median()\n",
    "\n",
    "# Вывод таблицы\n",
    "display(data_family)\n",
    "\n",
    "# Тест хи-квадрат\n",
    "contingency_table = pd.crosstab(data['family_status'], data['debt'])\n",
    "chi2, p, dof, expected = chi2_contingency(contingency_table)\n",
    "\n",
    "print(\"Chi-square statistic:\", chi2)\n",
    "print(\"P-value:\", p)\n",
    "\n",
    "alpha = 0.05\n",
    "\n",
    "if p < alpha:\n",
    "    print(\"Зависимость между семейным положением и наличием задолженности статистически значима.\")\n",
    "else:\n",
    "    print(\"Зависимость между семейным положением и наличием задолженности статистически не значима.\")\n"
   ]
  },
  {
   "cell_type": "code",
   "execution_count": 15,
   "id": "a9a61f1d",
   "metadata": {
    "scrolled": true
   },
   "outputs": [
    {
     "data": {
      "image/png": "[encoded data removed]",
      "text/plain": [
       "<Figure size 720x432 with 1 Axes>"
      ]
     },
     "metadata": {
      "needs_background": "light"
     },
     "output_type": "display_data"
    }
   ],
   "source": [
    "# Визуализация Seaborn\n",
    "plt.figure(figsize=(10, 6))\n",
    "sns.barplot(x=data.groupby('family_status')['debt'].mean().index, y=data.groupby('family_status')['debt'].mean().values)\n",
    "plt.title('Процент должников в зависимости от семейного положения')\n",
    "plt.ylabel('Процент должников')\n",
    "plt.xlabel('Семейное положение')\n",
    "plt.show()"
   ]
  },
  {
   "cell_type": "markdown",
   "id": "2f13f633",
   "metadata": {},
   "source": [
    "\n",
    "#### Выводы:\n",
    "\n",
    "1.  Наблюдается статистически значимая зависимость между семейным положением и вероятностью возникновения задолженности по кредиту (p < 0.05).\n",
    "2.  Наиболее ответственные заемщики - из категории \"вдовец/вдова\", несмотря на то, что их доход, вероятно, ниже, чем у других категорий.\n",
    "3.  Самый высокий процент просрочки у заемщиков, состоящих в \"гражданском браке\" и \"не женат/не замужем\".\n",
    "4.  Заемщики, состоявшие или состоящие в официальном браке, демонстрируют существенно меньший процент просрочки по кредитам по сравнению с теми, кто никогда не был женат или состоит в гражданском браке."
   ]
  },
  {
   "cell_type": "markdown",
   "id": "5d636433",
   "metadata": {},
   "source": [
    "### Анализ влияния категории дохода."
   ]
  },
  {
   "cell_type": "code",
   "execution_count": 16,
   "id": "72e341f9",
   "metadata": {},
   "outputs": [
    {
     "data": {
      "text/html": [
       "<div>\n",
       "<style scoped>\n",
       "    .dataframe tbody tr th:only-of-type {\n",
       "        vertical-align: middle;\n",
       "    }\n",
       "\n",
       "    .dataframe tbody tr th {\n",
       "        vertical-align: top;\n",
       "    }\n",
       "\n",
       "    .dataframe thead th {\n",
       "        text-align: right;\n",
       "    }\n",
       "</style>\n",
       "<table border=\"1\" class=\"dataframe\">\n",
       "  <thead>\n",
       "    <tr style=\"text-align: right;\">\n",
       "      <th></th>\n",
       "      <th>count</th>\n",
       "      <th>sum</th>\n",
       "      <th>ratio_in_procent</th>\n",
       "    </tr>\n",
       "    <tr>\n",
       "      <th>total_income_category</th>\n",
       "      <th></th>\n",
       "      <th></th>\n",
       "      <th></th>\n",
       "    </tr>\n",
       "  </thead>\n",
       "  <tbody>\n",
       "    <tr>\n",
       "      <th>B</th>\n",
       "      <td>5039</td>\n",
       "      <td>356</td>\n",
       "      <td>7.06%</td>\n",
       "    </tr>\n",
       "    <tr>\n",
       "      <th>C</th>\n",
       "      <td>16292</td>\n",
       "      <td>1376</td>\n",
       "      <td>8.45%</td>\n",
       "    </tr>\n",
       "  </tbody>\n",
       "</table>\n",
       "</div>"
      ],
      "text/plain": [
       "                       count   sum ratio_in_procent\n",
       "total_income_category                              \n",
       "B                       5039   356            7.06%\n",
       "C                      16292  1376            8.45%"
      ]
     },
     "metadata": {},
     "output_type": "display_data"
    },
    {
     "name": "stdout",
     "output_type": "stream",
     "text": [
      "Chi-square statistic: 9.653974175501622\n",
      "P-value: 0.0018894237422155055\n",
      "Зависимость между категорией дохода и наличием задолженности статистически значима.\n"
     ]
    }
   ],
   "source": [
    "# Группировка данных\n",
    "data_income = data.groupby(['total_income_category']).agg({'debt': ['count', 'sum']})\n",
    "data_income.columns = ['count', 'sum']\n",
    "\n",
    "# Объединение категорий\n",
    "data['total_income_category'] = data['total_income_category'].replace({'D': 'C', 'A':'B', 'E':'C'})  # Объединяем D и E с C\n",
    "\n",
    "# Повторная группировка\n",
    "data_income = data.groupby(['total_income_category']).agg({'debt': ['count', 'sum']})\n",
    "data_income.columns = ['count', 'sum']\n",
    "\n",
    "# Расчет процентного отношения\n",
    "data_income['ratio_in_procent'] = data.groupby('total_income_category')['debt'].mean().apply(lambda x: f'{x:.2%}')\n",
    "\n",
    "# Вывод таблицы\n",
    "display(data_income)\n",
    "\n",
    "# Тест хи-квадрат\n",
    "contingency_table = pd.crosstab(data['total_income_category'], data['debt'])\n",
    "chi2, p, dof, expected = chi2_contingency(contingency_table)\n",
    "\n",
    "print(\"Chi-square statistic:\", chi2)\n",
    "print(\"P-value:\", p)\n",
    "\n",
    "alpha = 0.05\n",
    "\n",
    "if p < alpha:\n",
    "    print(\"Зависимость между категорией дохода и наличием задолженности статистически значима.\")\n",
    "else:\n",
    "    print(\"Зависимость между категорией дохода и наличием задолженности статистически не значима.\")\n",
    "\n"
   ]
  },
  {
   "cell_type": "code",
   "execution_count": 20,
   "id": "36ba90dd",
   "metadata": {},
   "outputs": [
    {
     "data": {
      "image/png": "[encoded data removed]",
      "text/plain": [
       "<Figure size 720x432 with 1 Axes>"
      ]
     },
     "metadata": {
      "needs_background": "light"
     },
     "output_type": "display_data"
    }
   ],
   "source": [
    "# Визуализация Seaborn\n",
    "plt.figure(figsize=(10, 6))\n",
    "sns.barplot(x=data.groupby('total_income_category')['debt'].mean().index,\\\n",
    "            y=data.groupby('total_income_category')['debt'].mean().values)\n",
    "plt.title('Процент должников в зависимости от категории дохода')\n",
    "plt.ylabel('Процент должников')\n",
    "plt.xlabel('Категория дохода')\n",
    "plt.show()"
   ]
  },
  {
   "cell_type": "markdown",
   "id": "a0b23410",
   "metadata": {},
   "source": [
    "\n",
    "#### Выводы:\n",
    "\n",
    "1.  Установлена статистически значимая зависимость между категорией дохода и вероятностью возникновения задолженности по кредиту (p < 0.05).\n",
    "2.  После объединения категорий A, D, E с категорией C, статистически значимой зависимости между уровнем дохода и возвратом кредита выявить не удалось."
   ]
  },
  {
   "cell_type": "code",
   "execution_count": null,
   "id": "735aa734",
   "metadata": {},
   "outputs": [],
   "source": []
  },
  {
   "cell_type": "markdown",
   "id": "117eff10",
   "metadata": {},
   "source": [
    "### Анализ влияния цели кредита."
   ]
  },
  {
   "cell_type": "code",
   "execution_count": 18,
   "id": "c3a191c3",
   "metadata": {},
   "outputs": [
    {
     "data": {
      "text/html": [
       "<div>\n",
       "<style scoped>\n",
       "    .dataframe tbody tr th:only-of-type {\n",
       "        vertical-align: middle;\n",
       "    }\n",
       "\n",
       "    .dataframe tbody tr th {\n",
       "        vertical-align: top;\n",
       "    }\n",
       "\n",
       "    .dataframe thead tr th {\n",
       "        text-align: left;\n",
       "    }\n",
       "\n",
       "    .dataframe thead tr:last-of-type th {\n",
       "        text-align: right;\n",
       "    }\n",
       "</style>\n",
       "<table border=\"1\" class=\"dataframe\">\n",
       "  <thead>\n",
       "    <tr>\n",
       "      <th></th>\n",
       "      <th colspan=\"2\" halign=\"left\">debt</th>\n",
       "      <th>ratio_in_procent</th>\n",
       "    </tr>\n",
       "    <tr>\n",
       "      <th></th>\n",
       "      <th>count</th>\n",
       "      <th>sum</th>\n",
       "      <th></th>\n",
       "    </tr>\n",
       "    <tr>\n",
       "      <th>purpose_category</th>\n",
       "      <th></th>\n",
       "      <th></th>\n",
       "      <th></th>\n",
       "    </tr>\n",
       "  </thead>\n",
       "  <tbody>\n",
       "    <tr>\n",
       "      <th>операции с автомобилем</th>\n",
       "      <td>4279</td>\n",
       "      <td>400</td>\n",
       "      <td>9.35%</td>\n",
       "    </tr>\n",
       "    <tr>\n",
       "      <th>операции с недвижимостью</th>\n",
       "      <td>10751</td>\n",
       "      <td>780</td>\n",
       "      <td>7.26%</td>\n",
       "    </tr>\n",
       "    <tr>\n",
       "      <th>получение образования</th>\n",
       "      <td>3988</td>\n",
       "      <td>369</td>\n",
       "      <td>9.25%</td>\n",
       "    </tr>\n",
       "    <tr>\n",
       "      <th>проведение свадьбы</th>\n",
       "      <td>2313</td>\n",
       "      <td>183</td>\n",
       "      <td>7.91%</td>\n",
       "    </tr>\n",
       "  </tbody>\n",
       "</table>\n",
       "</div>"
      ],
      "text/plain": [
       "                           debt      ratio_in_procent\n",
       "                          count  sum                 \n",
       "purpose_category                                     \n",
       "операции с автомобилем     4279  400            9.35%\n",
       "операции с недвижимостью  10751  780            7.26%\n",
       "получение образования      3988  369            9.25%\n",
       "проведение свадьбы         2313  183            7.91%"
      ]
     },
     "metadata": {},
     "output_type": "display_data"
    },
    {
     "name": "stdout",
     "output_type": "stream",
     "text": [
      "Chi-square statistic: 26.421595541475384\n",
      "P-value: 7.782778835417843e-06\n",
      "Зависимость между целью кредита и наличием задолженности статистически значима.\n"
     ]
    }
   ],
   "source": [
    "\n",
    "\n",
    "data_purpose = data.groupby(['purpose_category']).agg({'debt': ['count', 'sum']})\n",
    "data_purpose['ratio_in_procent'] = data.groupby('purpose_category')['debt'].mean().apply(lambda x: f'{x:.2%}')\n",
    "display(data_purpose)\n",
    "\n",
    "# Тест хи-квадрат\n",
    "contingency_table = pd.crosstab(data['purpose_category'], data['debt'])\n",
    "chi2, p, dof, expected = chi2_contingency(contingency_table)\n",
    "\n",
    "print(\"Chi-square statistic:\", chi2)\n",
    "print(\"P-value:\", p)\n",
    "\n",
    "alpha = 0.05\n",
    "\n",
    "if p < alpha:\n",
    "    print(\"Зависимость между целью кредита и наличием задолженности статистически значима.\")\n",
    "else:\n",
    "    print(\"Зависимость между целью кредита и наличием задолженности статистически не значима.\")\n"
   ]
  },
  {
   "cell_type": "code",
   "execution_count": 19,
   "id": "264770fc",
   "metadata": {
    "scrolled": true
   },
   "outputs": [
    {
     "data": {
      "image/png": "[encoded data removed]",
      "text/plain": [
       "<Figure size 720x432 with 1 Axes>"
      ]
     },
     "metadata": {
      "needs_background": "light"
     },
     "output_type": "display_data"
    }
   ],
   "source": [
    "# Визуализация Seaborn\n",
    "plt.figure(figsize=(10, 6))\n",
    "sns.barplot(x=data.groupby('purpose_category')['debt'].mean().index, y=data.groupby('purpose_category')['debt'].mean().values)\n",
    "plt.title('Процент должников в зависимости от цели кредита')\n",
    "plt.ylabel('Процент должников')\n",
    "plt.xlabel('Цель кредита')\n",
    "plt.show()"
   ]
  },
  {
   "cell_type": "markdown",
   "id": "649ed68b",
   "metadata": {},
   "source": [
    "#### Выводы:\n",
    "1. Установлена статистически значимая зависимость между целью кредита  и наличием задолженности (p < 0.05).\n",
    "2.  Существенно более высокий процент просрочки наблюдается у категорий заёмщиков, берущих кредит на \"операции с автомобилем\" и \"получение образования\"."
   ]
  },
  {
   "cell_type": "markdown",
   "id": "2c6cee76",
   "metadata": {},
   "source": [
    "## Шаг3 Общие выводы."
   ]
  },
  {
   "cell_type": "markdown",
   "id": "ad085a7b",
   "metadata": {},
   "source": [
    "###   Возможные причины появления пропусков в исходных данных\n",
    "\n",
    "\n",
    "Пропуски в данных возникают из-за человеческого фактора (нежелание отвечать, ошибки при вводе, непонимание вопросов, сокрытие информации), технических проблем (ошибки при сборе/выгрузке данных, несовместимость систем, сбои, ограничения API, устаревшие данные) и причин, связанных с бизнес-логикой (неприменимость вопроса к определенной категории клиентов, различия в процессах сбора данных, новые требования). В частности, в столбце «трудовой стаж» пропуски могут быть связаны с отсутствием опыта работы, безработицей или неофициальным трудоустройством, а в столбце «доход» — с нежеланием раскрывать информацию или отсутствием постоянного дохода. Понимание причин пропусков важно для выбора правильного метода их обработки, чтобы избежать искажения результатов анализа и некорректной оценки рисков."
   ]
  },
  {
   "cell_type": "markdown",
   "id": "bf767656",
   "metadata": {},
   "source": [
    "### Почему заполнить пропуски медианным значением — лучшее решение для количественных переменных.\n",
    "Медиана — предпочтительный выбор для заполнения пропусков в количественных переменных, поскольку она устойчива к выбросам, которые могут исказить среднее значение. Используя медиану, мы минимизируем влияние экстремальных значений, сохраняем более точное представление о центральной тенденции данных и снижаем смещение, тем самым обеспечивая более надежный анализ."
   ]
  },
  {
   "cell_type": "markdown",
   "id": "4e7c1a0a",
   "metadata": {},
   "source": [
    "### Итоговый вывод."
   ]
  },
  {
   "cell_type": "markdown",
   "id": "a73f792d",
   "metadata": {},
   "source": [
    "На основе проведенного анализа данных о платежеспособности клиентов кредитного банка была построена модель кредитного скоринга. В процессе обработки данных было обнаружено около 10% пропущенных значений в столбцах 'days_employed' и 'total_income', которые были заполнены медианными значениями (медиана менее чувствительна к выбросам). Также были обработаны аномалии в столбце 'days_employed' (отрицательные значения заменены на положительные) и удалены строки с некорректным количеством детей (-1 и 20). Данные были приведены к нижнему регистру, и дубликаты были удалены. Перед анализом была проведена категоризация данных по уровню дохода и цели кредита.\n",
    "\n",
    "Анализ показал следующее:\n",
    "\n",
    "*   Статистически значимой зависимости между количеством детей и возвратом кредита не обнаружено.\n",
    "*   Заемщики без детей демонстрируют меньший процент просрочки, чем заемщики с детьми.\n",
    "*   Заемщики, состоящие или состоявшие в официальном браке, демонстрируют меньший процент просрочки, чем не состоящие в браке или состоящие в гражданском браке.\n",
    "*   Процент просрочки долга существенно выше у заемщиков, берущих кредит на операции с автомобилем (возможно, из-за амортизации и рисков, связанных с автомобилем) и на получение образования (возможно, из-за риска не найти высокооплачиваемую работу после обучения).\n",
    "\n",
    "Для улучшения качества кредитного скоринга рекомендуется:\n",
    "\n",
    "1.  **Выявление \"ядра заемщиков\":** Провести более глубокий анализ для выявления \"ядра заемщиков\" с минимальным риском просрочки, учитывая комбинации различных факторов (семейное положение, доход, цель кредита и др.).\n",
    "2.  **Создание ответственного подразделения:** Создать в банке ответственное подразделение для сбора, стандартизации, валидации и контроля качества данных о клиентах. Это потребует инвестиций в инфраструктуру данных, включая системы сбора, хранения и обработки данных.\n",
    "3.  **Обучение персонала:** Обучить персонал, занимающийся сбором и вводом данных, чтобы минимизировать ошибки, связанные с человеческим фактором.\n",
    "4.  **Улучшение качества данных:** Учитывать, что 10% данных были заполнены медианными значениями, что снижает точность результатов. Улучшение качества данных позволит повысить точность модели кредитного скоринга и снизить риски для банка."
   ]
  }
 ],
 "metadata": {
  "ExecuteTimeLog": [
   {
    "duration": 2044,
    "start_time": "2025-03-16T13:35:21.960Z"
   },
   {
    "duration": 126,
    "start_time": "2025-03-16T13:48:58.604Z"
   },
   {
    "duration": 2059,
    "start_time": "2025-03-16T13:56:22.580Z"
   },
   {
    "duration": 1988,
    "start_time": "2025-03-16T13:59:10.336Z"
   },
   {
    "duration": 1073,
    "start_time": "2025-03-16T14:42:44.152Z"
   },
   {
    "duration": 66,
    "start_time": "2025-03-16T14:42:45.227Z"
   },
   {
    "duration": 25,
    "start_time": "2025-03-16T14:42:45.294Z"
   },
   {
    "duration": 36,
    "start_time": "2025-03-16T14:42:45.321Z"
   },
   {
    "duration": 9,
    "start_time": "2025-03-16T14:42:45.358Z"
   },
   {
    "duration": 12,
    "start_time": "2025-03-16T14:42:45.368Z"
   },
   {
    "duration": 63,
    "start_time": "2025-03-16T14:42:45.382Z"
   },
   {
    "duration": 3,
    "start_time": "2025-03-16T14:42:45.446Z"
   },
   {
    "duration": 55,
    "start_time": "2025-03-16T14:42:45.451Z"
   },
   {
    "duration": 12,
    "start_time": "2025-03-16T14:42:45.508Z"
   },
   {
    "duration": 19,
    "start_time": "2025-03-16T14:42:45.522Z"
   },
   {
    "duration": 205,
    "start_time": "2025-03-16T14:42:45.542Z"
   },
   {
    "duration": 196,
    "start_time": "2025-03-16T14:42:45.748Z"
   },
   {
    "duration": 169,
    "start_time": "2025-03-16T14:42:45.945Z"
   },
   {
    "duration": 174,
    "start_time": "2025-03-16T14:42:46.115Z"
   },
   {
    "duration": 1564,
    "start_time": "2025-03-19T08:58:57.884Z"
   },
   {
    "duration": 84,
    "start_time": "2025-03-19T08:58:59.450Z"
   },
   {
    "duration": 28,
    "start_time": "2025-03-19T08:58:59.536Z"
   },
   {
    "duration": 54,
    "start_time": "2025-03-19T08:58:59.566Z"
   },
   {
    "duration": 10,
    "start_time": "2025-03-19T08:58:59.621Z"
   },
   {
    "duration": 9,
    "start_time": "2025-03-19T08:58:59.632Z"
   },
   {
    "duration": 65,
    "start_time": "2025-03-19T08:58:59.642Z"
   },
   {
    "duration": 3,
    "start_time": "2025-03-19T08:58:59.709Z"
   },
   {
    "duration": 40,
    "start_time": "2025-03-19T08:58:59.713Z"
   },
   {
    "duration": 21,
    "start_time": "2025-03-19T08:58:59.803Z"
   },
   {
    "duration": 21,
    "start_time": "2025-03-19T08:58:59.826Z"
   },
   {
    "duration": 415,
    "start_time": "2025-03-19T08:58:59.904Z"
   },
   {
    "duration": 421,
    "start_time": "2025-03-19T08:59:00.321Z"
   },
   {
    "duration": 398,
    "start_time": "2025-03-19T08:59:00.743Z"
   },
   {
    "duration": 390,
    "start_time": "2025-03-19T08:59:01.143Z"
   },
   {
    "duration": 1318,
    "start_time": "2025-03-19T09:43:19.032Z"
   },
   {
    "duration": 89,
    "start_time": "2025-03-19T09:43:20.352Z"
   },
   {
    "duration": 27,
    "start_time": "2025-03-19T09:43:20.443Z"
   },
   {
    "duration": 46,
    "start_time": "2025-03-19T09:43:20.472Z"
   },
   {
    "duration": 10,
    "start_time": "2025-03-19T09:43:20.520Z"
   },
   {
    "duration": 14,
    "start_time": "2025-03-19T09:43:20.532Z"
   },
   {
    "duration": 63,
    "start_time": "2025-03-19T09:43:20.549Z"
   },
   {
    "duration": 5,
    "start_time": "2025-03-19T09:43:20.615Z"
   },
   {
    "duration": 49,
    "start_time": "2025-03-19T09:43:20.622Z"
   },
   {
    "duration": 32,
    "start_time": "2025-03-19T09:43:20.673Z"
   },
   {
    "duration": 26,
    "start_time": "2025-03-19T09:43:20.707Z"
   },
   {
    "duration": 210,
    "start_time": "2025-03-19T09:43:20.735Z"
   },
   {
    "duration": 5,
    "start_time": "2025-03-19T09:43:20.947Z"
   },
   {
    "duration": 231,
    "start_time": "2025-03-19T09:43:20.953Z"
   },
   {
    "duration": 319,
    "start_time": "2025-03-19T09:43:21.186Z"
   },
   {
    "duration": 400,
    "start_time": "2025-03-19T09:43:21.507Z"
   },
   {
    "duration": 1324,
    "start_time": "2025-03-19T09:47:52.484Z"
   },
   {
    "duration": 80,
    "start_time": "2025-03-19T09:47:53.810Z"
   },
   {
    "duration": 28,
    "start_time": "2025-03-19T09:47:53.891Z"
   },
   {
    "duration": 40,
    "start_time": "2025-03-19T09:47:53.921Z"
   },
   {
    "duration": 19,
    "start_time": "2025-03-19T09:47:53.962Z"
   },
   {
    "duration": 40,
    "start_time": "2025-03-19T09:47:53.982Z"
   },
   {
    "duration": 55,
    "start_time": "2025-03-19T09:47:54.024Z"
   },
   {
    "duration": 3,
    "start_time": "2025-03-19T09:47:54.081Z"
   },
   {
    "duration": 78,
    "start_time": "2025-03-19T09:47:54.086Z"
   },
   {
    "duration": 12,
    "start_time": "2025-03-19T09:47:54.166Z"
   },
   {
    "duration": 50,
    "start_time": "2025-03-19T09:47:54.180Z"
   },
   {
    "duration": 71,
    "start_time": "2025-03-19T09:47:54.231Z"
   },
   {
    "duration": 163,
    "start_time": "2025-03-19T09:47:54.303Z"
   },
   {
    "duration": 5,
    "start_time": "2025-03-19T09:47:54.468Z"
   },
   {
    "duration": 358,
    "start_time": "2025-03-19T09:47:54.475Z"
   },
   {
    "duration": 395,
    "start_time": "2025-03-19T09:47:54.834Z"
   },
   {
    "duration": 404,
    "start_time": "2025-03-19T09:47:55.231Z"
   },
   {
    "duration": 1335,
    "start_time": "2025-03-19T09:52:48.484Z"
   },
   {
    "duration": 91,
    "start_time": "2025-03-19T09:52:49.822Z"
   },
   {
    "duration": 28,
    "start_time": "2025-03-19T09:52:49.915Z"
   },
   {
    "duration": 40,
    "start_time": "2025-03-19T09:52:49.945Z"
   },
   {
    "duration": 25,
    "start_time": "2025-03-19T09:52:49.987Z"
   },
   {
    "duration": 19,
    "start_time": "2025-03-19T09:52:50.013Z"
   },
   {
    "duration": 58,
    "start_time": "2025-03-19T09:52:50.034Z"
   },
   {
    "duration": 13,
    "start_time": "2025-03-19T09:52:50.093Z"
   },
   {
    "duration": 55,
    "start_time": "2025-03-19T09:52:50.109Z"
   },
   {
    "duration": 16,
    "start_time": "2025-03-19T09:52:50.167Z"
   },
   {
    "duration": 37,
    "start_time": "2025-03-19T09:52:50.184Z"
   },
   {
    "duration": 37,
    "start_time": "2025-03-19T09:52:50.223Z"
   },
   {
    "duration": 190,
    "start_time": "2025-03-19T09:52:50.262Z"
   },
   {
    "duration": 5,
    "start_time": "2025-03-19T09:52:50.454Z"
   },
   {
    "duration": 287,
    "start_time": "2025-03-19T09:52:50.461Z"
   },
   {
    "duration": 390,
    "start_time": "2025-03-19T09:52:50.749Z"
   },
   {
    "duration": 394,
    "start_time": "2025-03-19T09:52:51.141Z"
   },
   {
    "duration": 1249,
    "start_time": "2025-03-19T10:03:46.067Z"
   },
   {
    "duration": 92,
    "start_time": "2025-03-19T10:03:47.318Z"
   },
   {
    "duration": 28,
    "start_time": "2025-03-19T10:03:47.411Z"
   },
   {
    "duration": 37,
    "start_time": "2025-03-19T10:03:47.441Z"
   },
   {
    "duration": 30,
    "start_time": "2025-03-19T10:03:47.481Z"
   },
   {
    "duration": 10,
    "start_time": "2025-03-19T10:03:47.512Z"
   },
   {
    "duration": 87,
    "start_time": "2025-03-19T10:03:47.523Z"
   },
   {
    "duration": 3,
    "start_time": "2025-03-19T10:03:47.612Z"
   },
   {
    "duration": 43,
    "start_time": "2025-03-19T10:03:47.617Z"
   },
   {
    "duration": 12,
    "start_time": "2025-03-19T10:03:47.662Z"
   },
   {
    "duration": 40,
    "start_time": "2025-03-19T10:03:47.676Z"
   },
   {
    "duration": 38,
    "start_time": "2025-03-19T10:03:47.718Z"
   },
   {
    "duration": 180,
    "start_time": "2025-03-19T10:03:47.757Z"
   },
   {
    "duration": 46,
    "start_time": "2025-03-19T10:03:47.940Z"
   },
   {
    "duration": 166,
    "start_time": "2025-03-19T10:03:48.005Z"
   },
   {
    "duration": 5,
    "start_time": "2025-03-19T10:03:48.173Z"
   },
   {
    "duration": 192,
    "start_time": "2025-03-19T10:03:48.179Z"
   },
   {
    "duration": 192,
    "start_time": "2025-03-19T10:03:48.373Z"
   },
   {
    "duration": 1178,
    "start_time": "2025-03-19T10:10:22.833Z"
   },
   {
    "duration": 80,
    "start_time": "2025-03-19T10:10:24.013Z"
   },
   {
    "duration": 28,
    "start_time": "2025-03-19T10:10:24.095Z"
   },
   {
    "duration": 39,
    "start_time": "2025-03-19T10:10:24.125Z"
   },
   {
    "duration": 9,
    "start_time": "2025-03-19T10:10:24.166Z"
   },
   {
    "duration": 34,
    "start_time": "2025-03-19T10:10:24.176Z"
   },
   {
    "duration": 41,
    "start_time": "2025-03-19T10:10:24.212Z"
   },
   {
    "duration": 3,
    "start_time": "2025-03-19T10:10:24.255Z"
   },
   {
    "duration": 66,
    "start_time": "2025-03-19T10:10:24.259Z"
   },
   {
    "duration": 12,
    "start_time": "2025-03-19T10:10:24.327Z"
   },
   {
    "duration": 20,
    "start_time": "2025-03-19T10:10:24.340Z"
   },
   {
    "duration": 54,
    "start_time": "2025-03-19T10:10:24.361Z"
   },
   {
    "duration": 173,
    "start_time": "2025-03-19T10:10:24.417Z"
   },
   {
    "duration": 49,
    "start_time": "2025-03-19T10:10:24.592Z"
   },
   {
    "duration": 170,
    "start_time": "2025-03-19T10:10:24.642Z"
   },
   {
    "duration": 38,
    "start_time": "2025-03-19T10:10:24.814Z"
   },
   {
    "duration": 157,
    "start_time": "2025-03-19T10:10:24.854Z"
   },
   {
    "duration": 5,
    "start_time": "2025-03-19T10:10:25.013Z"
   },
   {
    "duration": 61,
    "start_time": "2025-03-19T10:10:25.019Z"
   },
   {
    "duration": 168,
    "start_time": "2025-03-19T10:10:25.082Z"
   },
   {
    "duration": 3,
    "start_time": "2025-03-19T10:10:25.252Z"
   },
   {
    "duration": 1357,
    "start_time": "2025-03-19T10:20:20.479Z"
   },
   {
    "duration": 82,
    "start_time": "2025-03-19T10:20:21.838Z"
   },
   {
    "duration": 28,
    "start_time": "2025-03-19T10:20:21.921Z"
   },
   {
    "duration": 52,
    "start_time": "2025-03-19T10:20:21.952Z"
   },
   {
    "duration": 10,
    "start_time": "2025-03-19T10:20:22.005Z"
   },
   {
    "duration": 11,
    "start_time": "2025-03-19T10:20:22.017Z"
   },
   {
    "duration": 47,
    "start_time": "2025-03-19T10:20:22.029Z"
   },
   {
    "duration": 26,
    "start_time": "2025-03-19T10:20:22.078Z"
   },
   {
    "duration": 45,
    "start_time": "2025-03-19T10:20:22.106Z"
   },
   {
    "duration": 13,
    "start_time": "2025-03-19T10:20:22.153Z"
   },
   {
    "duration": 39,
    "start_time": "2025-03-19T10:20:22.167Z"
   },
   {
    "duration": 39,
    "start_time": "2025-03-19T10:20:22.208Z"
   },
   {
    "duration": 198,
    "start_time": "2025-03-19T10:20:22.249Z"
   },
   {
    "duration": 61,
    "start_time": "2025-03-19T10:20:22.448Z"
   },
   {
    "duration": 176,
    "start_time": "2025-03-19T10:20:22.510Z"
   },
   {
    "duration": 49,
    "start_time": "2025-03-19T10:20:22.689Z"
   },
   {
    "duration": 156,
    "start_time": "2025-03-19T10:20:22.739Z"
   },
   {
    "duration": 41,
    "start_time": "2025-03-19T10:20:22.896Z"
   },
   {
    "duration": 159,
    "start_time": "2025-03-19T10:20:22.939Z"
   },
   {
    "duration": 101,
    "start_time": "2025-03-19T10:21:36.775Z"
   },
   {
    "duration": 139,
    "start_time": "2025-03-19T10:21:40.924Z"
   },
   {
    "duration": 1191,
    "start_time": "2025-03-19T10:22:24.701Z"
   },
   {
    "duration": 73,
    "start_time": "2025-03-19T10:22:25.894Z"
   },
   {
    "duration": 27,
    "start_time": "2025-03-19T10:22:25.969Z"
   },
   {
    "duration": 40,
    "start_time": "2025-03-19T10:22:25.998Z"
   },
   {
    "duration": 9,
    "start_time": "2025-03-19T10:22:26.039Z"
   },
   {
    "duration": 9,
    "start_time": "2025-03-19T10:22:26.050Z"
   },
   {
    "duration": 73,
    "start_time": "2025-03-19T10:22:26.061Z"
   },
   {
    "duration": 3,
    "start_time": "2025-03-19T10:22:26.136Z"
   },
   {
    "duration": 46,
    "start_time": "2025-03-19T10:22:26.141Z"
   },
   {
    "duration": 23,
    "start_time": "2025-03-19T10:22:26.190Z"
   },
   {
    "duration": 19,
    "start_time": "2025-03-19T10:22:26.215Z"
   },
   {
    "duration": 38,
    "start_time": "2025-03-19T10:22:26.235Z"
   },
   {
    "duration": 165,
    "start_time": "2025-03-19T10:22:26.303Z"
   },
   {
    "duration": 54,
    "start_time": "2025-03-19T10:22:26.470Z"
   },
   {
    "duration": 173,
    "start_time": "2025-03-19T10:22:26.525Z"
   },
   {
    "duration": 39,
    "start_time": "2025-03-19T10:22:26.703Z"
   },
   {
    "duration": 163,
    "start_time": "2025-03-19T10:22:26.744Z"
   },
   {
    "duration": 33,
    "start_time": "2025-03-19T10:22:26.908Z"
   },
   {
    "duration": 162,
    "start_time": "2025-03-19T10:22:26.943Z"
   },
   {
    "duration": 170,
    "start_time": "2025-03-19T10:23:28.079Z"
   }
  ],
  "kernelspec": {
   "display_name": "Python 3 (ipykernel)",
   "language": "python",
   "name": "python3"
  },
  "language_info": {
   "codemirror_mode": {
    "name": "ipython",
    "version": 3
   },
   "file_extension": ".py",
   "mimetype": "text/x-python",
   "name": "python",
   "nbconvert_exporter": "python",
   "pygments_lexer": "ipython3",
   "version": "3.9.5"
  },
  "toc": {
   "base_numbering": 1,
   "nav_menu": {},
   "number_sections": true,
   "sideBar": true,
   "skip_h1_title": true,
   "title_cell": "Содержание работы",
   "title_sidebar": "Содержание",
   "toc_cell": true,
   "toc_position": {
    "height": "calc(100% - 180px)",
    "left": "10px",
    "top": "150px",
    "width": "307.2px"
   },
   "toc_section_display": true,
   "toc_window_display": true
  }
 },
 "nbformat": 4,
 "nbformat_minor": 5
}
