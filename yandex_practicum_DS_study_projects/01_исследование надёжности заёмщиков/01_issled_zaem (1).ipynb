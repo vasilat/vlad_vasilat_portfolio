{
 "cells": [
  {
   "cell_type": "markdown",
   "id": "235c38fd",
   "metadata": {
    "deletable": false,
    "editable": false,
    "id": "c81daeeb"
   },
   "source": [
    "# Исследование надежности заемщиков\n"
   ]
  },
  {
   "cell_type": "markdown",
   "id": "fccc96ab",
   "metadata": {
    "deletable": false,
    "editable": false,
    "id": "827c20bf"
   },
   "source": [
    "Во второй части проекта вы выполните шаги 3 и 4. Их вручную проверит ревьюер.\n",
    "Чтобы вам не пришлось писать код заново для шагов 1 и 2, мы добавили авторские решения в ячейки с кодом. \n",
    "\n"
   ]
  },
  {
   "cell_type": "code",
   "execution_count": null,
   "id": "124f3475-7533-45fc-b7ec-ea34a78eea38",
   "metadata": {},
   "outputs": [],
   "source": [
    "в"
   ]
  },
  {
   "cell_type": "markdown",
   "id": "be9e38ba-0b09-4e2e-951e-f16321aa2804",
   "metadata": {
    "editable": false,
    "id": "827c20bf"
   },
   "source": [
    "Во второй части проекта вы выполните шаги 3 и 4. Их вручную проверит ревьюер.\n",
    "Чтобы вам не пришлось писать код заново для шагов 1 и 2, мы добавили авторские решения в ячейки с кодом. \n",
    "\n"
   ]
  },
  {
   "cell_type": "markdown",
   "id": "40cb52b6",
   "metadata": {
    "deletable": false,
    "editable": false,
    "id": "744d7639"
   },
   "source": [
    "## Откройте таблицу и изучите общую информацию о данных"
   ]
  },
  {
   "cell_type": "markdown",
   "id": "fc337ebe",
   "metadata": {
    "deletable": false,
    "editable": false,
    "id": "e7a14c31"
   },
   "source": [
    "**Задание 1. Импортируйте библиотеку pandas. Считайте данные из csv-файла в датафрейм и сохраните в переменную `data`. Путь к файлу:**\n",
    "\n",
    "`/datasets/data.csv`"
   ]
  },
  {
   "cell_type": "code",
   "execution_count": 1,
   "id": "ad5ce604",
   "metadata": {
    "deletable": false,
    "id": "7bcf75c9"
   },
   "outputs": [],
   "source": [
    "import pandas as pd\n",
    "\n",
    "try:\n",
    "    data = pd.read_csv('/datasets/data.csv')\n",
    "except:\n",
    "    data = pd.read_csv('https://code.s3.yandex.net/datasets/data.csv')"
   ]
  },
  {
   "cell_type": "markdown",
   "id": "808a9de8",
   "metadata": {
    "deletable": false,
    "editable": false,
    "id": "b8038fe3"
   },
   "source": [
    "**Задание 2. Выведите первые 20 строчек датафрейма `data` на экран.**"
   ]
  },
  {
   "cell_type": "code",
   "execution_count": 2,
   "id": "fed67359",
   "metadata": {
    "deletable": false,
    "id": "2a7cab99",
    "outputId": "1a8f3ef2-d323-4ec2-ddf7-89670b5944c4"
   },
   "outputs": [
    {
     "data": {
      "text/html": [
       "<div>\n",
       "<style scoped>\n",
       "    .dataframe tbody tr th:only-of-type {\n",
       "        vertical-align: middle;\n",
       "    }\n",
       "\n",
       "    .dataframe tbody tr th {\n",
       "        vertical-align: top;\n",
       "    }\n",
       "\n",
       "    .dataframe thead th {\n",
       "        text-align: right;\n",
       "    }\n",
       "</style>\n",
       "<table border=\"1\" class=\"dataframe\">\n",
       "  <thead>\n",
       "    <tr style=\"text-align: right;\">\n",
       "      <th></th>\n",
       "      <th>children</th>\n",
       "      <th>days_employed</th>\n",
       "      <th>dob_years</th>\n",
       "      <th>education</th>\n",
       "      <th>education_id</th>\n",
       "      <th>family_status</th>\n",
       "      <th>family_status_id</th>\n",
       "      <th>gender</th>\n",
       "      <th>income_type</th>\n",
       "      <th>debt</th>\n",
       "      <th>total_income</th>\n",
       "      <th>purpose</th>\n",
       "    </tr>\n",
       "  </thead>\n",
       "  <tbody>\n",
       "    <tr>\n",
       "      <th>0</th>\n",
       "      <td>1</td>\n",
       "      <td>-8437.673028</td>\n",
       "      <td>42</td>\n",
       "      <td>высшее</td>\n",
       "      <td>0</td>\n",
       "      <td>женат / замужем</td>\n",
       "      <td>0</td>\n",
       "      <td>F</td>\n",
       "      <td>сотрудник</td>\n",
       "      <td>0</td>\n",
       "      <td>253875.639453</td>\n",
       "      <td>покупка жилья</td>\n",
       "    </tr>\n",
       "    <tr>\n",
       "      <th>1</th>\n",
       "      <td>1</td>\n",
       "      <td>-4024.803754</td>\n",
       "      <td>36</td>\n",
       "      <td>среднее</td>\n",
       "      <td>1</td>\n",
       "      <td>женат / замужем</td>\n",
       "      <td>0</td>\n",
       "      <td>F</td>\n",
       "      <td>сотрудник</td>\n",
       "      <td>0</td>\n",
       "      <td>112080.014102</td>\n",
       "      <td>приобретение автомобиля</td>\n",
       "    </tr>\n",
       "    <tr>\n",
       "      <th>2</th>\n",
       "      <td>0</td>\n",
       "      <td>-5623.422610</td>\n",
       "      <td>33</td>\n",
       "      <td>Среднее</td>\n",
       "      <td>1</td>\n",
       "      <td>женат / замужем</td>\n",
       "      <td>0</td>\n",
       "      <td>M</td>\n",
       "      <td>сотрудник</td>\n",
       "      <td>0</td>\n",
       "      <td>145885.952297</td>\n",
       "      <td>покупка жилья</td>\n",
       "    </tr>\n",
       "    <tr>\n",
       "      <th>3</th>\n",
       "      <td>3</td>\n",
       "      <td>-4124.747207</td>\n",
       "      <td>32</td>\n",
       "      <td>среднее</td>\n",
       "      <td>1</td>\n",
       "      <td>женат / замужем</td>\n",
       "      <td>0</td>\n",
       "      <td>M</td>\n",
       "      <td>сотрудник</td>\n",
       "      <td>0</td>\n",
       "      <td>267628.550329</td>\n",
       "      <td>дополнительное образование</td>\n",
       "    </tr>\n",
       "    <tr>\n",
       "      <th>4</th>\n",
       "      <td>0</td>\n",
       "      <td>340266.072047</td>\n",
       "      <td>53</td>\n",
       "      <td>среднее</td>\n",
       "      <td>1</td>\n",
       "      <td>гражданский брак</td>\n",
       "      <td>1</td>\n",
       "      <td>F</td>\n",
       "      <td>пенсионер</td>\n",
       "      <td>0</td>\n",
       "      <td>158616.077870</td>\n",
       "      <td>сыграть свадьбу</td>\n",
       "    </tr>\n",
       "    <tr>\n",
       "      <th>5</th>\n",
       "      <td>0</td>\n",
       "      <td>-926.185831</td>\n",
       "      <td>27</td>\n",
       "      <td>высшее</td>\n",
       "      <td>0</td>\n",
       "      <td>гражданский брак</td>\n",
       "      <td>1</td>\n",
       "      <td>M</td>\n",
       "      <td>компаньон</td>\n",
       "      <td>0</td>\n",
       "      <td>255763.565419</td>\n",
       "      <td>покупка жилья</td>\n",
       "    </tr>\n",
       "    <tr>\n",
       "      <th>6</th>\n",
       "      <td>0</td>\n",
       "      <td>-2879.202052</td>\n",
       "      <td>43</td>\n",
       "      <td>высшее</td>\n",
       "      <td>0</td>\n",
       "      <td>женат / замужем</td>\n",
       "      <td>0</td>\n",
       "      <td>F</td>\n",
       "      <td>компаньон</td>\n",
       "      <td>0</td>\n",
       "      <td>240525.971920</td>\n",
       "      <td>операции с жильем</td>\n",
       "    </tr>\n",
       "    <tr>\n",
       "      <th>7</th>\n",
       "      <td>0</td>\n",
       "      <td>-152.779569</td>\n",
       "      <td>50</td>\n",
       "      <td>СРЕДНЕЕ</td>\n",
       "      <td>1</td>\n",
       "      <td>женат / замужем</td>\n",
       "      <td>0</td>\n",
       "      <td>M</td>\n",
       "      <td>сотрудник</td>\n",
       "      <td>0</td>\n",
       "      <td>135823.934197</td>\n",
       "      <td>образование</td>\n",
       "    </tr>\n",
       "    <tr>\n",
       "      <th>8</th>\n",
       "      <td>2</td>\n",
       "      <td>-6929.865299</td>\n",
       "      <td>35</td>\n",
       "      <td>ВЫСШЕЕ</td>\n",
       "      <td>0</td>\n",
       "      <td>гражданский брак</td>\n",
       "      <td>1</td>\n",
       "      <td>F</td>\n",
       "      <td>сотрудник</td>\n",
       "      <td>0</td>\n",
       "      <td>95856.832424</td>\n",
       "      <td>на проведение свадьбы</td>\n",
       "    </tr>\n",
       "    <tr>\n",
       "      <th>9</th>\n",
       "      <td>0</td>\n",
       "      <td>-2188.756445</td>\n",
       "      <td>41</td>\n",
       "      <td>среднее</td>\n",
       "      <td>1</td>\n",
       "      <td>женат / замужем</td>\n",
       "      <td>0</td>\n",
       "      <td>M</td>\n",
       "      <td>сотрудник</td>\n",
       "      <td>0</td>\n",
       "      <td>144425.938277</td>\n",
       "      <td>покупка жилья для семьи</td>\n",
       "    </tr>\n",
       "    <tr>\n",
       "      <th>10</th>\n",
       "      <td>2</td>\n",
       "      <td>-4171.483647</td>\n",
       "      <td>36</td>\n",
       "      <td>высшее</td>\n",
       "      <td>0</td>\n",
       "      <td>женат / замужем</td>\n",
       "      <td>0</td>\n",
       "      <td>M</td>\n",
       "      <td>компаньон</td>\n",
       "      <td>0</td>\n",
       "      <td>113943.491460</td>\n",
       "      <td>покупка недвижимости</td>\n",
       "    </tr>\n",
       "    <tr>\n",
       "      <th>11</th>\n",
       "      <td>0</td>\n",
       "      <td>-792.701887</td>\n",
       "      <td>40</td>\n",
       "      <td>среднее</td>\n",
       "      <td>1</td>\n",
       "      <td>женат / замужем</td>\n",
       "      <td>0</td>\n",
       "      <td>F</td>\n",
       "      <td>сотрудник</td>\n",
       "      <td>0</td>\n",
       "      <td>77069.234271</td>\n",
       "      <td>покупка коммерческой недвижимости</td>\n",
       "    </tr>\n",
       "    <tr>\n",
       "      <th>12</th>\n",
       "      <td>0</td>\n",
       "      <td>NaN</td>\n",
       "      <td>65</td>\n",
       "      <td>среднее</td>\n",
       "      <td>1</td>\n",
       "      <td>гражданский брак</td>\n",
       "      <td>1</td>\n",
       "      <td>M</td>\n",
       "      <td>пенсионер</td>\n",
       "      <td>0</td>\n",
       "      <td>NaN</td>\n",
       "      <td>сыграть свадьбу</td>\n",
       "    </tr>\n",
       "    <tr>\n",
       "      <th>13</th>\n",
       "      <td>0</td>\n",
       "      <td>-1846.641941</td>\n",
       "      <td>54</td>\n",
       "      <td>неоконченное высшее</td>\n",
       "      <td>2</td>\n",
       "      <td>женат / замужем</td>\n",
       "      <td>0</td>\n",
       "      <td>F</td>\n",
       "      <td>сотрудник</td>\n",
       "      <td>0</td>\n",
       "      <td>130458.228857</td>\n",
       "      <td>приобретение автомобиля</td>\n",
       "    </tr>\n",
       "    <tr>\n",
       "      <th>14</th>\n",
       "      <td>0</td>\n",
       "      <td>-1844.956182</td>\n",
       "      <td>56</td>\n",
       "      <td>высшее</td>\n",
       "      <td>0</td>\n",
       "      <td>гражданский брак</td>\n",
       "      <td>1</td>\n",
       "      <td>F</td>\n",
       "      <td>компаньон</td>\n",
       "      <td>1</td>\n",
       "      <td>165127.911772</td>\n",
       "      <td>покупка жилой недвижимости</td>\n",
       "    </tr>\n",
       "    <tr>\n",
       "      <th>15</th>\n",
       "      <td>1</td>\n",
       "      <td>-972.364419</td>\n",
       "      <td>26</td>\n",
       "      <td>среднее</td>\n",
       "      <td>1</td>\n",
       "      <td>женат / замужем</td>\n",
       "      <td>0</td>\n",
       "      <td>F</td>\n",
       "      <td>сотрудник</td>\n",
       "      <td>0</td>\n",
       "      <td>116820.904450</td>\n",
       "      <td>строительство собственной недвижимости</td>\n",
       "    </tr>\n",
       "    <tr>\n",
       "      <th>16</th>\n",
       "      <td>0</td>\n",
       "      <td>-1719.934226</td>\n",
       "      <td>35</td>\n",
       "      <td>среднее</td>\n",
       "      <td>1</td>\n",
       "      <td>женат / замужем</td>\n",
       "      <td>0</td>\n",
       "      <td>F</td>\n",
       "      <td>сотрудник</td>\n",
       "      <td>0</td>\n",
       "      <td>289202.704229</td>\n",
       "      <td>недвижимость</td>\n",
       "    </tr>\n",
       "    <tr>\n",
       "      <th>17</th>\n",
       "      <td>0</td>\n",
       "      <td>-2369.999720</td>\n",
       "      <td>33</td>\n",
       "      <td>высшее</td>\n",
       "      <td>0</td>\n",
       "      <td>гражданский брак</td>\n",
       "      <td>1</td>\n",
       "      <td>M</td>\n",
       "      <td>сотрудник</td>\n",
       "      <td>0</td>\n",
       "      <td>90410.586745</td>\n",
       "      <td>строительство недвижимости</td>\n",
       "    </tr>\n",
       "    <tr>\n",
       "      <th>18</th>\n",
       "      <td>0</td>\n",
       "      <td>400281.136913</td>\n",
       "      <td>53</td>\n",
       "      <td>среднее</td>\n",
       "      <td>1</td>\n",
       "      <td>вдовец / вдова</td>\n",
       "      <td>2</td>\n",
       "      <td>F</td>\n",
       "      <td>пенсионер</td>\n",
       "      <td>0</td>\n",
       "      <td>56823.777243</td>\n",
       "      <td>на покупку подержанного автомобиля</td>\n",
       "    </tr>\n",
       "    <tr>\n",
       "      <th>19</th>\n",
       "      <td>0</td>\n",
       "      <td>-10038.818549</td>\n",
       "      <td>48</td>\n",
       "      <td>СРЕДНЕЕ</td>\n",
       "      <td>1</td>\n",
       "      <td>в разводе</td>\n",
       "      <td>3</td>\n",
       "      <td>F</td>\n",
       "      <td>сотрудник</td>\n",
       "      <td>0</td>\n",
       "      <td>242831.107982</td>\n",
       "      <td>на покупку своего автомобиля</td>\n",
       "    </tr>\n",
       "  </tbody>\n",
       "</table>\n",
       "</div>"
      ],
      "text/plain": [
       "    children  days_employed  dob_years            education  education_id  \\\n",
       "0          1   -8437.673028         42               высшее             0   \n",
       "1          1   -4024.803754         36              среднее             1   \n",
       "2          0   -5623.422610         33              Среднее             1   \n",
       "3          3   -4124.747207         32              среднее             1   \n",
       "4          0  340266.072047         53              среднее             1   \n",
       "5          0    -926.185831         27               высшее             0   \n",
       "6          0   -2879.202052         43               высшее             0   \n",
       "7          0    -152.779569         50              СРЕДНЕЕ             1   \n",
       "8          2   -6929.865299         35               ВЫСШЕЕ             0   \n",
       "9          0   -2188.756445         41              среднее             1   \n",
       "10         2   -4171.483647         36               высшее             0   \n",
       "11         0    -792.701887         40              среднее             1   \n",
       "12         0            NaN         65              среднее             1   \n",
       "13         0   -1846.641941         54  неоконченное высшее             2   \n",
       "14         0   -1844.956182         56               высшее             0   \n",
       "15         1    -972.364419         26              среднее             1   \n",
       "16         0   -1719.934226         35              среднее             1   \n",
       "17         0   -2369.999720         33               высшее             0   \n",
       "18         0  400281.136913         53              среднее             1   \n",
       "19         0  -10038.818549         48              СРЕДНЕЕ             1   \n",
       "\n",
       "       family_status  family_status_id gender income_type  debt  \\\n",
       "0    женат / замужем                 0      F   сотрудник     0   \n",
       "1    женат / замужем                 0      F   сотрудник     0   \n",
       "2    женат / замужем                 0      M   сотрудник     0   \n",
       "3    женат / замужем                 0      M   сотрудник     0   \n",
       "4   гражданский брак                 1      F   пенсионер     0   \n",
       "5   гражданский брак                 1      M   компаньон     0   \n",
       "6    женат / замужем                 0      F   компаньон     0   \n",
       "7    женат / замужем                 0      M   сотрудник     0   \n",
       "8   гражданский брак                 1      F   сотрудник     0   \n",
       "9    женат / замужем                 0      M   сотрудник     0   \n",
       "10   женат / замужем                 0      M   компаньон     0   \n",
       "11   женат / замужем                 0      F   сотрудник     0   \n",
       "12  гражданский брак                 1      M   пенсионер     0   \n",
       "13   женат / замужем                 0      F   сотрудник     0   \n",
       "14  гражданский брак                 1      F   компаньон     1   \n",
       "15   женат / замужем                 0      F   сотрудник     0   \n",
       "16   женат / замужем                 0      F   сотрудник     0   \n",
       "17  гражданский брак                 1      M   сотрудник     0   \n",
       "18    вдовец / вдова                 2      F   пенсионер     0   \n",
       "19         в разводе                 3      F   сотрудник     0   \n",
       "\n",
       "     total_income                                 purpose  \n",
       "0   253875.639453                           покупка жилья  \n",
       "1   112080.014102                 приобретение автомобиля  \n",
       "2   145885.952297                           покупка жилья  \n",
       "3   267628.550329              дополнительное образование  \n",
       "4   158616.077870                         сыграть свадьбу  \n",
       "5   255763.565419                           покупка жилья  \n",
       "6   240525.971920                       операции с жильем  \n",
       "7   135823.934197                             образование  \n",
       "8    95856.832424                   на проведение свадьбы  \n",
       "9   144425.938277                 покупка жилья для семьи  \n",
       "10  113943.491460                    покупка недвижимости  \n",
       "11   77069.234271       покупка коммерческой недвижимости  \n",
       "12            NaN                         сыграть свадьбу  \n",
       "13  130458.228857                 приобретение автомобиля  \n",
       "14  165127.911772              покупка жилой недвижимости  \n",
       "15  116820.904450  строительство собственной недвижимости  \n",
       "16  289202.704229                            недвижимость  \n",
       "17   90410.586745              строительство недвижимости  \n",
       "18   56823.777243      на покупку подержанного автомобиля  \n",
       "19  242831.107982            на покупку своего автомобиля  "
      ]
     },
     "execution_count": 2,
     "metadata": {},
     "output_type": "execute_result"
    }
   ],
   "source": [
    "data.head(20)"
   ]
  },
  {
   "cell_type": "markdown",
   "id": "0bec7ff6",
   "metadata": {
    "deletable": false,
    "editable": false,
    "id": "1c12e233"
   },
   "source": [
    "**Задание 3. Выведите основную информацию о датафрейме с помощью метода `info()`.**"
   ]
  },
  {
   "cell_type": "code",
   "execution_count": 3,
   "id": "6eba8bbe",
   "metadata": {
    "deletable": false,
    "id": "2b757bca",
    "outputId": "15376089-8dad-46c9-b520-c05248d43158"
   },
   "outputs": [
    {
     "name": "stdout",
     "output_type": "stream",
     "text": [
      "<class 'pandas.core.frame.DataFrame'>\n",
      "RangeIndex: 21525 entries, 0 to 21524\n",
      "Data columns (total 12 columns):\n",
      " #   Column            Non-Null Count  Dtype  \n",
      "---  ------            --------------  -----  \n",
      " 0   children          21525 non-null  int64  \n",
      " 1   days_employed     19351 non-null  float64\n",
      " 2   dob_years         21525 non-null  int64  \n",
      " 3   education         21525 non-null  object \n",
      " 4   education_id      21525 non-null  int64  \n",
      " 5   family_status     21525 non-null  object \n",
      " 6   family_status_id  21525 non-null  int64  \n",
      " 7   gender            21525 non-null  object \n",
      " 8   income_type       21525 non-null  object \n",
      " 9   debt              21525 non-null  int64  \n",
      " 10  total_income      19351 non-null  float64\n",
      " 11  purpose           21525 non-null  object \n",
      "dtypes: float64(2), int64(5), object(5)\n",
      "memory usage: 2.0+ MB\n"
     ]
    }
   ],
   "source": [
    "data.info()"
   ]
  },
  {
   "cell_type": "markdown",
   "id": "33803f43",
   "metadata": {
    "deletable": false,
    "editable": false,
    "id": "333ec665"
   },
   "source": [
    "## Предобработка данных"
   ]
  },
  {
   "cell_type": "markdown",
   "id": "ce4455db",
   "metadata": {
    "deletable": false,
    "editable": false,
    "id": "02d92d53"
   },
   "source": [
    "### Удаление пропусков"
   ]
  },
  {
   "cell_type": "markdown",
   "id": "048330fd",
   "metadata": {
    "deletable": false,
    "editable": false,
    "id": "cd84967c"
   },
   "source": [
    "**Задание 4. Выведите количество пропущенных значений для каждого столбца. Используйте комбинацию двух методов.**"
   ]
  },
  {
   "cell_type": "code",
   "execution_count": 4,
   "id": "ddc9c5f1",
   "metadata": {
    "deletable": false,
    "id": "7f9b2309",
    "outputId": "81f4d817-781c-465c-ed15-91ce4446810d"
   },
   "outputs": [
    {
     "data": {
      "text/plain": [
       "children               0\n",
       "days_employed       2174\n",
       "dob_years              0\n",
       "education              0\n",
       "education_id           0\n",
       "family_status          0\n",
       "family_status_id       0\n",
       "gender                 0\n",
       "income_type            0\n",
       "debt                   0\n",
       "total_income        2174\n",
       "purpose                0\n",
       "dtype: int64"
      ]
     },
     "execution_count": 4,
     "metadata": {},
     "output_type": "execute_result"
    }
   ],
   "source": [
    "data.isna().sum()"
   ]
  },
  {
   "cell_type": "markdown",
   "id": "f08cd04b",
   "metadata": {
    "deletable": false,
    "editable": false,
    "id": "db86e27b"
   },
   "source": [
    "**Задание 5. В двух столбцах есть пропущенные значения. Один из них — `days_employed`. Пропуски в этом столбце вы обработаете на следующем этапе. Другой столбец с пропущенными значениями — `total_income` — хранит данные о доходах. На сумму дохода сильнее всего влияет тип занятости, поэтому заполнить пропуски в этом столбце нужно медианным значением по каждому типу из столбца `income_type`. Например, у человека с типом занятости `сотрудник` пропуск в столбце `total_income` должен быть заполнен медианным доходом среди всех записей с тем же типом.**"
   ]
  },
  {
   "cell_type": "code",
   "execution_count": 5,
   "id": "523adde2",
   "metadata": {
    "deletable": false,
    "id": "42006a93"
   },
   "outputs": [],
   "source": [
    "for t in data['income_type'].unique():\n",
    "    data.loc[(data['income_type'] == t) & (data['total_income'].isna()), 'total_income'] = \\\n",
    "    data.loc[(data['income_type'] == t), 'total_income'].median()"
   ]
  },
  {
   "cell_type": "markdown",
   "id": "9b403d4b",
   "metadata": {
    "deletable": false,
    "editable": false,
    "id": "89da5ece"
   },
   "source": [
    "### Обработка аномальных значений"
   ]
  },
  {
   "cell_type": "markdown",
   "id": "ee2206df",
   "metadata": {
    "deletable": false,
    "editable": false,
    "id": "57964554"
   },
   "source": [
    "**Задание 6. В данных могут встречаться артефакты (аномалии) — значения, которые не отражают действительность и появились по какой-то ошибке. таким артефактом будет отрицательное количество дней трудового стажа в столбце `days_employed`. Для реальных данных это нормально. Обработайте значения в этом столбце: замените все отрицательные значения положительными с помощью метода `abs()`.**"
   ]
  },
  {
   "cell_type": "code",
   "execution_count": 6,
   "id": "ac358ef9",
   "metadata": {
    "deletable": false,
    "id": "f6f055bf"
   },
   "outputs": [],
   "source": [
    "data['days_employed'] = data['days_employed'].abs()"
   ]
  },
  {
   "cell_type": "markdown",
   "id": "9afbcd40",
   "metadata": {
    "deletable": false,
    "editable": false,
    "id": "6107dd2f"
   },
   "source": [
    "**Задание 7. Для каждого типа занятости выведите медианное значение трудового стажа `days_employed` в днях.**"
   ]
  },
  {
   "cell_type": "code",
   "execution_count": 7,
   "id": "67c3e661",
   "metadata": {
    "deletable": false,
    "id": "85a5faf6",
    "outputId": "801ef80e-522b-4668-f34e-565af7432bcf"
   },
   "outputs": [
    {
     "data": {
      "text/plain": [
       "income_type\n",
       "безработный        366413.652744\n",
       "в декрете            3296.759962\n",
       "госслужащий          2689.368353\n",
       "компаньон            1547.382223\n",
       "пенсионер          365213.306266\n",
       "предприниматель       520.848083\n",
       "сотрудник            1574.202821\n",
       "студент               578.751554\n",
       "Name: days_employed, dtype: float64"
      ]
     },
     "execution_count": 7,
     "metadata": {},
     "output_type": "execute_result"
    }
   ],
   "source": [
    "data.groupby('income_type')['days_employed'].agg('median')"
   ]
  },
  {
   "cell_type": "markdown",
   "id": "4e695492",
   "metadata": {
    "deletable": false,
    "editable": false,
    "id": "38d1a030"
   },
   "source": [
    "У двух типов (безработные и пенсионеры) получатся аномально большие значения. Исправить такие значения сложно, поэтому оставьте их как есть. Тем более этот столбец не понадобится вам для исследования."
   ]
  },
  {
   "cell_type": "markdown",
   "id": "47d4d641",
   "metadata": {
    "deletable": false,
    "editable": false,
    "id": "d8a9f147"
   },
   "source": [
    "**Задание 8. Выведите перечень уникальных значений столбца `children`.**"
   ]
  },
  {
   "cell_type": "code",
   "execution_count": 8,
   "id": "186d70ac",
   "metadata": {
    "deletable": false,
    "id": "ef5056eb",
    "outputId": "6975b15c-7f95-4697-d16d-a0c79b657b03"
   },
   "outputs": [
    {
     "data": {
      "text/plain": [
       "array([ 1,  0,  3,  2, -1,  4, 20,  5], dtype=int64)"
      ]
     },
     "execution_count": 8,
     "metadata": {},
     "output_type": "execute_result"
    }
   ],
   "source": [
    "data['children'].unique()"
   ]
  },
  {
   "cell_type": "markdown",
   "id": "9c62cdec",
   "metadata": {
    "deletable": false,
    "editable": false,
    "id": "40b9ebf2"
   },
   "source": [
    "**Задание 9. В столбце `children` есть два аномальных значения. Удалите строки, в которых встречаются такие аномальные значения из датафрейма `data`.**"
   ]
  },
  {
   "cell_type": "code",
   "execution_count": 9,
   "id": "c9b35daa",
   "metadata": {
    "deletable": false,
    "id": "3ff9801d"
   },
   "outputs": [],
   "source": [
    "data = data[(data['children'] != -1) & (data['children'] != 20)]"
   ]
  },
  {
   "cell_type": "markdown",
   "id": "381654cc",
   "metadata": {
    "deletable": false,
    "editable": false,
    "id": "bbc4d0ce"
   },
   "source": [
    "**Задание 10. Ещё раз выведите перечень уникальных значений столбца `children`, чтобы убедиться, что артефакты удалены.**"
   ]
  },
  {
   "cell_type": "code",
   "execution_count": 10,
   "id": "9408b4bf",
   "metadata": {
    "deletable": false,
    "id": "ad4fa8b7",
    "outputId": "b2097101-d49d-44d9-901b-32a65c9463d1"
   },
   "outputs": [
    {
     "data": {
      "text/plain": [
       "array([1, 0, 3, 2, 4, 5], dtype=int64)"
      ]
     },
     "execution_count": 10,
     "metadata": {},
     "output_type": "execute_result"
    }
   ],
   "source": [
    "data['children'].unique()"
   ]
  },
  {
   "cell_type": "markdown",
   "id": "82c332b1",
   "metadata": {
    "deletable": false,
    "editable": false,
    "id": "75440b63"
   },
   "source": [
    "### Удаление пропусков (продолжение)"
   ]
  },
  {
   "cell_type": "markdown",
   "id": "70cb8892",
   "metadata": {
    "deletable": false,
    "editable": false,
    "id": "f4ea573f"
   },
   "source": [
    "**Задание 11. Заполните пропуски в столбце `days_employed` медианными значениями по каждого типа занятости `income_type`.**"
   ]
  },
  {
   "cell_type": "code",
   "execution_count": 11,
   "id": "ffea10be",
   "metadata": {
    "deletable": false,
    "id": "af6b1a7e"
   },
   "outputs": [],
   "source": [
    "for t in data['income_type'].unique():\n",
    "    data.loc[(data['income_type'] == t) & (data['days_employed'].isna()), 'days_employed'] = \\\n",
    "    data.loc[(data['income_type'] == t), 'days_employed'].median()"
   ]
  },
  {
   "cell_type": "markdown",
   "id": "e301f401",
   "metadata": {
    "deletable": false,
    "editable": false,
    "id": "2753f40d"
   },
   "source": [
    "**Задание 12. Убедитесь, что все пропуски заполнены. Проверьте себя и ещё раз выведите количество пропущенных значений для каждого столбца с помощью двух методов.**"
   ]
  },
  {
   "cell_type": "code",
   "execution_count": 12,
   "id": "8616e8f6",
   "metadata": {
    "deletable": false,
    "id": "55f78bc2",
    "outputId": "8da1e4e1-358e-4e87-98c9-f261bce0a7b2"
   },
   "outputs": [
    {
     "data": {
      "text/plain": [
       "children            0\n",
       "days_employed       0\n",
       "dob_years           0\n",
       "education           0\n",
       "education_id        0\n",
       "family_status       0\n",
       "family_status_id    0\n",
       "gender              0\n",
       "income_type         0\n",
       "debt                0\n",
       "total_income        0\n",
       "purpose             0\n",
       "dtype: int64"
      ]
     },
     "execution_count": 12,
     "metadata": {},
     "output_type": "execute_result"
    }
   ],
   "source": [
    "data.isna().sum()"
   ]
  },
  {
   "cell_type": "markdown",
   "id": "7292b8a6",
   "metadata": {
    "deletable": false,
    "editable": false,
    "id": "ddc81e43"
   },
   "source": [
    "### Изменение типов данных"
   ]
  },
  {
   "cell_type": "markdown",
   "id": "8caa7b1d",
   "metadata": {
    "deletable": false,
    "editable": false,
    "id": "42d19d24"
   },
   "source": [
    "**Задание 13. Замените вещественный тип данных в столбце `total_income` на целочисленный с помощью метода `astype()`.**"
   ]
  },
  {
   "cell_type": "code",
   "execution_count": 13,
   "id": "a56eaa2c",
   "metadata": {
    "deletable": false,
    "id": "920b65ad"
   },
   "outputs": [],
   "source": [
    "data['total_income'] = data['total_income'].astype(int)"
   ]
  },
  {
   "cell_type": "markdown",
   "id": "141ca8fb",
   "metadata": {
    "deletable": false,
    "editable": false,
    "id": "80c420ba"
   },
   "source": [
    "### Обработка дубликатов"
   ]
  },
  {
   "cell_type": "markdown",
   "id": "a40ec610",
   "metadata": {
    "deletable": false,
    "editable": false
   },
   "source": [
    "**Задание 14. Обработайте неявные дубликаты в столбце `education`. В этом столбце есть одни и те же значения, но записанные по-разному: с использованием заглавных и строчных букв. Приведите их к нижнему регистру. Проверьте остальные столбцы.**"
   ]
  },
  {
   "cell_type": "code",
   "execution_count": 14,
   "id": "89567533",
   "metadata": {
    "deletable": false
   },
   "outputs": [],
   "source": [
    "data['education'] = data['education'].str.lower()"
   ]
  },
  {
   "cell_type": "markdown",
   "id": "5ed83bba",
   "metadata": {
    "deletable": false,
    "editable": false,
    "id": "dc587695"
   },
   "source": [
    "**Задание 15. Выведите на экран количество строк-дубликатов в данных. Если такие строки присутствуют, удалите их.**"
   ]
  },
  {
   "cell_type": "code",
   "execution_count": 15,
   "id": "73d7a0b5",
   "metadata": {
    "deletable": false,
    "id": "3ee445e4",
    "outputId": "9684deba-1934-42d1-99e1-cda61740f822"
   },
   "outputs": [
    {
     "data": {
      "text/plain": [
       "71"
      ]
     },
     "execution_count": 15,
     "metadata": {},
     "output_type": "execute_result"
    }
   ],
   "source": [
    "data.duplicated().sum()"
   ]
  },
  {
   "cell_type": "code",
   "execution_count": 16,
   "id": "efa7e021",
   "metadata": {
    "deletable": false,
    "id": "8575fe05"
   },
   "outputs": [],
   "source": [
    "data = data.drop_duplicates()"
   ]
  },
  {
   "cell_type": "markdown",
   "id": "4f80ba0c",
   "metadata": {
    "deletable": false,
    "editable": false,
    "id": "9904cf55"
   },
   "source": [
    "### Категоризация данных"
   ]
  },
  {
   "cell_type": "markdown",
   "id": "c4fbaaf6",
   "metadata": {
    "deletable": false,
    "editable": false,
    "id": "72fcc8a2"
   },
   "source": [
    "**Задание 16. На основании диапазонов, указанных ниже, создайте в датафрейме `data` столбец `total_income_category` с категориями:**\n",
    "\n",
    "- 0–30000 — `'E'`;\n",
    "- 30001–50000 — `'D'`;\n",
    "- 50001–200000 — `'C'`;\n",
    "- 200001–1000000 — `'B'`;\n",
    "- 1000001 и выше — `'A'`.\n",
    "\n",
    "\n",
    "**Например, кредитополучателю с доходом 25000 нужно назначить категорию `'E'`, а клиенту, получающему 235000, — `'B'`. Используйте собственную функцию с именем `categorize_income()` и метод `apply()`.**"
   ]
  },
  {
   "cell_type": "code",
   "execution_count": 17,
   "id": "21008cfc",
   "metadata": {
    "deletable": false,
    "id": "e1771346"
   },
   "outputs": [],
   "source": [
    "def categorize_income(income):\n",
    "    try:\n",
    "        if 0 <= income <= 30000:\n",
    "            return 'E'\n",
    "        elif 30001 <= income <= 50000:\n",
    "            return 'D'\n",
    "        elif 50001 <= income <= 200000:\n",
    "            return 'C'\n",
    "        elif 200001 <= income <= 1000000:\n",
    "            return 'B'\n",
    "        elif income >= 1000001:\n",
    "            return 'A'\n",
    "    except:\n",
    "        pass"
   ]
  },
  {
   "cell_type": "code",
   "execution_count": 18,
   "id": "a3862507",
   "metadata": {
    "deletable": false,
    "id": "d5f3586d"
   },
   "outputs": [],
   "source": [
    "data['total_income_category'] = data['total_income'].apply(categorize_income)"
   ]
  },
  {
   "cell_type": "markdown",
   "id": "65b3410b",
   "metadata": {
    "deletable": false,
    "editable": false,
    "id": "dde49b5c"
   },
   "source": [
    "**Задание 17. Выведите на экран перечень уникальных целей взятия кредита из столбца `purpose`.**"
   ]
  },
  {
   "cell_type": "code",
   "execution_count": 19,
   "id": "43e841c2",
   "metadata": {
    "deletable": false,
    "id": "f67ce9b3",
    "outputId": "673c12d9-7d7e-4ae0-9812-c622c89dd244"
   },
   "outputs": [
    {
     "data": {
      "text/plain": [
       "array(['покупка жилья', 'приобретение автомобиля',\n",
       "       'дополнительное образование', 'сыграть свадьбу',\n",
       "       'операции с жильем', 'образование', 'на проведение свадьбы',\n",
       "       'покупка жилья для семьи', 'покупка недвижимости',\n",
       "       'покупка коммерческой недвижимости', 'покупка жилой недвижимости',\n",
       "       'строительство собственной недвижимости', 'недвижимость',\n",
       "       'строительство недвижимости', 'на покупку подержанного автомобиля',\n",
       "       'на покупку своего автомобиля',\n",
       "       'операции с коммерческой недвижимостью',\n",
       "       'строительство жилой недвижимости', 'жилье',\n",
       "       'операции со своей недвижимостью', 'автомобили',\n",
       "       'заняться образованием', 'сделка с подержанным автомобилем',\n",
       "       'получение образования', 'автомобиль', 'свадьба',\n",
       "       'получение дополнительного образования', 'покупка своего жилья',\n",
       "       'операции с недвижимостью', 'получение высшего образования',\n",
       "       'свой автомобиль', 'сделка с автомобилем',\n",
       "       'профильное образование', 'высшее образование',\n",
       "       'покупка жилья для сдачи', 'на покупку автомобиля', 'ремонт жилью',\n",
       "       'заняться высшим образованием'], dtype=object)"
      ]
     },
     "execution_count": 19,
     "metadata": {},
     "output_type": "execute_result"
    }
   ],
   "source": [
    "data['purpose'].unique()"
   ]
  },
  {
   "cell_type": "markdown",
   "id": "825ff141",
   "metadata": {
    "deletable": false,
    "editable": false,
    "id": "85d0aef0"
   },
   "source": [
    "**Задание 18. Создайте функцию, которая на основании данных из столбца `purpose` сформирует новый столбец `purpose_category`, в который войдут следующие категории:**\n",
    "\n",
    "- `'операции с автомобилем'`,\n",
    "- `'операции с недвижимостью'`,\n",
    "- `'проведение свадьбы'`,\n",
    "- `'получение образования'`.\n",
    "\n",
    "**Например, если в столбце `purpose` находится подстрока `'на покупку автомобиля'`, то в столбце `purpose_category` должна появиться строка `'операции с автомобилем'`.**\n",
    "\n",
    "**Используйте собственную функцию с именем `categorize_purpose()` и метод `apply()`. Изучите данные в столбце `purpose` и определите, какие подстроки помогут вам правильно определить категорию.**"
   ]
  },
  {
   "cell_type": "code",
   "execution_count": 20,
   "id": "0ea870b6",
   "metadata": {
    "deletable": false,
    "id": "e149fab4"
   },
   "outputs": [],
   "source": [
    "def categorize_purpose(row):\n",
    "    try:\n",
    "        if 'автом' in row:\n",
    "            return 'операции с автомобилем'\n",
    "        elif 'жил' in row or 'недвиж' in row:\n",
    "            return 'операции с недвижимостью'\n",
    "        elif 'свад' in row:\n",
    "            return 'проведение свадьбы'\n",
    "        elif 'образов' in row:\n",
    "            return 'получение образования'\n",
    "    except:\n",
    "        return 'нет категории'"
   ]
  },
  {
   "cell_type": "code",
   "execution_count": 21,
   "id": "7b34f382",
   "metadata": {
    "deletable": false,
    "id": "bf36e69b"
   },
   "outputs": [],
   "source": [
    "data['purpose_category'] = data['purpose'].apply(categorize_purpose)"
   ]
  },
  {
   "cell_type": "markdown",
   "id": "d141f592",
   "metadata": {
    "deletable": false,
    "editable": false,
    "id": "09b242bf"
   },
   "source": [
    "### Шаг 3. Исследуйте данные и ответьте на вопросы"
   ]
  },
  {
   "cell_type": "markdown",
   "id": "5cdfe345",
   "metadata": {
    "deletable": false,
    "editable": false,
    "id": "c5d66278"
   },
   "source": [
    "#### 3.1 Есть ли зависимость между количеством детей и возвратом кредита в срок?"
   ]
  },
  {
   "cell_type": "code",
   "execution_count": 22,
   "id": "6e3c7106",
   "metadata": {
    "deletable": false,
    "id": "2cacfc4a"
   },
   "outputs": [
    {
     "data": {
      "text/html": [
       "<div>\n",
       "<style scoped>\n",
       "    .dataframe tbody tr th:only-of-type {\n",
       "        vertical-align: middle;\n",
       "    }\n",
       "\n",
       "    .dataframe tbody tr th {\n",
       "        vertical-align: top;\n",
       "    }\n",
       "\n",
       "    .dataframe thead tr th {\n",
       "        text-align: left;\n",
       "    }\n",
       "\n",
       "    .dataframe thead tr:last-of-type th {\n",
       "        text-align: right;\n",
       "    }\n",
       "</style>\n",
       "<table border=\"1\" class=\"dataframe\">\n",
       "  <thead>\n",
       "    <tr>\n",
       "      <th></th>\n",
       "      <th colspan=\"2\" halign=\"left\">debt</th>\n",
       "      <th>ratio_in_procent</th>\n",
       "    </tr>\n",
       "    <tr>\n",
       "      <th></th>\n",
       "      <th>count</th>\n",
       "      <th>sum</th>\n",
       "      <th></th>\n",
       "    </tr>\n",
       "    <tr>\n",
       "      <th>children</th>\n",
       "      <th></th>\n",
       "      <th></th>\n",
       "      <th></th>\n",
       "    </tr>\n",
       "  </thead>\n",
       "  <tbody>\n",
       "    <tr>\n",
       "      <th>0</th>\n",
       "      <td>14091</td>\n",
       "      <td>1063</td>\n",
       "      <td>7.54%</td>\n",
       "    </tr>\n",
       "    <tr>\n",
       "      <th>1</th>\n",
       "      <td>4808</td>\n",
       "      <td>444</td>\n",
       "      <td>9.23%</td>\n",
       "    </tr>\n",
       "    <tr>\n",
       "      <th>2</th>\n",
       "      <td>2052</td>\n",
       "      <td>194</td>\n",
       "      <td>9.45%</td>\n",
       "    </tr>\n",
       "    <tr>\n",
       "      <th>3</th>\n",
       "      <td>330</td>\n",
       "      <td>27</td>\n",
       "      <td>8.18%</td>\n",
       "    </tr>\n",
       "    <tr>\n",
       "      <th>4</th>\n",
       "      <td>41</td>\n",
       "      <td>4</td>\n",
       "      <td>9.76%</td>\n",
       "    </tr>\n",
       "    <tr>\n",
       "      <th>5</th>\n",
       "      <td>9</td>\n",
       "      <td>0</td>\n",
       "      <td>0.00%</td>\n",
       "    </tr>\n",
       "  </tbody>\n",
       "</table>\n",
       "</div>"
      ],
      "text/plain": [
       "           debt       ratio_in_procent\n",
       "          count   sum                 \n",
       "children                              \n",
       "0         14091  1063            7.54%\n",
       "1          4808   444            9.23%\n",
       "2          2052   194            9.45%\n",
       "3           330    27            8.18%\n",
       "4            41     4            9.76%\n",
       "5             9     0            0.00%"
      ]
     },
     "metadata": {},
     "output_type": "display_data"
    },
    {
     "data": {
      "text/html": [
       "<div>\n",
       "<style scoped>\n",
       "    .dataframe tbody tr th:only-of-type {\n",
       "        vertical-align: middle;\n",
       "    }\n",
       "\n",
       "    .dataframe tbody tr th {\n",
       "        vertical-align: top;\n",
       "    }\n",
       "\n",
       "    .dataframe thead tr th {\n",
       "        text-align: left;\n",
       "    }\n",
       "\n",
       "    .dataframe thead tr:last-of-type th {\n",
       "        text-align: right;\n",
       "    }\n",
       "</style>\n",
       "<table border=\"1\" class=\"dataframe\">\n",
       "  <thead>\n",
       "    <tr>\n",
       "      <th></th>\n",
       "      <th colspan=\"2\" halign=\"left\">debt</th>\n",
       "      <th>ratio_in_procent</th>\n",
       "      <th>income_mean</th>\n",
       "      <th>income_median</th>\n",
       "    </tr>\n",
       "    <tr>\n",
       "      <th></th>\n",
       "      <th>count</th>\n",
       "      <th>sum</th>\n",
       "      <th></th>\n",
       "      <th></th>\n",
       "      <th></th>\n",
       "    </tr>\n",
       "    <tr>\n",
       "      <th>children</th>\n",
       "      <th></th>\n",
       "      <th></th>\n",
       "      <th></th>\n",
       "      <th></th>\n",
       "      <th></th>\n",
       "    </tr>\n",
       "  </thead>\n",
       "  <tbody>\n",
       "    <tr>\n",
       "      <th>0</th>\n",
       "      <td>14091</td>\n",
       "      <td>1063</td>\n",
       "      <td>7.54%</td>\n",
       "      <td>163052.099851</td>\n",
       "      <td>142594.0</td>\n",
       "    </tr>\n",
       "    <tr>\n",
       "      <th>1</th>\n",
       "      <td>4808</td>\n",
       "      <td>444</td>\n",
       "      <td>9.23%</td>\n",
       "      <td>169194.979617</td>\n",
       "      <td>145531.0</td>\n",
       "    </tr>\n",
       "    <tr>\n",
       "      <th>2</th>\n",
       "      <td>2052</td>\n",
       "      <td>194</td>\n",
       "      <td>9.45%</td>\n",
       "      <td>169746.972710</td>\n",
       "      <td>142594.0</td>\n",
       "    </tr>\n",
       "    <tr>\n",
       "      <th>3</th>\n",
       "      <td>330</td>\n",
       "      <td>27</td>\n",
       "      <td>8.18%</td>\n",
       "      <td>179460.303030</td>\n",
       "      <td>145220.0</td>\n",
       "    </tr>\n",
       "    <tr>\n",
       "      <th>4</th>\n",
       "      <td>41</td>\n",
       "      <td>4</td>\n",
       "      <td>9.76%</td>\n",
       "      <td>166360.707317</td>\n",
       "      <td>150447.0</td>\n",
       "    </tr>\n",
       "    <tr>\n",
       "      <th>5</th>\n",
       "      <td>9</td>\n",
       "      <td>0</td>\n",
       "      <td>0.00%</td>\n",
       "      <td>167336.888889</td>\n",
       "      <td>168460.0</td>\n",
       "    </tr>\n",
       "  </tbody>\n",
       "</table>\n",
       "</div>"
      ],
      "text/plain": [
       "           debt       ratio_in_procent    income_mean income_median\n",
       "          count   sum                                              \n",
       "children                                                           \n",
       "0         14091  1063            7.54%  163052.099851      142594.0\n",
       "1          4808   444            9.23%  169194.979617      145531.0\n",
       "2          2052   194            9.45%  169746.972710      142594.0\n",
       "3           330    27            8.18%  179460.303030      145220.0\n",
       "4            41     4            9.76%  166360.707317      150447.0\n",
       "5             9     0            0.00%  167336.888889      168460.0"
      ]
     },
     "execution_count": 22,
     "metadata": {},
     "output_type": "execute_result"
    }
   ],
   "source": [
    "# Ваш код будет здесь. Вы можете создавать новые ячейки.\n",
    "\n",
    "data_children = data.groupby(['children'] ).agg({'debt' : ['count','sum']})\n",
    "\n",
    "data_children['ratio_in_procent'] = data.groupby('children')['debt'].mean().apply(lambda x:'{:.2%}'.format(x))\n",
    "display(data_children)\n",
    "#Получили сгруппированную таблицу, где в первом столбце значение количество детей у заемщика,\n",
    "#во втором столбце - общее число заемщиков с соответственным количеством детей\n",
    "#в третьем столбце - количество заемщиков с просроченным долгом с соответственным количеством детей\n",
    "#в четвертом - процентное отношение должников к общему количеству заемщиков по соответственному количеству детей.\n",
    "#смущают полученные результаты при количестве детей = 3 , есть подозрение, что выборка мала и полученные значения не корректны\n",
    "# так как в общем мы видем прямую пропорциональную зависимость роста должников с увеличением количества детей( за исключением \n",
    "# когда количество детей =3)\n",
    "#добавим в таблицу столбцы со средним и медиальным доходом выборщиков, чтобы посмотреть, есть ли рост прямая зависимость\n",
    "#доходов от количества детей. \n",
    "data_children['income_mean'] = data.groupby('children') ['total_income'].mean()\n",
    "data_children['income_median'] = data.groupby('children') ['total_income'].median()\n",
    "data_children          \n"
   ]
  },
  {
   "cell_type": "markdown",
   "id": "31ecb465",
   "metadata": {
    "deletable": false,
    "id": "3a6b99ec"
   },
   "source": [
    "**Вывод:** 1. Посмотрев на полученные значения можно определить , что выборка по количеству детей = 5 не репрезентативна, так как она очень мала и по мере обогащения выборки , с появлением каждого нового должника будет  существенно меняться отношение количество должников с общему количеству заемщиков. \n",
    " 2.В общем , на основании полученных данных, я бы ответил ,что есть незначительная зависимость между количеством детей и возвратом кредита в срок.Так как с появлением нового ребенка в семье , доход заемщика существенно не меняется и можно предположить , что с появлением нового ребенка родители учатся экономить средства, не есть небольшой рост просрочки.В случае , когда количество детей =3 , можно предположить, что выборка мала ( так как доход не меняется). "
   ]
  },
  {
   "cell_type": "markdown",
   "id": "a4aafdd2",
   "metadata": {},
   "source": [
    "<div class=\"alert-warning\" style=\"padding: 20px; border-radius: 10px\">\n",
    "<b>Комментарий ревьюера ⚠️</b>\n",
    "\n",
    "Ты правильно обратил внимание на то, что выборки несбалансированы. Поэтому выявлять зависимость стоит, сравнивая доли должников в самых больших, сопоставимых по размеру категориях заемщиков. Как можно сформулировать зависимость, сравнив категории с 0, 1 и 2 детьми?</div>"
   ]
  },
  {
   "cell_type": "markdown",
   "id": "7b8b35d9",
   "metadata": {},
   "source": [
    "<div class=\"alert-info\" style=\"padding: 20px; border-radius: 10px\">\n",
    "<b>Комментарий студента 💎</b>\n",
    "\n",
    "Если сравнивать первые три категории  , сразу замечаешь, что у бездетных заемщиков заметно ниже процент просрочки долга.Это также подтверждает отсутствие прямого пропорционального роста доходов с появлением новых членов семьи у заемщика.  </div>\n",
    "\n"
   ]
  },
  {
   "cell_type": "markdown",
   "id": "2912e55e",
   "metadata": {},
   "source": [
    "<div class=\"alert-warning\" style=\"padding: 20px; border-radius: 10px\">\n",
    "<b>Комментарий ревьюера V2 ⚠️</b>\n",
    "\n",
    "Я бы сказал так: что если сравнить только самые многочисленные выборки с 0, 1 и 2 детьми, можно сделать вывод, что чем больше у заемщика детей, тем выше риск допустить просрочку."
   ]
  },
  {
   "cell_type": "markdown",
   "id": "6126d575",
   "metadata": {
    "deletable": false,
    "editable": false,
    "id": "97be82ca"
   },
   "source": [
    "#### 3.2 Есть ли зависимость между семейным положением и возвратом кредита в срок?"
   ]
  },
  {
   "cell_type": "code",
   "execution_count": 23,
   "id": "b727e125",
   "metadata": {
    "deletable": false,
    "id": "dc3f7ee8"
   },
   "outputs": [
    {
     "data": {
      "text/plain": [
       "array(['женат / замужем', 'гражданский брак', 'вдовец / вдова',\n",
       "       'в разводе', 'Не женат / не замужем'], dtype=object)"
      ]
     },
     "metadata": {},
     "output_type": "display_data"
    },
    {
     "data": {
      "text/html": [
       "<div>\n",
       "<style scoped>\n",
       "    .dataframe tbody tr th:only-of-type {\n",
       "        vertical-align: middle;\n",
       "    }\n",
       "\n",
       "    .dataframe tbody tr th {\n",
       "        vertical-align: top;\n",
       "    }\n",
       "\n",
       "    .dataframe thead th {\n",
       "        text-align: right;\n",
       "    }\n",
       "</style>\n",
       "<table border=\"1\" class=\"dataframe\">\n",
       "  <thead>\n",
       "    <tr style=\"text-align: right;\">\n",
       "      <th></th>\n",
       "      <th>family_status</th>\n",
       "      <th>family_status_id</th>\n",
       "    </tr>\n",
       "  </thead>\n",
       "  <tbody>\n",
       "    <tr>\n",
       "      <th>0</th>\n",
       "      <td>женат / замужем</td>\n",
       "      <td>0</td>\n",
       "    </tr>\n",
       "    <tr>\n",
       "      <th>1</th>\n",
       "      <td>гражданский брак</td>\n",
       "      <td>1</td>\n",
       "    </tr>\n",
       "    <tr>\n",
       "      <th>2</th>\n",
       "      <td>вдовец / вдова</td>\n",
       "      <td>2</td>\n",
       "    </tr>\n",
       "    <tr>\n",
       "      <th>3</th>\n",
       "      <td>в разводе</td>\n",
       "      <td>3</td>\n",
       "    </tr>\n",
       "    <tr>\n",
       "      <th>4</th>\n",
       "      <td>Не женат / не замужем</td>\n",
       "      <td>4</td>\n",
       "    </tr>\n",
       "  </tbody>\n",
       "</table>\n",
       "</div>"
      ],
      "text/plain": [
       "           family_status  family_status_id\n",
       "0        женат / замужем                 0\n",
       "1       гражданский брак                 1\n",
       "2         вдовец / вдова                 2\n",
       "3              в разводе                 3\n",
       "4  Не женат / не замужем                 4"
      ]
     },
     "metadata": {},
     "output_type": "display_data"
    },
    {
     "data": {
      "text/html": [
       "<div>\n",
       "<style scoped>\n",
       "    .dataframe tbody tr th:only-of-type {\n",
       "        vertical-align: middle;\n",
       "    }\n",
       "\n",
       "    .dataframe tbody tr th {\n",
       "        vertical-align: top;\n",
       "    }\n",
       "\n",
       "    .dataframe thead tr th {\n",
       "        text-align: left;\n",
       "    }\n",
       "\n",
       "    .dataframe thead tr:last-of-type th {\n",
       "        text-align: right;\n",
       "    }\n",
       "</style>\n",
       "<table border=\"1\" class=\"dataframe\">\n",
       "  <thead>\n",
       "    <tr>\n",
       "      <th></th>\n",
       "      <th colspan=\"2\" halign=\"left\">debt</th>\n",
       "      <th>ratio_in_procent</th>\n",
       "      <th>income_mean</th>\n",
       "      <th>income_median</th>\n",
       "    </tr>\n",
       "    <tr>\n",
       "      <th></th>\n",
       "      <th>count</th>\n",
       "      <th>sum</th>\n",
       "      <th></th>\n",
       "      <th></th>\n",
       "      <th></th>\n",
       "    </tr>\n",
       "    <tr>\n",
       "      <th>family_status_id</th>\n",
       "      <th></th>\n",
       "      <th></th>\n",
       "      <th></th>\n",
       "      <th></th>\n",
       "      <th></th>\n",
       "    </tr>\n",
       "  </thead>\n",
       "  <tbody>\n",
       "    <tr>\n",
       "      <th>0</th>\n",
       "      <td>12261</td>\n",
       "      <td>927</td>\n",
       "      <td>7.56%</td>\n",
       "      <td>166757.122584</td>\n",
       "      <td>142916.0</td>\n",
       "    </tr>\n",
       "    <tr>\n",
       "      <th>1</th>\n",
       "      <td>4134</td>\n",
       "      <td>385</td>\n",
       "      <td>9.31%</td>\n",
       "      <td>164819.409289</td>\n",
       "      <td>142594.0</td>\n",
       "    </tr>\n",
       "    <tr>\n",
       "      <th>2</th>\n",
       "      <td>951</td>\n",
       "      <td>63</td>\n",
       "      <td>6.62%</td>\n",
       "      <td>142559.789695</td>\n",
       "      <td>127310.0</td>\n",
       "    </tr>\n",
       "    <tr>\n",
       "      <th>3</th>\n",
       "      <td>1189</td>\n",
       "      <td>84</td>\n",
       "      <td>7.06%</td>\n",
       "      <td>167955.227082</td>\n",
       "      <td>143503.0</td>\n",
       "    </tr>\n",
       "    <tr>\n",
       "      <th>4</th>\n",
       "      <td>2796</td>\n",
       "      <td>273</td>\n",
       "      <td>9.76%</td>\n",
       "      <td>166552.384478</td>\n",
       "      <td>142594.0</td>\n",
       "    </tr>\n",
       "  </tbody>\n",
       "</table>\n",
       "</div>"
      ],
      "text/plain": [
       "                   debt      ratio_in_procent    income_mean income_median\n",
       "                  count  sum                                              \n",
       "family_status_id                                                          \n",
       "0                 12261  927            7.56%  166757.122584      142916.0\n",
       "1                  4134  385            9.31%  164819.409289      142594.0\n",
       "2                   951   63            6.62%  142559.789695      127310.0\n",
       "3                  1189   84            7.06%  167955.227082      143503.0\n",
       "4                  2796  273            9.76%  166552.384478      142594.0"
      ]
     },
     "execution_count": 23,
     "metadata": {},
     "output_type": "execute_result"
    }
   ],
   "source": [
    "# Ваш код будет здесь. Вы можете создавать новые ячейки.\n",
    "display(data['family_status'].unique())\n",
    "data_family_status = data[['family_status','family_status_id']]\n",
    "data_family_status = data_family_status.drop_duplicates().reset_index(drop=True)\n",
    "display(data_family_status) # \"справочник\" семейного положения\n",
    "data_family = data.groupby(['family_status_id'] ).agg({'debt' : ['count','sum']})\n",
    "data_family['ratio_in_procent'] = data.groupby('family_status_id')['debt'].mean().apply(lambda x:'{:.2%}'.format(x))\n",
    "  \n",
    "data_family['income_mean'] = data.groupby('family_status_id') ['total_income'].mean()\n",
    "data_family['income_median'] = data.groupby('family_status_id') ['total_income'].median()\n",
    "data_family"
   ]
  },
  {
   "attachments": {
    "image.png": {
     "image/png": "[encoded data removed]"
    }
   },
   "cell_type": "markdown",
   "id": "fcab50b3",
   "metadata": {},
   "source": [
    "<div class=\"alert-danger\" style=\"padding: 20px; border-radius: 10px\">\n",
    "<b>Комментарий ревьюера ❌</b></h5>\n",
    "    \n",
    "<s>В этой ячейке код падает с ошибкой:\n",
    "\n",
    "![image.png](attachment:image.png)"
   ]
  },
  {
   "cell_type": "markdown",
   "id": "224bdfe8",
   "metadata": {},
   "source": [
    "<div class=\"alert-info\" style=\"padding: 20px; border-radius: 10px\">\n",
    "<b>Комментарий студента 💎</b>\n",
    "\n",
    "Исправил код.Случайно одна строка закомментировалась.</div>\n",
    "\n"
   ]
  },
  {
   "cell_type": "markdown",
   "id": "2824daa3",
   "metadata": {},
   "source": [
    "<div class=\"alert-success\" style=\"border-radius: 10px; padding: 20px\">\n",
    "<b>Комментарий ревьюера V2 ✔️</b>\n",
    "\n",
    "👍</div>"
   ]
  },
  {
   "cell_type": "markdown",
   "id": "7e546eb3",
   "metadata": {
    "deletable": false,
    "id": "1cef7837"
   },
   "source": [
    "**Вывод:** Самые ответственные заемщики из категории 'вдовец/вдова', хотя их доход и существенно ниже по сравнению с остальными.Самый высокий процент просрочки у категорий 'гражданский брак' и 'не женат/не замужем'."
   ]
  },
  {
   "cell_type": "markdown",
   "id": "7e2a23b1",
   "metadata": {},
   "source": [
    "<div class=\"alert-warning\" style=\"padding: 20px; border-radius: 10px\">\n",
    "<b>Комментарий ревьюера ⚠️</b>\n",
    "\n",
    "<s>Какую можно выявить зависимость, если обобщить категории по отношению к официальному браку?</div>"
   ]
  },
  {
   "cell_type": "markdown",
   "id": "f42ac0a1",
   "metadata": {},
   "source": [
    "<div class=\"alert-info\" style=\"padding: 20px; border-radius: 10px\">\n",
    "<b>Комментарий студента 💎</b>\n",
    "\n",
    "У заемщиков , состоявших или на данный момент состоящих в официальном браке существенно ниже процент просрочки кредита,чем у неженатых или состоящих в гражданском браке.</div>\n",
    "\n"
   ]
  },
  {
   "cell_type": "markdown",
   "id": "bc34ecf9",
   "metadata": {},
   "source": [
    "<div class=\"alert-success\" style=\"border-radius: 10px; padding: 20px\">\n",
    "<b>Комментарий ревьюера V2 ✔️</b>\n",
    "\n",
    "Всё верно!"
   ]
  },
  {
   "cell_type": "markdown",
   "id": "88018071",
   "metadata": {
    "deletable": false,
    "editable": false,
    "id": "1e8b2fca"
   },
   "source": [
    "#### 3.3 Есть ли зависимость между уровнем дохода и возвратом кредита в срок?"
   ]
  },
  {
   "cell_type": "code",
   "execution_count": 24,
   "id": "590330e3",
   "metadata": {
    "deletable": false,
    "id": "cd7e3720"
   },
   "outputs": [
    {
     "data": {
      "text/html": [
       "<div>\n",
       "<style scoped>\n",
       "    .dataframe tbody tr th:only-of-type {\n",
       "        vertical-align: middle;\n",
       "    }\n",
       "\n",
       "    .dataframe tbody tr th {\n",
       "        vertical-align: top;\n",
       "    }\n",
       "\n",
       "    .dataframe thead tr th {\n",
       "        text-align: left;\n",
       "    }\n",
       "\n",
       "    .dataframe thead tr:last-of-type th {\n",
       "        text-align: right;\n",
       "    }\n",
       "</style>\n",
       "<table border=\"1\" class=\"dataframe\">\n",
       "  <thead>\n",
       "    <tr>\n",
       "      <th></th>\n",
       "      <th colspan=\"2\" halign=\"left\">debt</th>\n",
       "      <th>ratio_in_procent</th>\n",
       "    </tr>\n",
       "    <tr>\n",
       "      <th></th>\n",
       "      <th>count</th>\n",
       "      <th>sum</th>\n",
       "      <th></th>\n",
       "    </tr>\n",
       "    <tr>\n",
       "      <th>total_income_category</th>\n",
       "      <th></th>\n",
       "      <th></th>\n",
       "      <th></th>\n",
       "    </tr>\n",
       "  </thead>\n",
       "  <tbody>\n",
       "    <tr>\n",
       "      <th>A</th>\n",
       "      <td>25</td>\n",
       "      <td>2</td>\n",
       "      <td>8.00%</td>\n",
       "    </tr>\n",
       "    <tr>\n",
       "      <th>B</th>\n",
       "      <td>5014</td>\n",
       "      <td>354</td>\n",
       "      <td>7.06%</td>\n",
       "    </tr>\n",
       "    <tr>\n",
       "      <th>C</th>\n",
       "      <td>15921</td>\n",
       "      <td>1353</td>\n",
       "      <td>8.50%</td>\n",
       "    </tr>\n",
       "    <tr>\n",
       "      <th>D</th>\n",
       "      <td>349</td>\n",
       "      <td>21</td>\n",
       "      <td>6.02%</td>\n",
       "    </tr>\n",
       "    <tr>\n",
       "      <th>E</th>\n",
       "      <td>22</td>\n",
       "      <td>2</td>\n",
       "      <td>9.09%</td>\n",
       "    </tr>\n",
       "  </tbody>\n",
       "</table>\n",
       "</div>"
      ],
      "text/plain": [
       "                        debt       ratio_in_procent\n",
       "                       count   sum                 \n",
       "total_income_category                              \n",
       "A                         25     2            8.00%\n",
       "B                       5014   354            7.06%\n",
       "C                      15921  1353            8.50%\n",
       "D                        349    21            6.02%\n",
       "E                         22     2            9.09%"
      ]
     },
     "execution_count": 24,
     "metadata": {},
     "output_type": "execute_result"
    }
   ],
   "source": [
    "# Ваш код будет здесь. Вы можете создавать новые ячейки.\n",
    "data_income = data.groupby(['total_income_category'] ).agg({'debt' : ['count','sum']})\n",
    "data_income['ratio_in_procent'] = data.groupby('total_income_category')['debt'].mean().apply(lambda x:'{:.2%}'.format(x))\n",
    "data_income "
   ]
  },
  {
   "cell_type": "markdown",
   "id": "49166ab1",
   "metadata": {
    "deletable": false,
    "id": "e8593def"
   },
   "source": [
    "**Вывод:** Категории 'A' и 'E' с непрезетативной выборкой , так как слишком малое число выборщиков(каждый новый заемщик с просрочкой существенно влияет на полученный результат).По полученным результатам не получается дать однозначный ответ есть ли зависимость между уровнем дохода и возвратом кредита."
   ]
  },
  {
   "cell_type": "markdown",
   "id": "0f014206",
   "metadata": {},
   "source": [
    "<div class=\"alert-warning\" style=\"padding: 20px; border-radius: 10px\">\n",
    "<b>Комментарий ревьюера ⚠️</b>\n",
    "\n",
    "Как можно сформулировать зависимость, если сравнить только две самые многочисленные выборки B и C?</div>"
   ]
  },
  {
   "cell_type": "markdown",
   "id": "8fb7b803",
   "metadata": {},
   "source": [
    "<div class=\"alert-info\" style=\"padding: 20px; border-radius: 10px\">\n",
    "<b>Комментарий студента 💎</b>\n",
    "\n",
    "Если допустить , что выборка для категории \"D\" малочисленна для анализа и сравнивать только результаты для двух групп \"B\" и \"С\" , то с ростом дохода растет процент просрочки кредита. Видимо это можно обьяснить, что по мере роста дохода существенно растет и расходная часть у заемщика. </div>\n",
    "\n"
   ]
  },
  {
   "cell_type": "markdown",
   "id": "e23acfe1",
   "metadata": {},
   "source": [
    "<div class=\"alert-warning\" style=\"border-radius: 10px;  padding: 20px\">\n",
    "<b>Комментарий ревьюера V2 ⚠️</b>\n",
    "\n",
    "Если тут сравнить две самые большие категории B и C можно сделать вывод, что заемщики с более высоким доходом платят кредит лучше. Также в качестве рекомендации можно предложить банку изменить градацию дохода, чтобы получить более сбалансированные выборки.</div>"
   ]
  },
  {
   "cell_type": "markdown",
   "id": "f12e24b4",
   "metadata": {
    "deletable": false,
    "editable": false,
    "id": "99ecbd1f"
   },
   "source": [
    "#### 3.4 Как разные цели кредита влияют на его возврат в срок?"
   ]
  },
  {
   "cell_type": "code",
   "execution_count": 25,
   "id": "09824eb0",
   "metadata": {
    "deletable": false,
    "id": "2b687290"
   },
   "outputs": [
    {
     "data": {
      "text/html": [
       "<div>\n",
       "<style scoped>\n",
       "    .dataframe tbody tr th:only-of-type {\n",
       "        vertical-align: middle;\n",
       "    }\n",
       "\n",
       "    .dataframe tbody tr th {\n",
       "        vertical-align: top;\n",
       "    }\n",
       "\n",
       "    .dataframe thead tr th {\n",
       "        text-align: left;\n",
       "    }\n",
       "\n",
       "    .dataframe thead tr:last-of-type th {\n",
       "        text-align: right;\n",
       "    }\n",
       "</style>\n",
       "<table border=\"1\" class=\"dataframe\">\n",
       "  <thead>\n",
       "    <tr>\n",
       "      <th></th>\n",
       "      <th colspan=\"2\" halign=\"left\">debt</th>\n",
       "      <th>ratio_in_procent</th>\n",
       "    </tr>\n",
       "    <tr>\n",
       "      <th></th>\n",
       "      <th>count</th>\n",
       "      <th>sum</th>\n",
       "      <th></th>\n",
       "    </tr>\n",
       "    <tr>\n",
       "      <th>purpose_category</th>\n",
       "      <th></th>\n",
       "      <th></th>\n",
       "      <th></th>\n",
       "    </tr>\n",
       "  </thead>\n",
       "  <tbody>\n",
       "    <tr>\n",
       "      <th>операции с автомобилем</th>\n",
       "      <td>4279</td>\n",
       "      <td>400</td>\n",
       "      <td>9.35%</td>\n",
       "    </tr>\n",
       "    <tr>\n",
       "      <th>операции с недвижимостью</th>\n",
       "      <td>10751</td>\n",
       "      <td>780</td>\n",
       "      <td>7.26%</td>\n",
       "    </tr>\n",
       "    <tr>\n",
       "      <th>получение образования</th>\n",
       "      <td>3988</td>\n",
       "      <td>369</td>\n",
       "      <td>9.25%</td>\n",
       "    </tr>\n",
       "    <tr>\n",
       "      <th>проведение свадьбы</th>\n",
       "      <td>2313</td>\n",
       "      <td>183</td>\n",
       "      <td>7.91%</td>\n",
       "    </tr>\n",
       "  </tbody>\n",
       "</table>\n",
       "</div>"
      ],
      "text/plain": [
       "                           debt      ratio_in_procent\n",
       "                          count  sum                 \n",
       "purpose_category                                     \n",
       "операции с автомобилем     4279  400            9.35%\n",
       "операции с недвижимостью  10751  780            7.26%\n",
       "получение образования      3988  369            9.25%\n",
       "проведение свадьбы         2313  183            7.91%"
      ]
     },
     "execution_count": 25,
     "metadata": {},
     "output_type": "execute_result"
    }
   ],
   "source": [
    "# Ваш код будет здесь. Вы можете создавать новые ячейки.\n",
    "data_purpose = data.groupby(['purpose_category'] ).agg({'debt' : ['count','sum']})\n",
    "data_purpose['ratio_in_procent'] = data.groupby('purpose_category')['debt'].mean().apply(lambda x:'{:.2%}'.format(x))\n",
    "data_purpose"
   ]
  },
  {
   "cell_type": "markdown",
   "id": "175e660b",
   "metadata": {
    "deletable": false,
    "id": "b4bb2ce6"
   },
   "source": [
    "**Вывод:** Существенно выше процент просрочки долга  у категорий с целью кредита на 'операции с автомобилем ' и 'получения образования' "
   ]
  },
  {
   "cell_type": "markdown",
   "id": "8a8d8765",
   "metadata": {},
   "source": [
    "<div class=\"alert-success\" style=\"padding: 20px; border-radius: 10px\">\n",
    "<b>Комментарий ревьюера ✔️</b>\n",
    "\n",
    "Согласен."
   ]
  },
  {
   "cell_type": "markdown",
   "id": "231e2d50",
   "metadata": {
    "deletable": false,
    "editable": false,
    "id": "09c3ac4c"
   },
   "source": [
    "#### 3.5 Приведите возможные причины появления пропусков в исходных данных."
   ]
  },
  {
   "cell_type": "markdown",
   "id": "29fbd52e",
   "metadata": {
    "deletable": false,
    "id": "9da2ceda"
   },
   "source": [
    "*Ответ:* Пропуски бывают трёх типов: \n",
    "Полностью случайные: если вероятность встретить пропуск не зависит ни от каких других значений. К примеру,когда ответ на вопрос не зависит от характера самого вопроса и от других вопросов анкеты, а сам пропуск легко восстановить по имени.\n",
    "Случайные: если вероятность пропуска зависит от других значений в наборе данных, но не от значений собственного столбца. \n",
    "Неслучайные: если вероятность пропуска зависит от других значений, в том числе и от значений собственного столбца. "
   ]
  },
  {
   "cell_type": "markdown",
   "id": "31a5576e",
   "metadata": {},
   "source": [
    "<div class=\"alert-warning\" style=\"padding: 20px; border-radius: 10px\">\n",
    "<b>Комментарий ревьюера ⚠️</b>\n",
    "\n",
    "<s>Случайность или нет - это одна из категоризаций ошибок и пропусков. Давай попробуем дать примеры причин, которые могли привести к образованию пропусков?</div>"
   ]
  },
  {
   "cell_type": "markdown",
   "id": "edc4f3f5",
   "metadata": {},
   "source": [
    "<div class=\"alert-info\" style=\"padding: 20px; border-radius: 10px\">\n",
    "<b>Комментарий студента 💎</b>\n",
    "    Человеческий фактор, ошибки системы или процесса выгрузки могут испортить исходные данные, то есть сделать непригодными для анализа. Как пример : разные стандарты сохранения и выгрузки данных и система при прочтении принимает данное как NaN."
   ]
  },
  {
   "cell_type": "markdown",
   "id": "bb7ff45f",
   "metadata": {},
   "source": [
    "<div class=\"alert-success\" style=\"padding: 20px; border-radius: 10px\">\n",
    "<b>Комментарий ревьюера V2 ✔️</b>\n",
    "\n",
    "Да, по причине возникновения ошибки в данных делятся на две группы:\n",
    "- Вызванные человеческим фактором. Кто-то не ввел нужную информацию.\n",
    "- Технологические. Возникают во время копирования, считывания или записи данных, изменения формата файла."
   ]
  },
  {
   "cell_type": "markdown",
   "id": "1b28cb14",
   "metadata": {
    "deletable": false,
    "editable": false,
    "id": "7b0487d6"
   },
   "source": [
    "#### 3.6 Объясните, почему заполнить пропуски медианным значением — лучшее решение для количественных переменных."
   ]
  },
  {
   "cell_type": "markdown",
   "id": "de0c5dc8",
   "metadata": {
    "deletable": false,
    "id": "7ecf2b8e"
   },
   "source": [
    "*Ответ:* Среднее значение некорректно характеризует данные, когда некоторые значения сильно выделяются среди большинства."
   ]
  },
  {
   "cell_type": "markdown",
   "id": "33fa04e0",
   "metadata": {},
   "source": [
    "<div class=\"alert-success\" style=\"padding: 20px; border-radius: 10px\">\n",
    "<b>Комментарий ревьюера ✔️</b>\n",
    "\n",
    "Верно, медиана менее чувствительна к выбросам, чем среднее значение.</div>"
   ]
  },
  {
   "cell_type": "markdown",
   "id": "88602226",
   "metadata": {
    "deletable": false,
    "editable": false,
    "id": "6db5255a"
   },
   "source": [
    "### Шаг 4: общий вывод."
   ]
  },
  {
   "cell_type": "markdown",
   "id": "1ac99535",
   "metadata": {
    "deletable": false,
    "id": "bad65432"
   },
   "source": [
    "Напишите ваш общий вывод.\n",
    "\n",
    "На основе полученных данных не всегда получается сделать однозначный вывод из-за случаев малой выборки в определенных категориях. Но с большой уверенностью можно сказать, что количество детей влияет , но не существенно на возврат кредита( видимо заемщики становятся более ответственны и стараются, экономя ( нет роста доходов с увеличением количества детей) , не допускать просрочки . Вдовы/вдовцы меньше остальных категорий допускают просрочки. А также беря кредит на 'операции с недвижимостью' и 'проведение свадьбы' , заемщики меньше остальных допускают просрочки."
   ]
  },
  {
   "cell_type": "markdown",
   "id": "0f0eca15",
   "metadata": {},
   "source": [
    "<div class=\"alert-danger\" style=\"padding: 20px; border-radius: 10px\">\n",
    "    \n",
    "<b>Комментарий ревьюера ❌</b></h5>\n",
    "\n",
    "<s>Я бы предложил немного поправить итоговый вывод:\n",
    "    \n",
    "- добавить первым абзацем информацию об исходных данных и о том, что было сделано в шаге предобработки\n",
    "- сформулировать зависимости просрочки от разных факторов в общем виде\n",
    "- завершить вывод какой-нибудь рекомендацией заказчику, например по улучшению сбора данных"
   ]
  },
  {
   "cell_type": "markdown",
   "id": "96b2e3d8",
   "metadata": {},
   "source": [
    "<div style=\"border:solid steelblue 3px; padding: 20px; border-radius: 10px\">\n",
    "\n",
    "<h5><b>🏁 Общий комментарий ревьюера:</b></h5>\n",
    "\n",
    "Ты проделал большую работу над проектом, но нужно кое-что исправить, чтобы я его принял.\n",
    "\n",
    "Есть несколько критических замечаний:\n",
    "\n",
    "- есть ошибка в коде\n",
    "- итоговый вывод нужно раскрыть поподробнее\n",
    "\n",
    "Также, постарайся отработать желтые комментарии.\n",
    "\n",
    "Буду ждать твой доработанный проект. ⌛️</div>"
   ]
  },
  {
   "cell_type": "markdown",
   "id": "c86ce34e",
   "metadata": {},
   "source": [
    "<div class=\"alert-info\" style=\"padding: 20px; border-radius: 10px\">\n",
    "<b> 💎 Общий вывод.   </b>\n",
    "    1. Мы получили статистику о платёжеспособности клиентов кредитного банка и построили модель кредитного скоринга.При обработке данных в двух столбцах days_employed и total_income отсутствовали порядка 10% значений , которые мы заполнили медиальными данными( медиана менее чувствительна к выбросам чем среднее значение).Также мы обработали данные аномалии в столбце days_employed (привели все отрицательные числа к положительным) и удалили строки из датафрейма с аномальными значениями по количеству детей у заемщика (-1 и 20). Также при обработке данных привели все значения к нижнему регистру и удалили дупликаты из данных. Перед изучением данных мы провели категоризацию данных , разделив заемщиков на группы по уровню дохода и свели все цели на кредит к четырем целям на взятие кредита('операции с автомобилем','операции с недвижимостью','проведение свадьбы','получение образования').\n",
    "    2. При анализе обработанных данных мы сделали заключение , что бездетные заемщика предпаочтительнее заемщиков с детьми. Также заемщики состоявшие или состоящие на данный момент в официальном браке предпочтительнее заемщиков , состоящих в гражданском браке. Также существенно выше процент просрочки долга у заемщиков из категорий с целью кредита на 'операции с автомобилем ' и 'получения образования'по сравнению с остальными двумя категориями. А также мы предположили , что с ростом дохода растет и просрочка кредита у заемщика. В качестве рекомендации можно посоветовать найти ядро заемщиков ( срез по нескольким категориям) с существенно ниже процентом просрочки кредита(не выше 5-6%).Данное ядро будет эталонным для кредитного банка.\n",
    "    3. 10% данных заполненных медиальными данными, а также малочисленная выборка по некоторым категориям существенно влияют на итоговые результаты иследования , поэтому для минимизации погрешностей советуем кредитному банку серьезнее относиться к получению, хранению и стандартизации статистических данных клиентов. Ввести ответсвенное подразделение в банке для накапливанию статистики , потому что не исключено , что данные на сегодняшний момент  отражают ситуацию не совсем корректно и в дальнейшем эти меры помогут сэкономить значительный бюджет подразделений маркетинга и стратегического . \n",
    "    \n",
    "   \n",
    "    \n",
    "\n",
    "\n",
    "\n"
   ]
  },
  {
   "cell_type": "markdown",
   "id": "c5c6d1fb",
   "metadata": {},
   "source": [
    "<div class=\"alert-success\" style=\"border-radius: 10px; padding: 20px\">\n",
    "<b>Комментарий ревьюера V2 ✔️</b>\n",
    "\n",
    "Теперь у тебя получился подробный итоговый вывод, отражающий основные результаты исследования.\n",
    "    \n",
    "Я бы только порекомендовал разделить его на абзацы для легкости чтения. Также, можно выделить **самые важные моменты** с помощью форматирования.\n",
    "\n",
    "Вот [ссылочка](https://konvut.github.io/k50articles/), которая поможет отформатировать текст в ячейке Markdown"
   ]
  },
  {
   "cell_type": "markdown",
   "id": "f453c05f",
   "metadata": {},
   "source": [
    "<div style=\"border:solid steelblue 3px; padding: 20px; border-radius: 10px\">\n",
    "\n",
    "<h5><b>🏁 Общий комментарий ревьюера V2</b></h5>\n",
    "\n",
    "Спасибо, что доработал проект! Критических замечаний больше нет.\n",
    "\n",
    "Успехов в дальнейшем обучении! 🏆\n",
    "\n",
    "</div>"
   ]
  },
  {
   "cell_type": "code",
   "execution_count": null,
   "id": "0e679c47",
   "metadata": {},
   "outputs": [],
   "source": []
  }
 ],
 "metadata": {
  "ExecuteTimeLog": [
   {
    "duration": 45,
    "start_time": "2024-01-06T15:34:08.942Z"
   },
   {
    "duration": 3,
    "start_time": "2024-01-06T15:34:29.540Z"
   },
   {
    "duration": 420,
    "start_time": "2024-01-06T15:34:32.088Z"
   },
   {
    "duration": 31,
    "start_time": "2024-01-06T15:34:32.510Z"
   },
   {
    "duration": 18,
    "start_time": "2024-01-06T15:34:32.543Z"
   },
   {
    "duration": 10,
    "start_time": "2024-01-06T15:34:32.563Z"
   },
   {
    "duration": 35,
    "start_time": "2024-01-06T15:34:32.574Z"
   },
   {
    "duration": 3,
    "start_time": "2024-01-06T15:34:32.611Z"
   },
   {
    "duration": 31,
    "start_time": "2024-01-06T15:34:32.615Z"
   },
   {
    "duration": 4,
    "start_time": "2024-01-06T15:34:32.648Z"
   },
   {
    "duration": 26,
    "start_time": "2024-01-06T15:34:32.653Z"
   },
   {
    "duration": 4,
    "start_time": "2024-01-06T15:34:32.682Z"
   },
   {
    "duration": 37,
    "start_time": "2024-01-06T15:34:32.687Z"
   },
   {
    "duration": 10,
    "start_time": "2024-01-06T15:34:32.725Z"
   },
   {
    "duration": 9,
    "start_time": "2024-01-06T15:34:32.736Z"
   },
   {
    "duration": 11,
    "start_time": "2024-01-06T15:34:32.746Z"
   },
   {
    "duration": 29,
    "start_time": "2024-01-06T15:34:32.758Z"
   },
   {
    "duration": 19,
    "start_time": "2024-01-06T15:34:32.789Z"
   },
   {
    "duration": 30,
    "start_time": "2024-01-06T15:34:32.810Z"
   },
   {
    "duration": 31,
    "start_time": "2024-01-06T15:34:32.841Z"
   },
   {
    "duration": 4,
    "start_time": "2024-01-06T15:34:32.873Z"
   },
   {
    "duration": 42,
    "start_time": "2024-01-06T15:34:32.878Z"
   },
   {
    "duration": 42,
    "start_time": "2024-01-06T15:34:32.921Z"
   },
   {
    "duration": 7,
    "start_time": "2024-01-06T15:34:32.964Z"
   },
   {
    "duration": 6,
    "start_time": "2024-01-06T15:34:32.972Z"
   },
   {
    "duration": 4,
    "start_time": "2024-01-06T15:34:32.979Z"
   },
   {
    "duration": 7,
    "start_time": "2024-01-06T15:34:32.985Z"
   },
   {
    "duration": 6,
    "start_time": "2024-01-06T15:38:24.868Z"
   },
   {
    "duration": 5,
    "start_time": "2024-01-06T15:38:34.670Z"
   },
   {
    "duration": 74,
    "start_time": "2024-01-06T15:38:47.220Z"
   },
   {
    "duration": 14,
    "start_time": "2024-01-06T15:38:47.295Z"
   },
   {
    "duration": 29,
    "start_time": "2024-01-06T15:38:47.310Z"
   },
   {
    "duration": 29,
    "start_time": "2024-01-06T15:38:47.344Z"
   },
   {
    "duration": 48,
    "start_time": "2024-01-06T15:38:47.374Z"
   },
   {
    "duration": 3,
    "start_time": "2024-01-06T15:38:47.424Z"
   },
   {
    "duration": 26,
    "start_time": "2024-01-06T15:38:47.429Z"
   },
   {
    "duration": 18,
    "start_time": "2024-01-06T15:38:47.457Z"
   },
   {
    "duration": 20,
    "start_time": "2024-01-06T15:38:47.476Z"
   },
   {
    "duration": 14,
    "start_time": "2024-01-06T15:38:47.499Z"
   },
   {
    "duration": 44,
    "start_time": "2024-01-06T15:38:47.514Z"
   },
   {
    "duration": 9,
    "start_time": "2024-01-06T15:38:47.560Z"
   },
   {
    "duration": 15,
    "start_time": "2024-01-06T15:38:47.570Z"
   },
   {
    "duration": 17,
    "start_time": "2024-01-06T15:38:47.586Z"
   },
   {
    "duration": 21,
    "start_time": "2024-01-06T15:38:47.604Z"
   },
   {
    "duration": 20,
    "start_time": "2024-01-06T15:38:47.626Z"
   },
   {
    "duration": 4,
    "start_time": "2024-01-06T15:38:47.647Z"
   },
   {
    "duration": 19,
    "start_time": "2024-01-06T15:38:47.653Z"
   },
   {
    "duration": 24,
    "start_time": "2024-01-06T15:38:47.673Z"
   },
   {
    "duration": 15,
    "start_time": "2024-01-06T15:38:47.699Z"
   },
   {
    "duration": 20,
    "start_time": "2024-01-06T15:38:47.715Z"
   },
   {
    "duration": 13,
    "start_time": "2024-01-06T15:38:47.737Z"
   },
   {
    "duration": 22,
    "start_time": "2024-01-06T15:38:47.751Z"
   },
   {
    "duration": 26,
    "start_time": "2024-01-06T15:38:47.774Z"
   },
   {
    "duration": 24,
    "start_time": "2024-01-06T15:38:47.801Z"
   },
   {
    "duration": 27,
    "start_time": "2024-01-06T15:39:35.802Z"
   },
   {
    "duration": 23,
    "start_time": "2024-01-06T15:39:46.934Z"
   },
   {
    "duration": 5,
    "start_time": "2024-01-06T15:41:04.161Z"
   },
   {
    "duration": 5,
    "start_time": "2024-01-06T15:41:09.024Z"
   },
   {
    "duration": 8,
    "start_time": "2024-01-06T15:42:59.411Z"
   },
   {
    "duration": 73,
    "start_time": "2024-01-06T15:43:10.564Z"
   },
   {
    "duration": 20,
    "start_time": "2024-01-06T15:43:10.639Z"
   },
   {
    "duration": 17,
    "start_time": "2024-01-06T15:43:10.661Z"
   },
   {
    "duration": 9,
    "start_time": "2024-01-06T15:43:10.680Z"
   },
   {
    "duration": 34,
    "start_time": "2024-01-06T15:43:10.690Z"
   },
   {
    "duration": 3,
    "start_time": "2024-01-06T15:43:10.725Z"
   },
   {
    "duration": 32,
    "start_time": "2024-01-06T15:43:10.729Z"
   },
   {
    "duration": 3,
    "start_time": "2024-01-06T15:43:10.762Z"
   },
   {
    "duration": 72,
    "start_time": "2024-01-06T15:43:10.767Z"
   },
   {
    "duration": 23,
    "start_time": "2024-01-06T15:43:10.842Z"
   },
   {
    "duration": 68,
    "start_time": "2024-01-06T15:43:10.866Z"
   },
   {
    "duration": 9,
    "start_time": "2024-01-06T15:43:10.935Z"
   },
   {
    "duration": 25,
    "start_time": "2024-01-06T15:43:10.947Z"
   },
   {
    "duration": 27,
    "start_time": "2024-01-06T15:43:10.974Z"
   },
   {
    "duration": 43,
    "start_time": "2024-01-06T15:43:11.003Z"
   },
   {
    "duration": 23,
    "start_time": "2024-01-06T15:43:11.047Z"
   },
   {
    "duration": 3,
    "start_time": "2024-01-06T15:43:11.072Z"
   },
   {
    "duration": 16,
    "start_time": "2024-01-06T15:43:11.076Z"
   },
   {
    "duration": 6,
    "start_time": "2024-01-06T15:43:11.093Z"
   },
   {
    "duration": 9,
    "start_time": "2024-01-06T15:43:11.100Z"
   },
   {
    "duration": 17,
    "start_time": "2024-01-06T15:43:11.110Z"
   },
   {
    "duration": 14,
    "start_time": "2024-01-06T15:43:11.129Z"
   },
   {
    "duration": 0,
    "start_time": "2024-01-06T15:43:11.147Z"
   },
   {
    "duration": 0,
    "start_time": "2024-01-06T15:43:11.148Z"
   },
   {
    "duration": 0,
    "start_time": "2024-01-06T15:43:11.149Z"
   },
   {
    "duration": 7,
    "start_time": "2024-01-06T15:43:26.033Z"
   },
   {
    "duration": 5,
    "start_time": "2024-01-06T15:43:38.303Z"
   },
   {
    "duration": 7,
    "start_time": "2024-01-06T15:45:10.394Z"
   },
   {
    "duration": 76,
    "start_time": "2024-01-06T15:45:16.408Z"
   },
   {
    "duration": 17,
    "start_time": "2024-01-06T15:45:16.486Z"
   },
   {
    "duration": 31,
    "start_time": "2024-01-06T15:45:16.505Z"
   },
   {
    "duration": 50,
    "start_time": "2024-01-06T15:45:16.538Z"
   },
   {
    "duration": 59,
    "start_time": "2024-01-06T15:45:16.590Z"
   },
   {
    "duration": 26,
    "start_time": "2024-01-06T15:45:16.651Z"
   },
   {
    "duration": 58,
    "start_time": "2024-01-06T15:45:16.681Z"
   },
   {
    "duration": 36,
    "start_time": "2024-01-06T15:45:16.740Z"
   },
   {
    "duration": 26,
    "start_time": "2024-01-06T15:45:16.778Z"
   },
   {
    "duration": 34,
    "start_time": "2024-01-06T15:45:16.807Z"
   },
   {
    "duration": 49,
    "start_time": "2024-01-06T15:45:16.842Z"
   },
   {
    "duration": 10,
    "start_time": "2024-01-06T15:45:16.893Z"
   },
   {
    "duration": 26,
    "start_time": "2024-01-06T15:45:16.904Z"
   },
   {
    "duration": 39,
    "start_time": "2024-01-06T15:45:16.931Z"
   },
   {
    "duration": 62,
    "start_time": "2024-01-06T15:45:16.973Z"
   },
   {
    "duration": 32,
    "start_time": "2024-01-06T15:45:17.037Z"
   },
   {
    "duration": 5,
    "start_time": "2024-01-06T15:45:17.070Z"
   },
   {
    "duration": 30,
    "start_time": "2024-01-06T15:45:17.076Z"
   },
   {
    "duration": 31,
    "start_time": "2024-01-06T15:45:17.108Z"
   },
   {
    "duration": 19,
    "start_time": "2024-01-06T15:45:17.141Z"
   },
   {
    "duration": 29,
    "start_time": "2024-01-06T15:45:17.162Z"
   },
   {
    "duration": 32,
    "start_time": "2024-01-06T15:45:17.193Z"
   },
   {
    "duration": 43,
    "start_time": "2024-01-06T15:45:17.226Z"
   },
   {
    "duration": 27,
    "start_time": "2024-01-06T15:45:17.271Z"
   },
   {
    "duration": 28,
    "start_time": "2024-01-06T15:45:17.300Z"
   },
   {
    "duration": 5,
    "start_time": "2024-01-06T15:45:41.857Z"
   },
   {
    "duration": 6,
    "start_time": "2024-01-06T15:46:28.769Z"
   },
   {
    "duration": 11,
    "start_time": "2024-01-06T15:51:00.579Z"
   },
   {
    "duration": 77,
    "start_time": "2024-01-06T15:51:08.258Z"
   },
   {
    "duration": 15,
    "start_time": "2024-01-06T15:51:08.336Z"
   },
   {
    "duration": 21,
    "start_time": "2024-01-06T15:51:08.352Z"
   },
   {
    "duration": 22,
    "start_time": "2024-01-06T15:51:08.375Z"
   },
   {
    "duration": 33,
    "start_time": "2024-01-06T15:51:08.399Z"
   },
   {
    "duration": 12,
    "start_time": "2024-01-06T15:51:08.434Z"
   },
   {
    "duration": 12,
    "start_time": "2024-01-06T15:51:08.447Z"
   },
   {
    "duration": 4,
    "start_time": "2024-01-06T15:51:08.532Z"
   },
   {
    "duration": 7,
    "start_time": "2024-01-06T15:51:08.538Z"
   },
   {
    "duration": 5,
    "start_time": "2024-01-06T15:51:08.546Z"
   },
   {
    "duration": 57,
    "start_time": "2024-01-06T15:51:08.553Z"
   },
   {
    "duration": 9,
    "start_time": "2024-01-06T15:51:08.612Z"
   },
   {
    "duration": 5,
    "start_time": "2024-01-06T15:51:08.623Z"
   },
   {
    "duration": 29,
    "start_time": "2024-01-06T15:51:08.629Z"
   },
   {
    "duration": 25,
    "start_time": "2024-01-06T15:51:08.660Z"
   },
   {
    "duration": 19,
    "start_time": "2024-01-06T15:51:08.687Z"
   },
   {
    "duration": 3,
    "start_time": "2024-01-06T15:51:08.708Z"
   },
   {
    "duration": 24,
    "start_time": "2024-01-06T15:51:08.713Z"
   },
   {
    "duration": 12,
    "start_time": "2024-01-06T15:51:08.738Z"
   },
   {
    "duration": 15,
    "start_time": "2024-01-06T15:51:08.752Z"
   },
   {
    "duration": 9,
    "start_time": "2024-01-06T15:51:08.827Z"
   },
   {
    "duration": 10,
    "start_time": "2024-01-06T15:51:08.837Z"
   },
   {
    "duration": 0,
    "start_time": "2024-01-06T15:51:08.849Z"
   },
   {
    "duration": 0,
    "start_time": "2024-01-06T15:51:08.850Z"
   },
   {
    "duration": 0,
    "start_time": "2024-01-06T15:51:08.851Z"
   },
   {
    "duration": 9,
    "start_time": "2024-01-06T15:51:17.151Z"
   },
   {
    "duration": 14,
    "start_time": "2024-01-06T15:51:29.453Z"
   },
   {
    "duration": 7,
    "start_time": "2024-01-06T15:51:52.112Z"
   },
   {
    "duration": 6,
    "start_time": "2024-01-06T15:52:11.493Z"
   },
   {
    "duration": 3,
    "start_time": "2024-01-06T15:53:04.870Z"
   },
   {
    "duration": 3,
    "start_time": "2024-01-06T15:53:58.162Z"
   },
   {
    "duration": 6,
    "start_time": "2024-01-06T15:55:11.512Z"
   },
   {
    "duration": 5,
    "start_time": "2024-01-06T15:56:21.354Z"
   },
   {
    "duration": 6,
    "start_time": "2024-01-06T15:56:52.633Z"
   },
   {
    "duration": 8,
    "start_time": "2024-01-06T15:57:00.079Z"
   },
   {
    "duration": 6,
    "start_time": "2024-01-06T15:57:16.865Z"
   },
   {
    "duration": 72,
    "start_time": "2024-01-06T15:57:22.109Z"
   },
   {
    "duration": 14,
    "start_time": "2024-01-06T15:57:22.183Z"
   },
   {
    "duration": 16,
    "start_time": "2024-01-06T15:57:22.198Z"
   },
   {
    "duration": 32,
    "start_time": "2024-01-06T15:57:22.215Z"
   },
   {
    "duration": 34,
    "start_time": "2024-01-06T15:57:22.248Z"
   },
   {
    "duration": 3,
    "start_time": "2024-01-06T15:57:22.283Z"
   },
   {
    "duration": 28,
    "start_time": "2024-01-06T15:57:22.288Z"
   },
   {
    "duration": 7,
    "start_time": "2024-01-06T15:57:22.318Z"
   },
   {
    "duration": 8,
    "start_time": "2024-01-06T15:57:22.326Z"
   },
   {
    "duration": 27,
    "start_time": "2024-01-06T15:57:22.336Z"
   },
   {
    "duration": 40,
    "start_time": "2024-01-06T15:57:22.365Z"
   },
   {
    "duration": 9,
    "start_time": "2024-01-06T15:57:22.406Z"
   },
   {
    "duration": 26,
    "start_time": "2024-01-06T15:57:22.417Z"
   },
   {
    "duration": 38,
    "start_time": "2024-01-06T15:57:22.444Z"
   },
   {
    "duration": 20,
    "start_time": "2024-01-06T15:57:22.484Z"
   },
   {
    "duration": 14,
    "start_time": "2024-01-06T15:57:22.505Z"
   },
   {
    "duration": 3,
    "start_time": "2024-01-06T15:57:22.521Z"
   },
   {
    "duration": 16,
    "start_time": "2024-01-06T15:57:22.525Z"
   },
   {
    "duration": 15,
    "start_time": "2024-01-06T15:57:22.542Z"
   },
   {
    "duration": 4,
    "start_time": "2024-01-06T15:57:22.558Z"
   },
   {
    "duration": 10,
    "start_time": "2024-01-06T15:57:22.563Z"
   },
   {
    "duration": 20,
    "start_time": "2024-01-06T15:57:22.574Z"
   },
   {
    "duration": 0,
    "start_time": "2024-01-06T15:57:22.595Z"
   },
   {
    "duration": 0,
    "start_time": "2024-01-06T15:57:22.596Z"
   },
   {
    "duration": 0,
    "start_time": "2024-01-06T15:57:22.597Z"
   },
   {
    "duration": 43,
    "start_time": "2024-01-06T16:00:05.380Z"
   },
   {
    "duration": 8,
    "start_time": "2024-01-06T16:00:40.527Z"
   },
   {
    "duration": 5,
    "start_time": "2024-01-06T16:00:46.659Z"
   },
   {
    "duration": 7,
    "start_time": "2024-01-06T16:03:06.942Z"
   },
   {
    "duration": 5,
    "start_time": "2024-01-06T16:04:11.980Z"
   },
   {
    "duration": 19,
    "start_time": "2024-01-06T16:05:11.927Z"
   },
   {
    "duration": 5,
    "start_time": "2024-01-06T16:05:34.523Z"
   },
   {
    "duration": 6,
    "start_time": "2024-01-06T16:08:21.284Z"
   },
   {
    "duration": 5,
    "start_time": "2024-01-06T16:28:11.327Z"
   },
   {
    "duration": 75,
    "start_time": "2024-01-06T16:28:17.522Z"
   },
   {
    "duration": 13,
    "start_time": "2024-01-06T16:28:17.599Z"
   },
   {
    "duration": 14,
    "start_time": "2024-01-06T16:28:17.613Z"
   },
   {
    "duration": 14,
    "start_time": "2024-01-06T16:28:17.646Z"
   },
   {
    "duration": 36,
    "start_time": "2024-01-06T16:28:17.662Z"
   },
   {
    "duration": 4,
    "start_time": "2024-01-06T16:28:17.700Z"
   },
   {
    "duration": 13,
    "start_time": "2024-01-06T16:28:17.705Z"
   },
   {
    "duration": 27,
    "start_time": "2024-01-06T16:28:17.719Z"
   },
   {
    "duration": 5,
    "start_time": "2024-01-06T16:28:17.756Z"
   },
   {
    "duration": 4,
    "start_time": "2024-01-06T16:28:17.764Z"
   },
   {
    "duration": 33,
    "start_time": "2024-01-06T16:28:17.769Z"
   },
   {
    "duration": 15,
    "start_time": "2024-01-06T16:28:17.803Z"
   },
   {
    "duration": 4,
    "start_time": "2024-01-06T16:28:17.819Z"
   },
   {
    "duration": 37,
    "start_time": "2024-01-06T16:28:17.824Z"
   },
   {
    "duration": 16,
    "start_time": "2024-01-06T16:28:17.864Z"
   },
   {
    "duration": 16,
    "start_time": "2024-01-06T16:28:17.881Z"
   },
   {
    "duration": 3,
    "start_time": "2024-01-06T16:28:17.898Z"
   },
   {
    "duration": 15,
    "start_time": "2024-01-06T16:28:17.902Z"
   },
   {
    "duration": 5,
    "start_time": "2024-01-06T16:28:17.918Z"
   },
   {
    "duration": 30,
    "start_time": "2024-01-06T16:28:17.924Z"
   },
   {
    "duration": 13,
    "start_time": "2024-01-06T16:28:17.959Z"
   },
   {
    "duration": 9,
    "start_time": "2024-01-06T16:28:17.974Z"
   },
   {
    "duration": 3,
    "start_time": "2024-01-06T16:28:17.984Z"
   },
   {
    "duration": 10,
    "start_time": "2024-01-06T16:28:17.988Z"
   },
   {
    "duration": 4,
    "start_time": "2024-01-06T16:28:17.999Z"
   },
   {
    "duration": 7,
    "start_time": "2024-01-06T16:28:38.332Z"
   },
   {
    "duration": 1129,
    "start_time": "2024-01-06T16:39:20.729Z"
   },
   {
    "duration": 1157,
    "start_time": "2024-01-06T16:39:49.456Z"
   },
   {
    "duration": 9,
    "start_time": "2024-01-06T16:40:05.096Z"
   },
   {
    "duration": 11,
    "start_time": "2024-01-06T16:40:52.517Z"
   },
   {
    "duration": 10,
    "start_time": "2024-01-06T16:41:24.290Z"
   },
   {
    "duration": 1071,
    "start_time": "2024-01-06T16:43:36.749Z"
   },
   {
    "duration": 8,
    "start_time": "2024-01-06T16:43:47.616Z"
   },
   {
    "duration": 13,
    "start_time": "2024-01-06T16:44:21.360Z"
   },
   {
    "duration": 10,
    "start_time": "2024-01-06T16:44:33.423Z"
   },
   {
    "duration": 17,
    "start_time": "2024-01-06T16:44:53.243Z"
   },
   {
    "duration": 10,
    "start_time": "2024-01-06T16:45:15.409Z"
   },
   {
    "duration": 11,
    "start_time": "2024-01-06T16:45:45.256Z"
   },
   {
    "duration": 82,
    "start_time": "2024-01-06T16:46:46.012Z"
   },
   {
    "duration": 67,
    "start_time": "2024-01-06T16:46:55.611Z"
   },
   {
    "duration": 75,
    "start_time": "2024-01-06T16:47:00.856Z"
   },
   {
    "duration": 73,
    "start_time": "2024-01-06T16:48:11.449Z"
   },
   {
    "duration": 74,
    "start_time": "2024-01-06T16:48:23.940Z"
   },
   {
    "duration": 139,
    "start_time": "2024-01-06T16:48:42.895Z"
   },
   {
    "duration": 73,
    "start_time": "2024-01-06T16:48:50.750Z"
   },
   {
    "duration": 74,
    "start_time": "2024-01-06T16:49:11.396Z"
   },
   {
    "duration": 65,
    "start_time": "2024-01-06T16:49:23.067Z"
   },
   {
    "duration": 73,
    "start_time": "2024-01-06T16:49:41.001Z"
   },
   {
    "duration": 77,
    "start_time": "2024-01-06T16:49:46.885Z"
   },
   {
    "duration": 79,
    "start_time": "2024-01-06T16:49:51.318Z"
   },
   {
    "duration": 14,
    "start_time": "2024-01-06T16:51:15.246Z"
   },
   {
    "duration": 74,
    "start_time": "2024-01-06T16:51:42.587Z"
   },
   {
    "duration": 77,
    "start_time": "2024-01-06T16:52:01.411Z"
   },
   {
    "duration": 9,
    "start_time": "2024-01-06T16:53:40.221Z"
   },
   {
    "duration": 10,
    "start_time": "2024-01-06T16:54:31.184Z"
   },
   {
    "duration": 16,
    "start_time": "2024-01-06T16:56:13.870Z"
   },
   {
    "duration": 11,
    "start_time": "2024-01-06T16:56:44.845Z"
   },
   {
    "duration": 7,
    "start_time": "2024-01-06T17:27:01.845Z"
   },
   {
    "duration": 11,
    "start_time": "2024-01-06T17:27:38.628Z"
   },
   {
    "duration": 11,
    "start_time": "2024-01-06T17:27:42.051Z"
   },
   {
    "duration": 10,
    "start_time": "2024-01-06T17:27:54.010Z"
   },
   {
    "duration": 66,
    "start_time": "2024-01-06T17:31:06.485Z"
   },
   {
    "duration": 69,
    "start_time": "2024-01-06T17:31:17.866Z"
   },
   {
    "duration": 4,
    "start_time": "2024-01-06T17:31:23.740Z"
   },
   {
    "duration": 87,
    "start_time": "2024-01-06T17:31:31.200Z"
   },
   {
    "duration": 8,
    "start_time": "2024-01-06T17:31:48.436Z"
   },
   {
    "duration": 9,
    "start_time": "2024-01-06T17:32:08.426Z"
   },
   {
    "duration": 11,
    "start_time": "2024-01-06T17:33:41.129Z"
   },
   {
    "duration": 11,
    "start_time": "2024-01-06T17:33:52.435Z"
   },
   {
    "duration": 8,
    "start_time": "2024-01-06T17:34:55.965Z"
   },
   {
    "duration": 1194,
    "start_time": "2024-01-06T17:36:25.822Z"
   },
   {
    "duration": 10,
    "start_time": "2024-01-06T17:37:42.288Z"
   },
   {
    "duration": 1212,
    "start_time": "2024-01-06T17:38:04.119Z"
   },
   {
    "duration": 70,
    "start_time": "2024-01-06T17:38:26.942Z"
   },
   {
    "duration": 14,
    "start_time": "2024-01-06T17:38:27.013Z"
   },
   {
    "duration": 16,
    "start_time": "2024-01-06T17:38:27.028Z"
   },
   {
    "duration": 15,
    "start_time": "2024-01-06T17:38:27.045Z"
   },
   {
    "duration": 30,
    "start_time": "2024-01-06T17:38:27.061Z"
   },
   {
    "duration": 3,
    "start_time": "2024-01-06T17:38:27.092Z"
   },
   {
    "duration": 9,
    "start_time": "2024-01-06T17:38:27.096Z"
   },
   {
    "duration": 4,
    "start_time": "2024-01-06T17:38:27.106Z"
   },
   {
    "duration": 6,
    "start_time": "2024-01-06T17:38:27.112Z"
   },
   {
    "duration": 26,
    "start_time": "2024-01-06T17:38:27.119Z"
   },
   {
    "duration": 37,
    "start_time": "2024-01-06T17:38:27.147Z"
   },
   {
    "duration": 9,
    "start_time": "2024-01-06T17:38:27.186Z"
   },
   {
    "duration": 3,
    "start_time": "2024-01-06T17:38:27.196Z"
   },
   {
    "duration": 14,
    "start_time": "2024-01-06T17:38:27.201Z"
   },
   {
    "duration": 42,
    "start_time": "2024-01-06T17:38:27.216Z"
   },
   {
    "duration": 16,
    "start_time": "2024-01-06T17:38:27.259Z"
   },
   {
    "duration": 3,
    "start_time": "2024-01-06T17:38:27.276Z"
   },
   {
    "duration": 38,
    "start_time": "2024-01-06T17:38:27.281Z"
   },
   {
    "duration": 6,
    "start_time": "2024-01-06T17:38:27.320Z"
   },
   {
    "duration": 21,
    "start_time": "2024-01-06T17:38:27.328Z"
   },
   {
    "duration": 14,
    "start_time": "2024-01-06T17:38:27.350Z"
   },
   {
    "duration": 1186,
    "start_time": "2024-01-06T17:38:27.366Z"
   },
   {
    "duration": 0,
    "start_time": "2024-01-06T17:38:28.554Z"
   },
   {
    "duration": 0,
    "start_time": "2024-01-06T17:38:28.555Z"
   },
   {
    "duration": 0,
    "start_time": "2024-01-06T17:38:28.556Z"
   },
   {
    "duration": 1218,
    "start_time": "2024-01-06T17:38:36.457Z"
   },
   {
    "duration": 9,
    "start_time": "2024-01-06T17:38:44.995Z"
   },
   {
    "duration": 13,
    "start_time": "2024-01-06T17:45:20.484Z"
   },
   {
    "duration": 10,
    "start_time": "2024-01-06T17:49:44.452Z"
   },
   {
    "duration": 7,
    "start_time": "2024-01-06T17:49:53.315Z"
   },
   {
    "duration": 7,
    "start_time": "2024-01-06T17:50:15.053Z"
   },
   {
    "duration": 7,
    "start_time": "2024-01-06T17:50:26.725Z"
   },
   {
    "duration": 11,
    "start_time": "2024-01-06T17:58:23.542Z"
   },
   {
    "duration": 12,
    "start_time": "2024-01-06T17:58:35.853Z"
   },
   {
    "duration": 11,
    "start_time": "2024-01-06T17:58:41.310Z"
   },
   {
    "duration": 11,
    "start_time": "2024-01-06T17:58:59.301Z"
   },
   {
    "duration": 1216,
    "start_time": "2024-01-06T17:59:40.943Z"
   },
   {
    "duration": 11,
    "start_time": "2024-01-06T17:59:52.284Z"
   },
   {
    "duration": 13,
    "start_time": "2024-01-06T18:02:14.574Z"
   },
   {
    "duration": 1382,
    "start_time": "2024-01-06T18:02:29.971Z"
   },
   {
    "duration": 1137,
    "start_time": "2024-01-06T18:05:05.022Z"
   },
   {
    "duration": 14,
    "start_time": "2024-01-06T18:05:51.968Z"
   },
   {
    "duration": 12,
    "start_time": "2024-01-06T18:08:23.471Z"
   },
   {
    "duration": 13,
    "start_time": "2024-01-06T18:08:41.437Z"
   },
   {
    "duration": 1158,
    "start_time": "2024-01-06T18:09:56.148Z"
   },
   {
    "duration": 1349,
    "start_time": "2024-01-06T18:10:30.467Z"
   },
   {
    "duration": 72,
    "start_time": "2024-01-06T18:11:54.820Z"
   },
   {
    "duration": 8,
    "start_time": "2024-01-06T18:12:01.028Z"
   },
   {
    "duration": 6,
    "start_time": "2024-01-06T18:12:27.067Z"
   },
   {
    "duration": 8,
    "start_time": "2024-01-06T18:12:33.954Z"
   },
   {
    "duration": 12,
    "start_time": "2024-01-06T18:14:55.522Z"
   },
   {
    "duration": 88,
    "start_time": "2024-01-06T18:17:07.061Z"
   },
   {
    "duration": 83,
    "start_time": "2024-01-06T18:17:28.713Z"
   },
   {
    "duration": 12,
    "start_time": "2024-01-06T18:18:00.553Z"
   },
   {
    "duration": 44,
    "start_time": "2024-01-06T22:19:36.795Z"
   },
   {
    "duration": 660,
    "start_time": "2024-01-06T22:19:45.966Z"
   },
   {
    "duration": 30,
    "start_time": "2024-01-06T22:19:46.629Z"
   },
   {
    "duration": 34,
    "start_time": "2024-01-06T22:19:46.660Z"
   },
   {
    "duration": 79,
    "start_time": "2024-01-06T22:19:46.695Z"
   },
   {
    "duration": 259,
    "start_time": "2024-01-06T22:19:46.775Z"
   },
   {
    "duration": 202,
    "start_time": "2024-01-06T22:19:47.035Z"
   },
   {
    "duration": 44,
    "start_time": "2024-01-06T22:19:47.239Z"
   },
   {
    "duration": 25,
    "start_time": "2024-01-06T22:19:47.284Z"
   },
   {
    "duration": 24,
    "start_time": "2024-01-06T22:19:47.310Z"
   },
   {
    "duration": 5,
    "start_time": "2024-01-06T22:19:47.336Z"
   },
   {
    "duration": 43,
    "start_time": "2024-01-06T22:19:47.342Z"
   },
   {
    "duration": 10,
    "start_time": "2024-01-06T22:19:47.386Z"
   },
   {
    "duration": 61,
    "start_time": "2024-01-06T22:19:47.397Z"
   },
   {
    "duration": 19,
    "start_time": "2024-01-06T22:19:47.460Z"
   },
   {
    "duration": 19,
    "start_time": "2024-01-06T22:19:47.481Z"
   },
   {
    "duration": 15,
    "start_time": "2024-01-06T22:19:47.501Z"
   },
   {
    "duration": 4,
    "start_time": "2024-01-06T22:19:47.517Z"
   },
   {
    "duration": 10,
    "start_time": "2024-01-06T22:19:47.522Z"
   },
   {
    "duration": 20,
    "start_time": "2024-01-06T22:19:47.533Z"
   },
   {
    "duration": 3,
    "start_time": "2024-01-06T22:19:47.554Z"
   },
   {
    "duration": 14,
    "start_time": "2024-01-06T22:19:47.558Z"
   },
   {
    "duration": 1245,
    "start_time": "2024-01-06T22:19:47.573Z"
   },
   {
    "duration": 0,
    "start_time": "2024-01-06T22:19:48.819Z"
   },
   {
    "duration": 0,
    "start_time": "2024-01-06T22:19:48.820Z"
   },
   {
    "duration": 0,
    "start_time": "2024-01-06T22:19:48.821Z"
   },
   {
    "duration": 1226,
    "start_time": "2024-01-06T22:20:06.603Z"
   },
   {
    "duration": 15,
    "start_time": "2024-01-06T22:20:23.794Z"
   },
   {
    "duration": 14,
    "start_time": "2024-01-06T22:22:45.459Z"
   },
   {
    "duration": 21,
    "start_time": "2024-01-06T22:23:21.342Z"
   },
   {
    "duration": 15,
    "start_time": "2024-01-06T22:24:19.953Z"
   },
   {
    "duration": 13,
    "start_time": "2024-01-06T22:25:15.757Z"
   },
   {
    "duration": 14,
    "start_time": "2024-01-06T22:29:21.240Z"
   },
   {
    "duration": 15,
    "start_time": "2024-01-06T22:30:28.845Z"
   },
   {
    "duration": 10,
    "start_time": "2024-01-06T22:30:55.220Z"
   },
   {
    "duration": 3,
    "start_time": "2024-01-06T22:57:57.054Z"
   },
   {
    "duration": 9,
    "start_time": "2024-01-06T22:58:07.458Z"
   },
   {
    "duration": 26,
    "start_time": "2024-01-06T22:58:22.402Z"
   },
   {
    "duration": 4,
    "start_time": "2024-01-06T22:58:53.604Z"
   },
   {
    "duration": 5,
    "start_time": "2024-01-06T22:59:24.122Z"
   },
   {
    "duration": 5,
    "start_time": "2024-01-06T23:00:02.774Z"
   },
   {
    "duration": 23,
    "start_time": "2024-01-06T23:08:45.303Z"
   },
   {
    "duration": 12,
    "start_time": "2024-01-06T23:09:34.479Z"
   },
   {
    "duration": 15,
    "start_time": "2024-01-06T23:09:50.015Z"
   },
   {
    "duration": 17,
    "start_time": "2024-01-06T23:10:32.989Z"
   },
   {
    "duration": 17,
    "start_time": "2024-01-06T23:11:25.987Z"
   },
   {
    "duration": 7,
    "start_time": "2024-01-06T23:27:45.604Z"
   },
   {
    "duration": 75,
    "start_time": "2024-01-06T23:28:56.733Z"
   },
   {
    "duration": 82,
    "start_time": "2024-01-06T23:29:29.044Z"
   },
   {
    "duration": 69,
    "start_time": "2024-01-06T23:30:21.971Z"
   },
   {
    "duration": 13,
    "start_time": "2024-01-06T23:30:22.041Z"
   },
   {
    "duration": 14,
    "start_time": "2024-01-06T23:30:22.055Z"
   },
   {
    "duration": 12,
    "start_time": "2024-01-06T23:30:22.071Z"
   },
   {
    "duration": 37,
    "start_time": "2024-01-06T23:30:22.084Z"
   },
   {
    "duration": 3,
    "start_time": "2024-01-06T23:30:22.123Z"
   },
   {
    "duration": 30,
    "start_time": "2024-01-06T23:30:22.127Z"
   },
   {
    "duration": 11,
    "start_time": "2024-01-06T23:30:22.158Z"
   },
   {
    "duration": 13,
    "start_time": "2024-01-06T23:30:22.170Z"
   },
   {
    "duration": 4,
    "start_time": "2024-01-06T23:30:22.184Z"
   },
   {
    "duration": 39,
    "start_time": "2024-01-06T23:30:22.190Z"
   },
   {
    "duration": 11,
    "start_time": "2024-01-06T23:30:22.230Z"
   },
   {
    "duration": 3,
    "start_time": "2024-01-06T23:30:22.242Z"
   },
   {
    "duration": 14,
    "start_time": "2024-01-06T23:30:22.246Z"
   },
   {
    "duration": 34,
    "start_time": "2024-01-06T23:30:22.261Z"
   },
   {
    "duration": 20,
    "start_time": "2024-01-06T23:30:22.296Z"
   },
   {
    "duration": 3,
    "start_time": "2024-01-06T23:30:22.317Z"
   },
   {
    "duration": 21,
    "start_time": "2024-01-06T23:30:22.321Z"
   },
   {
    "duration": 20,
    "start_time": "2024-01-06T23:30:22.343Z"
   },
   {
    "duration": 6,
    "start_time": "2024-01-06T23:30:22.364Z"
   },
   {
    "duration": 10,
    "start_time": "2024-01-06T23:30:22.371Z"
   },
   {
    "duration": 19,
    "start_time": "2024-01-06T23:30:22.382Z"
   },
   {
    "duration": 119,
    "start_time": "2024-01-06T23:30:22.402Z"
   },
   {
    "duration": 0,
    "start_time": "2024-01-06T23:30:22.522Z"
   },
   {
    "duration": 0,
    "start_time": "2024-01-06T23:30:22.523Z"
   },
   {
    "duration": 81,
    "start_time": "2024-01-06T23:30:27.740Z"
   },
   {
    "duration": 7,
    "start_time": "2024-01-06T23:31:48.924Z"
   },
   {
    "duration": 11,
    "start_time": "2024-01-06T23:31:57.229Z"
   },
   {
    "duration": 11,
    "start_time": "2024-01-06T23:34:15.449Z"
   },
   {
    "duration": 9,
    "start_time": "2024-01-06T23:34:33.220Z"
   },
   {
    "duration": 9,
    "start_time": "2024-01-06T23:35:08.764Z"
   },
   {
    "duration": 12,
    "start_time": "2024-01-06T23:35:33.228Z"
   },
   {
    "duration": 14,
    "start_time": "2024-01-06T23:38:16.822Z"
   },
   {
    "duration": 18,
    "start_time": "2024-01-06T23:38:39.851Z"
   },
   {
    "duration": 13,
    "start_time": "2024-01-06T23:44:30.059Z"
   },
   {
    "duration": 996,
    "start_time": "2024-01-06T23:46:57.790Z"
   },
   {
    "duration": 19,
    "start_time": "2024-01-06T23:58:01.218Z"
   },
   {
    "duration": 1299,
    "start_time": "2024-01-07T00:06:57.646Z"
   },
   {
    "duration": 27,
    "start_time": "2024-01-07T00:07:48.950Z"
   },
   {
    "duration": 27,
    "start_time": "2024-01-07T00:09:27.939Z"
   },
   {
    "duration": 13,
    "start_time": "2024-01-07T00:15:48.614Z"
   },
   {
    "duration": 21,
    "start_time": "2024-01-07T00:19:39.742Z"
   },
   {
    "duration": 448,
    "start_time": "2024-01-07T07:59:53.957Z"
   },
   {
    "duration": 19,
    "start_time": "2024-01-07T07:59:54.407Z"
   },
   {
    "duration": 14,
    "start_time": "2024-01-07T07:59:54.428Z"
   },
   {
    "duration": 18,
    "start_time": "2024-01-07T07:59:54.444Z"
   },
   {
    "duration": 50,
    "start_time": "2024-01-07T07:59:54.463Z"
   },
   {
    "duration": 3,
    "start_time": "2024-01-07T07:59:54.514Z"
   },
   {
    "duration": 17,
    "start_time": "2024-01-07T07:59:54.518Z"
   },
   {
    "duration": 14,
    "start_time": "2024-01-07T07:59:54.537Z"
   },
   {
    "duration": 26,
    "start_time": "2024-01-07T07:59:54.552Z"
   },
   {
    "duration": 26,
    "start_time": "2024-01-07T07:59:54.581Z"
   },
   {
    "duration": 48,
    "start_time": "2024-01-07T07:59:54.609Z"
   },
   {
    "duration": 10,
    "start_time": "2024-01-07T07:59:54.658Z"
   },
   {
    "duration": 8,
    "start_time": "2024-01-07T07:59:54.669Z"
   },
   {
    "duration": 19,
    "start_time": "2024-01-07T07:59:54.678Z"
   },
   {
    "duration": 22,
    "start_time": "2024-01-07T07:59:54.698Z"
   },
   {
    "duration": 14,
    "start_time": "2024-01-07T07:59:54.721Z"
   },
   {
    "duration": 3,
    "start_time": "2024-01-07T07:59:54.737Z"
   },
   {
    "duration": 11,
    "start_time": "2024-01-07T07:59:54.741Z"
   },
   {
    "duration": 12,
    "start_time": "2024-01-07T07:59:54.753Z"
   },
   {
    "duration": 11,
    "start_time": "2024-01-07T07:59:54.767Z"
   },
   {
    "duration": 19,
    "start_time": "2024-01-07T07:59:54.779Z"
   },
   {
    "duration": 19,
    "start_time": "2024-01-07T07:59:54.800Z"
   },
   {
    "duration": 84,
    "start_time": "2024-01-07T07:59:54.820Z"
   },
   {
    "duration": 0,
    "start_time": "2024-01-07T07:59:54.905Z"
   },
   {
    "duration": 0,
    "start_time": "2024-01-07T07:59:54.907Z"
   },
   {
    "duration": 11,
    "start_time": "2024-01-07T08:00:32.740Z"
   },
   {
    "duration": 26,
    "start_time": "2024-01-07T08:00:32.753Z"
   },
   {
    "duration": 45,
    "start_time": "2024-01-07T10:19:02.805Z"
   },
   {
    "duration": 658,
    "start_time": "2024-01-07T10:19:14.315Z"
   },
   {
    "duration": 23,
    "start_time": "2024-01-07T10:19:14.975Z"
   },
   {
    "duration": 19,
    "start_time": "2024-01-07T10:19:14.999Z"
   },
   {
    "duration": 45,
    "start_time": "2024-01-07T10:19:15.020Z"
   },
   {
    "duration": 65,
    "start_time": "2024-01-07T10:19:15.067Z"
   },
   {
    "duration": 4,
    "start_time": "2024-01-07T10:19:15.133Z"
   },
   {
    "duration": 26,
    "start_time": "2024-01-07T10:19:15.138Z"
   },
   {
    "duration": 18,
    "start_time": "2024-01-07T10:19:15.166Z"
   },
   {
    "duration": 25,
    "start_time": "2024-01-07T10:19:15.185Z"
   },
   {
    "duration": 19,
    "start_time": "2024-01-07T10:19:15.212Z"
   },
   {
    "duration": 46,
    "start_time": "2024-01-07T10:19:15.232Z"
   },
   {
    "duration": 10,
    "start_time": "2024-01-07T10:19:15.279Z"
   },
   {
    "duration": 10,
    "start_time": "2024-01-07T10:19:15.290Z"
   },
   {
    "duration": 24,
    "start_time": "2024-01-07T10:19:15.301Z"
   },
   {
    "duration": 27,
    "start_time": "2024-01-07T10:19:15.326Z"
   },
   {
    "duration": 16,
    "start_time": "2024-01-07T10:19:15.355Z"
   },
   {
    "duration": 4,
    "start_time": "2024-01-07T10:19:15.372Z"
   },
   {
    "duration": 15,
    "start_time": "2024-01-07T10:19:15.377Z"
   },
   {
    "duration": 5,
    "start_time": "2024-01-07T10:19:15.393Z"
   },
   {
    "duration": 6,
    "start_time": "2024-01-07T10:19:15.400Z"
   },
   {
    "duration": 15,
    "start_time": "2024-01-07T10:19:15.407Z"
   },
   {
    "duration": 34,
    "start_time": "2024-01-07T10:19:15.423Z"
   },
   {
    "duration": 57,
    "start_time": "2024-01-07T10:19:15.458Z"
   },
   {
    "duration": 0,
    "start_time": "2024-01-07T10:19:15.516Z"
   },
   {
    "duration": 0,
    "start_time": "2024-01-07T10:19:15.517Z"
   },
   {
    "duration": 24,
    "start_time": "2024-01-07T10:34:36.972Z"
   },
   {
    "duration": 67,
    "start_time": "2024-01-07T10:37:03.560Z"
   },
   {
    "duration": 19,
    "start_time": "2024-01-07T10:37:15.771Z"
   },
   {
    "duration": 85,
    "start_time": "2024-01-07T10:37:29.992Z"
   },
   {
    "duration": 71,
    "start_time": "2024-01-07T10:37:41.262Z"
   },
   {
    "duration": 138,
    "start_time": "2024-01-07T10:37:42.464Z"
   },
   {
    "duration": 87,
    "start_time": "2024-01-07T10:37:43.193Z"
   },
   {
    "duration": 64,
    "start_time": "2024-01-07T10:37:44.177Z"
   },
   {
    "duration": 70,
    "start_time": "2024-01-07T10:37:45.189Z"
   },
   {
    "duration": 70,
    "start_time": "2024-01-07T10:37:45.878Z"
   },
   {
    "duration": 68,
    "start_time": "2024-01-07T10:38:48.577Z"
   },
   {
    "duration": 69,
    "start_time": "2024-01-07T10:38:50.406Z"
   },
   {
    "duration": 69,
    "start_time": "2024-01-07T10:38:57.896Z"
   },
   {
    "duration": 104,
    "start_time": "2024-01-07T10:49:08.390Z"
   },
   {
    "duration": 79,
    "start_time": "2024-01-07T10:49:19.138Z"
   },
   {
    "duration": 22,
    "start_time": "2024-01-07T10:50:56.014Z"
   },
   {
    "duration": 25,
    "start_time": "2024-01-07T10:51:16.065Z"
   },
   {
    "duration": 27,
    "start_time": "2024-01-07T10:52:23.369Z"
   },
   {
    "duration": 16,
    "start_time": "2024-01-07T10:52:53.779Z"
   },
   {
    "duration": 16,
    "start_time": "2024-01-07T10:53:02.564Z"
   },
   {
    "duration": 75,
    "start_time": "2024-01-07T10:53:12.267Z"
   },
   {
    "duration": 15,
    "start_time": "2024-01-07T10:53:12.344Z"
   },
   {
    "duration": 23,
    "start_time": "2024-01-07T10:53:12.361Z"
   },
   {
    "duration": 12,
    "start_time": "2024-01-07T10:53:12.386Z"
   },
   {
    "duration": 35,
    "start_time": "2024-01-07T10:53:12.400Z"
   },
   {
    "duration": 3,
    "start_time": "2024-01-07T10:53:12.436Z"
   },
   {
    "duration": 25,
    "start_time": "2024-01-07T10:53:12.440Z"
   },
   {
    "duration": 3,
    "start_time": "2024-01-07T10:53:12.467Z"
   },
   {
    "duration": 9,
    "start_time": "2024-01-07T10:53:12.472Z"
   },
   {
    "duration": 13,
    "start_time": "2024-01-07T10:53:12.484Z"
   },
   {
    "duration": 35,
    "start_time": "2024-01-07T10:53:12.498Z"
   },
   {
    "duration": 10,
    "start_time": "2024-01-07T10:53:12.534Z"
   },
   {
    "duration": 20,
    "start_time": "2024-01-07T10:53:12.545Z"
   },
   {
    "duration": 11,
    "start_time": "2024-01-07T10:53:12.566Z"
   },
   {
    "duration": 24,
    "start_time": "2024-01-07T10:53:12.579Z"
   },
   {
    "duration": 17,
    "start_time": "2024-01-07T10:53:12.605Z"
   },
   {
    "duration": 3,
    "start_time": "2024-01-07T10:53:12.623Z"
   },
   {
    "duration": 18,
    "start_time": "2024-01-07T10:53:12.627Z"
   },
   {
    "duration": 14,
    "start_time": "2024-01-07T10:53:12.651Z"
   },
   {
    "duration": 4,
    "start_time": "2024-01-07T10:53:12.667Z"
   },
   {
    "duration": 8,
    "start_time": "2024-01-07T10:53:12.737Z"
   },
   {
    "duration": 33,
    "start_time": "2024-01-07T10:53:12.747Z"
   },
   {
    "duration": 31,
    "start_time": "2024-01-07T10:53:12.781Z"
   },
   {
    "duration": 15,
    "start_time": "2024-01-07T10:53:12.814Z"
   },
   {
    "duration": 42,
    "start_time": "2024-01-07T10:53:12.831Z"
   },
   {
    "duration": 29,
    "start_time": "2024-01-07T10:53:51.690Z"
   },
   {
    "duration": 72,
    "start_time": "2024-01-07T11:34:49.221Z"
   },
   {
    "duration": 14,
    "start_time": "2024-01-07T11:34:49.295Z"
   },
   {
    "duration": 14,
    "start_time": "2024-01-07T11:34:49.310Z"
   },
   {
    "duration": 8,
    "start_time": "2024-01-07T11:34:49.326Z"
   },
   {
    "duration": 50,
    "start_time": "2024-01-07T11:34:49.336Z"
   },
   {
    "duration": 3,
    "start_time": "2024-01-07T11:34:49.387Z"
   },
   {
    "duration": 9,
    "start_time": "2024-01-07T11:34:49.391Z"
   },
   {
    "duration": 4,
    "start_time": "2024-01-07T11:34:49.401Z"
   },
   {
    "duration": 5,
    "start_time": "2024-01-07T11:34:49.406Z"
   },
   {
    "duration": 3,
    "start_time": "2024-01-07T11:34:49.413Z"
   },
   {
    "duration": 66,
    "start_time": "2024-01-07T11:34:49.418Z"
   },
   {
    "duration": 10,
    "start_time": "2024-01-07T11:34:49.485Z"
   },
   {
    "duration": 3,
    "start_time": "2024-01-07T11:34:49.497Z"
   },
   {
    "duration": 14,
    "start_time": "2024-01-07T11:34:49.501Z"
   },
   {
    "duration": 17,
    "start_time": "2024-01-07T11:34:49.516Z"
   },
   {
    "duration": 34,
    "start_time": "2024-01-07T11:34:49.535Z"
   },
   {
    "duration": 3,
    "start_time": "2024-01-07T11:34:49.571Z"
   },
   {
    "duration": 22,
    "start_time": "2024-01-07T11:34:49.578Z"
   },
   {
    "duration": 7,
    "start_time": "2024-01-07T11:34:49.602Z"
   },
   {
    "duration": 3,
    "start_time": "2024-01-07T11:34:49.610Z"
   },
   {
    "duration": 9,
    "start_time": "2024-01-07T11:34:49.615Z"
   },
   {
    "duration": 41,
    "start_time": "2024-01-07T11:34:49.625Z"
   },
   {
    "duration": 30,
    "start_time": "2024-01-07T11:34:49.667Z"
   },
   {
    "duration": 14,
    "start_time": "2024-01-07T11:34:49.698Z"
   },
   {
    "duration": 15,
    "start_time": "2024-01-07T11:34:49.713Z"
   },
   {
    "duration": 73,
    "start_time": "2024-01-07T11:39:23.314Z"
   },
   {
    "duration": 13,
    "start_time": "2024-01-07T11:39:23.389Z"
   },
   {
    "duration": 28,
    "start_time": "2024-01-07T11:39:23.404Z"
   },
   {
    "duration": 11,
    "start_time": "2024-01-07T11:39:23.433Z"
   },
   {
    "duration": 41,
    "start_time": "2024-01-07T11:39:23.445Z"
   },
   {
    "duration": 3,
    "start_time": "2024-01-07T11:39:23.488Z"
   },
   {
    "duration": 35,
    "start_time": "2024-01-07T11:39:23.492Z"
   },
   {
    "duration": 9,
    "start_time": "2024-01-07T11:39:23.528Z"
   },
   {
    "duration": 7,
    "start_time": "2024-01-07T11:39:23.538Z"
   },
   {
    "duration": 7,
    "start_time": "2024-01-07T11:39:23.547Z"
   },
   {
    "duration": 33,
    "start_time": "2024-01-07T11:39:23.555Z"
   },
   {
    "duration": 10,
    "start_time": "2024-01-07T11:39:23.589Z"
   },
   {
    "duration": 14,
    "start_time": "2024-01-07T11:39:23.600Z"
   },
   {
    "duration": 18,
    "start_time": "2024-01-07T11:39:23.616Z"
   },
   {
    "duration": 19,
    "start_time": "2024-01-07T11:39:23.635Z"
   },
   {
    "duration": 18,
    "start_time": "2024-01-07T11:39:23.656Z"
   },
   {
    "duration": 3,
    "start_time": "2024-01-07T11:39:23.676Z"
   },
   {
    "duration": 17,
    "start_time": "2024-01-07T11:39:23.680Z"
   },
   {
    "duration": 5,
    "start_time": "2024-01-07T11:39:23.699Z"
   },
   {
    "duration": 8,
    "start_time": "2024-01-07T11:39:23.705Z"
   },
   {
    "duration": 18,
    "start_time": "2024-01-07T11:39:23.715Z"
   },
   {
    "duration": 45,
    "start_time": "2024-01-07T11:39:23.734Z"
   },
   {
    "duration": 33,
    "start_time": "2024-01-07T11:39:23.781Z"
   },
   {
    "duration": 15,
    "start_time": "2024-01-07T11:39:23.815Z"
   },
   {
    "duration": 35,
    "start_time": "2024-01-07T11:39:23.831Z"
   },
   {
    "duration": 703,
    "start_time": "2024-01-08T05:50:47.857Z"
   },
   {
    "duration": 22,
    "start_time": "2024-01-08T05:50:48.561Z"
   },
   {
    "duration": 15,
    "start_time": "2024-01-08T05:50:48.585Z"
   },
   {
    "duration": 11,
    "start_time": "2024-01-08T05:50:48.602Z"
   },
   {
    "duration": 46,
    "start_time": "2024-01-08T05:50:48.614Z"
   },
   {
    "duration": 3,
    "start_time": "2024-01-08T05:50:48.662Z"
   },
   {
    "duration": 18,
    "start_time": "2024-01-08T05:50:48.666Z"
   },
   {
    "duration": 4,
    "start_time": "2024-01-08T05:50:48.686Z"
   },
   {
    "duration": 6,
    "start_time": "2024-01-08T05:50:48.691Z"
   },
   {
    "duration": 5,
    "start_time": "2024-01-08T05:50:48.699Z"
   },
   {
    "duration": 54,
    "start_time": "2024-01-08T05:50:48.705Z"
   },
   {
    "duration": 9,
    "start_time": "2024-01-08T05:50:48.761Z"
   },
   {
    "duration": 5,
    "start_time": "2024-01-08T05:50:48.771Z"
   },
   {
    "duration": 19,
    "start_time": "2024-01-08T05:50:48.777Z"
   },
   {
    "duration": 17,
    "start_time": "2024-01-08T05:50:48.797Z"
   },
   {
    "duration": 30,
    "start_time": "2024-01-08T05:50:48.816Z"
   },
   {
    "duration": 3,
    "start_time": "2024-01-08T05:50:48.847Z"
   },
   {
    "duration": 12,
    "start_time": "2024-01-08T05:50:48.852Z"
   },
   {
    "duration": 5,
    "start_time": "2024-01-08T05:50:48.865Z"
   },
   {
    "duration": 4,
    "start_time": "2024-01-08T05:50:48.871Z"
   },
   {
    "duration": 34,
    "start_time": "2024-01-08T05:50:48.877Z"
   },
   {
    "duration": 28,
    "start_time": "2024-01-08T05:50:48.912Z"
   },
   {
    "duration": 28,
    "start_time": "2024-01-08T05:50:48.942Z"
   },
   {
    "duration": 13,
    "start_time": "2024-01-08T05:50:48.971Z"
   },
   {
    "duration": 25,
    "start_time": "2024-01-08T05:50:48.986Z"
   }
  ],
  "colab": {
   "name": "dpp_template_part2.ipynb",
   "provenance": []
  },
  "kernelspec": {
   "display_name": "Python 3 (ipykernel)",
   "language": "python",
   "name": "python3"
  },
  "language_info": {
   "codemirror_mode": {
    "name": "ipython",
    "version": 3
   },
   "file_extension": ".py",
   "mimetype": "text/x-python",
   "name": "python",
   "nbconvert_exporter": "python",
   "pygments_lexer": "ipython3",
   "version": "3.9.19"
  },
  "toc": {
   "base_numbering": 1,
   "nav_menu": {},
   "number_sections": true,
   "sideBar": true,
   "skip_h1_title": true,
   "title_cell": "Table of Contents",
   "title_sidebar": "Contents",
   "toc_cell": false,
   "toc_position": {},
   "toc_section_display": true,
   "toc_window_display": true
  }
 },
 "nbformat": 4,
 "nbformat_minor": 5
}
